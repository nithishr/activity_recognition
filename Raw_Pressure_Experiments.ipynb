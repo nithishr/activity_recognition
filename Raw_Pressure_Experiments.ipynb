{
 "cells": [
  {
   "cell_type": "code",
   "execution_count": 1,
   "metadata": {
    "collapsed": true
   },
   "outputs": [],
   "source": [
    "import os\n",
    "import pandas as pd\n",
    "import numpy as np\n",
    "import matplotlib.pyplot as plt\n",
    "%matplotlib inline"
   ]
  },
  {
   "cell_type": "code",
   "execution_count": null,
   "metadata": {
    "collapsed": true
   },
   "outputs": [],
   "source": [
    "files_input = ['Activity-Data/Elevator & Stair/1/1Activity.csv', 'Activity-Data/Elevator & Stair/2/2Activity.csv',\n",
    "         'Activity-Data/Elevator & Stair/3/3Activity.csv', 'Activity-Data/Elevator & Stair/4/4Activity.csv', \n",
    "         'Activity-Data/Elevator & Stair/5/5Activity.csv','Activity-Data/Elevator & Stair/6/6Activity.csv', \n",
    "         'Activity-Data/Elevator & Stair/7/7Activity.csv', 'Activity-Data/Elevator & Stair/8/8Activity.csv', \n",
    "         'Activity-Data/Elevator & Stair/9/9Activity.csv']"
   ]
  },
  {
   "cell_type": "code",
   "execution_count": 56,
   "metadata": {
    "collapsed": true
   },
   "outputs": [],
   "source": [
    "input_pressure_file = 'Activity-Data/Elevator & Stair/2/2Pressure.csv'"
   ]
  },
  {
   "cell_type": "code",
   "execution_count": 57,
   "metadata": {},
   "outputs": [
    {
     "name": "stdout",
     "output_type": "stream",
     "text": [
      "390\n"
     ]
    },
    {
     "data": {
      "text/html": [
       "<div>\n",
       "<style>\n",
       "    .dataframe thead tr:only-child th {\n",
       "        text-align: right;\n",
       "    }\n",
       "\n",
       "    .dataframe thead th {\n",
       "        text-align: left;\n",
       "    }\n",
       "\n",
       "    .dataframe tbody tr th {\n",
       "        vertical-align: top;\n",
       "    }\n",
       "</style>\n",
       "<table border=\"1\" class=\"dataframe\">\n",
       "  <thead>\n",
       "    <tr style=\"text-align: right;\">\n",
       "      <th></th>\n",
       "      <th>timestamp</th>\n",
       "      <th>pressure</th>\n",
       "      <th>UUID</th>\n",
       "    </tr>\n",
       "  </thead>\n",
       "  <tbody>\n",
       "    <tr>\n",
       "      <th>0</th>\n",
       "      <td>1498222549723</td>\n",
       "      <td>958.629150</td>\n",
       "      <td>80ec3f676e17debf</td>\n",
       "    </tr>\n",
       "    <tr>\n",
       "      <th>1</th>\n",
       "      <td>1498222605646</td>\n",
       "      <td>958.629395</td>\n",
       "      <td>80ec3f676e17debf</td>\n",
       "    </tr>\n",
       "    <tr>\n",
       "      <th>2</th>\n",
       "      <td>1498222606005</td>\n",
       "      <td>958.531982</td>\n",
       "      <td>80ec3f676e17debf</td>\n",
       "    </tr>\n",
       "    <tr>\n",
       "      <th>3</th>\n",
       "      <td>1498222606185</td>\n",
       "      <td>958.483643</td>\n",
       "      <td>80ec3f676e17debf</td>\n",
       "    </tr>\n",
       "    <tr>\n",
       "      <th>4</th>\n",
       "      <td>1498222606379</td>\n",
       "      <td>958.430908</td>\n",
       "      <td>80ec3f676e17debf</td>\n",
       "    </tr>\n",
       "  </tbody>\n",
       "</table>\n",
       "</div>"
      ],
      "text/plain": [
       "       timestamp    pressure             UUID \n",
       "0  1498222549723  958.629150  80ec3f676e17debf\n",
       "1  1498222605646  958.629395  80ec3f676e17debf\n",
       "2  1498222606005  958.531982  80ec3f676e17debf\n",
       "3  1498222606185  958.483643  80ec3f676e17debf\n",
       "4  1498222606379  958.430908  80ec3f676e17debf"
      ]
     },
     "execution_count": 57,
     "metadata": {},
     "output_type": "execute_result"
    }
   ],
   "source": [
    "raw_pressure_values = pd.read_csv(input_pressure_file, header=0, delimiter=',')\n",
    "print(len(raw_pressure_values))\n",
    "raw_pressure_values.head()"
   ]
  },
  {
   "cell_type": "code",
   "execution_count": 41,
   "metadata": {},
   "outputs": [
    {
     "data": {
      "text/plain": [
       "(pandas.core.series.Series, pandas.core.series.Series)"
      ]
     },
     "execution_count": 41,
     "metadata": {},
     "output_type": "execute_result"
    }
   ],
   "source": [
    "type(raw_pressure_values['timestamp']), type(raw_pressure_values[' pressure'])"
   ]
  },
  {
   "cell_type": "code",
   "execution_count": 60,
   "metadata": {},
   "outputs": [
    {
     "data": {
      "text/plain": [
       "(279,)"
      ]
     },
     "execution_count": 60,
     "metadata": {},
     "output_type": "execute_result"
    }
   ],
   "source": [
    "pressure = raw_pressure_values[' pressure'].values\n",
    "pressure.shape"
   ]
  },
  {
   "cell_type": "code",
   "execution_count": 61,
   "metadata": {},
   "outputs": [
    {
     "data": {
      "text/plain": [
       "(279,)"
      ]
     },
     "execution_count": 61,
     "metadata": {},
     "output_type": "execute_result"
    }
   ],
   "source": [
    "ts = raw_pressure_values['timestamp'].values\n",
    "ts.shape"
   ]
  },
  {
   "cell_type": "markdown",
   "metadata": {},
   "source": [
    "## Derivative of Raw pressure values"
   ]
  },
  {
   "cell_type": "code",
   "execution_count": 62,
   "metadata": {
    "collapsed": true
   },
   "outputs": [],
   "source": [
    "derivative = np.gradient(pressure,ts)"
   ]
  },
  {
   "cell_type": "code",
   "execution_count": 63,
   "metadata": {
    "scrolled": true
   },
   "outputs": [
    {
     "data": {
      "text/plain": [
       "<matplotlib.lines.Line2D at 0x7fc50ca3f320>"
      ]
     },
     "execution_count": 63,
     "metadata": {},
     "output_type": "execute_result"
    },
    {
     "data": {
      "image/png": "[encoded data removed]",
      "text/plain": [
       "<matplotlib.figure.Figure at 0x7fc50ca3f390>"
      ]
     },
     "metadata": {},
     "output_type": "display_data"
    }
   ],
   "source": [
    "plt.plot(derivative)\n",
    "plt.axhline(y=0,color='r')"
   ]
  },
  {
   "cell_type": "code",
   "execution_count": 46,
   "metadata": {
    "collapsed": true
   },
   "outputs": [],
   "source": [
    "gradient_pd = pd.DataFrame(derivative)"
   ]
  },
  {
   "cell_type": "code",
   "execution_count": 25,
   "metadata": {},
   "outputs": [
    {
     "data": {
      "text/plain": [
       "(          0\n",
       " 0 -0.000247\n",
       " 1 -0.000244\n",
       " 2 -0.000249\n",
       " 3 -0.000257\n",
       " 4 -0.000234,             0\n",
       " 398 -0.000046\n",
       " 399 -0.000093\n",
       " 400 -0.000016\n",
       " 401 -0.000002\n",
       " 402 -0.000033, 403)"
      ]
     },
     "execution_count": 25,
     "metadata": {},
     "output_type": "execute_result"
    }
   ],
   "source": [
    "gradient_pd.head(), gradient_pd.tail(), len(gradient_pd) "
   ]
  },
  {
   "cell_type": "code",
   "execution_count": 26,
   "metadata": {},
   "outputs": [
    {
     "data": {
      "text/plain": [
       "array([[<matplotlib.axes._subplots.AxesSubplot object at 0x7fc50d027a20>]], dtype=object)"
      ]
     },
     "execution_count": 26,
     "metadata": {},
     "output_type": "execute_result"
    },
    {
     "data": {
      "image/png": "[encoded data removed]",
      "text/plain": [
       "<matplotlib.figure.Figure at 0x7fc50d0521d0>"
      ]
     },
     "metadata": {},
     "output_type": "display_data"
    }
   ],
   "source": [
    "gradient_pd.hist()"
   ]
  },
  {
   "cell_type": "markdown",
   "metadata": {},
   "source": [
    "## Labelling on Raw Derivatives"
   ]
  },
  {
   "cell_type": "code",
   "execution_count": 27,
   "metadata": {
    "collapsed": true
   },
   "outputs": [],
   "source": [
    "def identify_transition(row):\n",
    "    if row[0] > 0:\n",
    "        return 'walking upstairs'\n",
    "    elif row[0] == 0:\n",
    "        return 'walking'\n",
    "    else:\n",
    "        return 'walking downstairs'"
   ]
  },
  {
   "cell_type": "code",
   "execution_count": 47,
   "metadata": {
    "collapsed": true
   },
   "outputs": [],
   "source": [
    "gradient_pd['transition'] = gradient_pd.apply(identify_transition, axis=1)\n"
   ]
  },
  {
   "cell_type": "code",
   "execution_count": 48,
   "metadata": {},
   "outputs": [
    {
     "data": {
      "text/html": [
       "<div>\n",
       "<style>\n",
       "    .dataframe thead tr:only-child th {\n",
       "        text-align: right;\n",
       "    }\n",
       "\n",
       "    .dataframe thead th {\n",
       "        text-align: left;\n",
       "    }\n",
       "\n",
       "    .dataframe tbody tr th {\n",
       "        vertical-align: top;\n",
       "    }\n",
       "</style>\n",
       "<table border=\"1\" class=\"dataframe\">\n",
       "  <thead>\n",
       "    <tr style=\"text-align: right;\">\n",
       "      <th></th>\n",
       "      <th>0</th>\n",
       "      <th>transition</th>\n",
       "    </tr>\n",
       "  </thead>\n",
       "  <tbody>\n",
       "    <tr>\n",
       "      <th>0</th>\n",
       "      <td>-0.000247</td>\n",
       "      <td>walking downstairs</td>\n",
       "    </tr>\n",
       "    <tr>\n",
       "      <th>1</th>\n",
       "      <td>-0.000244</td>\n",
       "      <td>walking downstairs</td>\n",
       "    </tr>\n",
       "    <tr>\n",
       "      <th>2</th>\n",
       "      <td>-0.000249</td>\n",
       "      <td>walking downstairs</td>\n",
       "    </tr>\n",
       "    <tr>\n",
       "      <th>3</th>\n",
       "      <td>-0.000257</td>\n",
       "      <td>walking downstairs</td>\n",
       "    </tr>\n",
       "    <tr>\n",
       "      <th>4</th>\n",
       "      <td>-0.000234</td>\n",
       "      <td>walking downstairs</td>\n",
       "    </tr>\n",
       "  </tbody>\n",
       "</table>\n",
       "</div>"
      ],
      "text/plain": [
       "          0          transition\n",
       "0 -0.000247  walking downstairs\n",
       "1 -0.000244  walking downstairs\n",
       "2 -0.000249  walking downstairs\n",
       "3 -0.000257  walking downstairs\n",
       "4 -0.000234  walking downstairs"
      ]
     },
     "execution_count": 48,
     "metadata": {},
     "output_type": "execute_result"
    }
   ],
   "source": [
    "gradient_pd.head()"
   ]
  },
  {
   "cell_type": "code",
   "execution_count": 49,
   "metadata": {},
   "outputs": [
    {
     "data": {
      "text/plain": [
       "walking upstairs      227\n",
       "walking downstairs    176\n",
       "Name: transition, dtype: int64"
      ]
     },
     "execution_count": 49,
     "metadata": {},
     "output_type": "execute_result"
    }
   ],
   "source": [
    "pd.value_counts(gradient_pd['transition'])"
   ]
  },
  {
   "cell_type": "code",
   "execution_count": 50,
   "metadata": {
    "collapsed": true
   },
   "outputs": [],
   "source": [
    "gradient_pd = pd.concat([gradient_pd[0], gradient_pd['transition'], raw_pressure_values['timestamp']], axis=1)"
   ]
  },
  {
   "cell_type": "code",
   "execution_count": 51,
   "metadata": {},
   "outputs": [
    {
     "data": {
      "text/html": [
       "<div>\n",
       "<style>\n",
       "    .dataframe thead tr:only-child th {\n",
       "        text-align: right;\n",
       "    }\n",
       "\n",
       "    .dataframe thead th {\n",
       "        text-align: left;\n",
       "    }\n",
       "\n",
       "    .dataframe tbody tr th {\n",
       "        vertical-align: top;\n",
       "    }\n",
       "</style>\n",
       "<table border=\"1\" class=\"dataframe\">\n",
       "  <thead>\n",
       "    <tr style=\"text-align: right;\">\n",
       "      <th></th>\n",
       "      <th>0</th>\n",
       "      <th>transition</th>\n",
       "      <th>timestamp</th>\n",
       "    </tr>\n",
       "  </thead>\n",
       "  <tbody>\n",
       "    <tr>\n",
       "      <th>0</th>\n",
       "      <td>-0.000247</td>\n",
       "      <td>walking downstairs</td>\n",
       "      <td>1498222476815</td>\n",
       "    </tr>\n",
       "    <tr>\n",
       "      <th>1</th>\n",
       "      <td>-0.000244</td>\n",
       "      <td>walking downstairs</td>\n",
       "      <td>1498222477172</td>\n",
       "    </tr>\n",
       "    <tr>\n",
       "      <th>2</th>\n",
       "      <td>-0.000249</td>\n",
       "      <td>walking downstairs</td>\n",
       "      <td>1498222477362</td>\n",
       "    </tr>\n",
       "    <tr>\n",
       "      <th>3</th>\n",
       "      <td>-0.000257</td>\n",
       "      <td>walking downstairs</td>\n",
       "      <td>1498222477534</td>\n",
       "    </tr>\n",
       "    <tr>\n",
       "      <th>4</th>\n",
       "      <td>-0.000234</td>\n",
       "      <td>walking downstairs</td>\n",
       "      <td>1498222477715</td>\n",
       "    </tr>\n",
       "  </tbody>\n",
       "</table>\n",
       "</div>"
      ],
      "text/plain": [
       "          0          transition      timestamp\n",
       "0 -0.000247  walking downstairs  1498222476815\n",
       "1 -0.000244  walking downstairs  1498222477172\n",
       "2 -0.000249  walking downstairs  1498222477362\n",
       "3 -0.000257  walking downstairs  1498222477534\n",
       "4 -0.000234  walking downstairs  1498222477715"
      ]
     },
     "execution_count": 51,
     "metadata": {},
     "output_type": "execute_result"
    }
   ],
   "source": [
    "gradient_pd.head()"
   ]
  },
  {
   "cell_type": "code",
   "execution_count": 52,
   "metadata": {},
   "outputs": [
    {
     "data": {
      "text/html": [
       "<div>\n",
       "<style>\n",
       "    .dataframe thead tr:only-child th {\n",
       "        text-align: right;\n",
       "    }\n",
       "\n",
       "    .dataframe thead th {\n",
       "        text-align: left;\n",
       "    }\n",
       "\n",
       "    .dataframe tbody tr th {\n",
       "        vertical-align: top;\n",
       "    }\n",
       "</style>\n",
       "<table border=\"1\" class=\"dataframe\">\n",
       "  <thead>\n",
       "    <tr style=\"text-align: right;\">\n",
       "      <th></th>\n",
       "      <th>0</th>\n",
       "      <th>transition</th>\n",
       "      <th>timestamp</th>\n",
       "    </tr>\n",
       "  </thead>\n",
       "  <tbody>\n",
       "    <tr>\n",
       "      <th>398</th>\n",
       "      <td>-0.000046</td>\n",
       "      <td>walking downstairs</td>\n",
       "      <td>1498222549013</td>\n",
       "    </tr>\n",
       "    <tr>\n",
       "      <th>399</th>\n",
       "      <td>-0.000093</td>\n",
       "      <td>walking downstairs</td>\n",
       "      <td>1498222549179</td>\n",
       "    </tr>\n",
       "    <tr>\n",
       "      <th>400</th>\n",
       "      <td>-0.000016</td>\n",
       "      <td>walking downstairs</td>\n",
       "      <td>1498222549358</td>\n",
       "    </tr>\n",
       "    <tr>\n",
       "      <th>401</th>\n",
       "      <td>-0.000002</td>\n",
       "      <td>walking downstairs</td>\n",
       "      <td>1498222549539</td>\n",
       "    </tr>\n",
       "    <tr>\n",
       "      <th>402</th>\n",
       "      <td>-0.000033</td>\n",
       "      <td>walking downstairs</td>\n",
       "      <td>1498222549723</td>\n",
       "    </tr>\n",
       "  </tbody>\n",
       "</table>\n",
       "</div>"
      ],
      "text/plain": [
       "            0          transition      timestamp\n",
       "398 -0.000046  walking downstairs  1498222549013\n",
       "399 -0.000093  walking downstairs  1498222549179\n",
       "400 -0.000016  walking downstairs  1498222549358\n",
       "401 -0.000002  walking downstairs  1498222549539\n",
       "402 -0.000033  walking downstairs  1498222549723"
      ]
     },
     "execution_count": 52,
     "metadata": {},
     "output_type": "execute_result"
    }
   ],
   "source": [
    "gradient_pd.tail()"
   ]
  },
  {
   "cell_type": "code",
   "execution_count": 53,
   "metadata": {},
   "outputs": [
    {
     "name": "stdout",
     "output_type": "stream",
     "text": [
      "                0          transition      timestamp\n",
      "0   -2.468761e-04  walking downstairs  1498222476815\n",
      "1   -2.442522e-04  walking downstairs  1498222477172\n",
      "2   -2.487451e-04  walking downstairs  1498222477362\n",
      "3   -2.571220e-04  walking downstairs  1498222477534\n",
      "4   -2.336736e-04  walking downstairs  1498222477715\n",
      "5   -1.530701e-04  walking downstairs  1498222477894\n",
      "6   -1.070515e-04  walking downstairs  1498222478082\n",
      "7   -8.034412e-05  walking downstairs  1498222478255\n",
      "8   -1.227523e-05  walking downstairs  1498222478434\n",
      "9    1.559054e-05    walking upstairs  1498222478613\n",
      "10  -4.537297e-05  walking downstairs  1498222478795\n",
      "11  -8.964179e-05  walking downstairs  1498222478973\n",
      "12  -5.275068e-05  walking downstairs  1498222479156\n",
      "13  -7.251737e-05  walking downstairs  1498222479336\n",
      "14  -4.494612e-05  walking downstairs  1498222479513\n",
      "15  -5.624028e-06  walking downstairs  1498222479693\n",
      "16   3.689503e-05    walking upstairs  1498222479879\n",
      "17   1.224933e-04    walking upstairs  1498222480054\n",
      "18   5.444799e-05    walking upstairs  1498222480236\n",
      "19  -8.480096e-06  walking downstairs  1498222480414\n",
      "20   2.332978e-05    walking upstairs  1498222480595\n",
      "21   2.702023e-06    walking upstairs  1498222480773\n",
      "22   8.144275e-06    walking upstairs  1498222480962\n",
      "23  -1.250599e-05  walking downstairs  1498222481135\n",
      "24  -4.164658e-05  walking downstairs  1498222481316\n",
      "25   6.187473e-07    walking upstairs  1498222481494\n",
      "26   3.455844e-05    walking upstairs  1498222481673\n",
      "27   3.528751e-05    walking upstairs  1498222481853\n",
      "28   1.216591e-05    walking upstairs  1498222482034\n",
      "29   1.634160e-05    walking upstairs  1498222482214\n",
      "..            ...                 ...            ...\n",
      "373 -1.176313e-04  walking downstairs  1498222544497\n",
      "374 -8.671530e-05  walking downstairs  1498222544677\n",
      "375 -2.423666e-05  walking downstairs  1498222544864\n",
      "376 -2.880311e-05  walking downstairs  1498222545042\n",
      "377 -3.459869e-05  walking downstairs  1498222545220\n",
      "378  3.344321e-05    walking upstairs  1498222545401\n",
      "379  2.744123e-05    walking upstairs  1498222545578\n",
      "380  2.549316e-05    walking upstairs  1498222545759\n",
      "381  2.828252e-05    walking upstairs  1498222545938\n",
      "382  1.085012e-05    walking upstairs  1498222546120\n",
      "383  3.574564e-06    walking upstairs  1498222546301\n",
      "384  1.917977e-05    walking upstairs  1498222546478\n",
      "385 -2.377394e-06  walking downstairs  1498222546658\n",
      "386 -2.577953e-05  walking downstairs  1498222546837\n",
      "387  2.608362e-05    walking upstairs  1498222547020\n",
      "388 -1.778863e-06  walking downstairs  1498222547198\n",
      "389 -2.811877e-05  walking downstairs  1498222547380\n",
      "390 -2.239839e-05  walking downstairs  1498222547557\n",
      "391 -2.197506e-06  walking downstairs  1498222547737\n",
      "392  3.148870e-05    walking upstairs  1498222547918\n",
      "393  6.258779e-06    walking upstairs  1498222548101\n",
      "394  1.826452e-05    walking upstairs  1498222548276\n",
      "395  5.730698e-05    walking upstairs  1498222548458\n",
      "396  6.103516e-06    walking upstairs  1498222548638\n",
      "397 -9.348291e-07  walking downstairs  1498222548818\n",
      "398 -4.600701e-05  walking downstairs  1498222549013\n",
      "399 -9.297355e-05  walking downstairs  1498222549179\n",
      "400 -1.608864e-05  walking downstairs  1498222549358\n",
      "401 -2.170059e-06  walking downstairs  1498222549539\n",
      "402 -3.317128e-05  walking downstairs  1498222549723\n",
      "\n",
      "[403 rows x 3 columns]\n"
     ]
    }
   ],
   "source": [
    "print(gradient_pd)"
   ]
  },
  {
   "cell_type": "markdown",
   "metadata": {},
   "source": [
    "## Raw Pressure Values"
   ]
  },
  {
   "cell_type": "code",
   "execution_count": 2,
   "metadata": {},
   "outputs": [
    {
     "data": {
      "text/plain": [
       "[<matplotlib.lines.Line2D at 0x7fa875ca98d0>]"
      ]
     },
     "execution_count": 2,
     "metadata": {},
     "output_type": "execute_result"
    },
    {
     "data": {
      "image/png": "[encoded data removed]",
      "text/plain": [
       "<matplotlib.figure.Figure at 0x7fa877f7c710>"
      ]
     },
     "metadata": {},
     "output_type": "display_data"
    }
   ],
   "source": [
    "input_pressure_file = 'Activity-Data/Elevator & Stair/4/4Pressure.csv'\n",
    "raw_pressure_values = pd.read_csv(input_pressure_file, header=0, delimiter=',')\n",
    "plt.plot(raw_pressure_values[' pressure'])"
   ]
  },
  {
   "cell_type": "code",
   "execution_count": 143,
   "metadata": {},
   "outputs": [
    {
     "data": {
      "text/plain": [
       "(       timestamp    pressure             UUID \n",
       " 0  1498222792102  958.580566  80ec3f676e17debf\n",
       " 1  1498222851007  958.407959  80ec3f676e17debf\n",
       " 2  1498222851223  958.365479  80ec3f676e17debf\n",
       " 3  1498222851369  958.297119  80ec3f676e17debf\n",
       " 4  1498222851547  958.240479  80ec3f676e17debf, 308)"
      ]
     },
     "execution_count": 143,
     "metadata": {},
     "output_type": "execute_result"
    }
   ],
   "source": [
    "raw_pressure_values.head(), len(raw_pressure_values)"
   ]
  },
  {
   "cell_type": "code",
   "execution_count": 144,
   "metadata": {},
   "outputs": [
    {
     "data": {
      "text/plain": [
       "Index(['timestamp', ' pressure', ' UUID '], dtype='object')"
      ]
     },
     "execution_count": 144,
     "metadata": {},
     "output_type": "execute_result"
    }
   ],
   "source": [
    "raw_pressure_values.columns"
   ]
  },
  {
   "cell_type": "markdown",
   "metadata": {},
   "source": [
    "## Sliding Windows based on Time Windows(3s)"
   ]
  },
  {
   "cell_type": "code",
   "execution_count": 2,
   "metadata": {
    "collapsed": true
   },
   "outputs": [],
   "source": [
    "def create_sliding_windows_by_time(data_frame, window_time_period=3000):\n",
    "    windows = []\n",
    "    ts_windows = []\n",
    "    ts_begin = None\n",
    "#     window_time_period = 3000\n",
    "    for row in data_frame.iterrows():\n",
    "    #     print(\"Col1\", type(row[1][1]))\n",
    "    #     print(\"Col2\", type(row[1][0]))\n",
    "        if ts_begin == None:\n",
    "    #         print(1)\n",
    "            ts_begin = row[1][0]\n",
    "            window = []\n",
    "            ts_window = []\n",
    "            window.append(row[1][1])\n",
    "            ts_window.append(row[1][0])\n",
    "        elif(row[1][0] <= (ts_begin + window_time_period)):\n",
    "            window.append(row[1][1])\n",
    "            ts_window.append(row[1][0])\n",
    "        else:\n",
    "            windows.append(window)\n",
    "            ts_windows.append(ts_window)\n",
    "            window = [row[1][1]]\n",
    "            ts_window = [row[1][0]]\n",
    "            ts_begin = row[1][0]\n",
    "    ts_windows.append(ts_window)\n",
    "    windows.append(window)\n",
    "    windows = windows[1:]\n",
    "    ts_windows = ts_windows[1:]\n",
    "    print(len(ts_windows),len(windows))\n",
    "    return windows, ts_windows"
   ]
  },
  {
   "cell_type": "code",
   "execution_count": 4,
   "metadata": {},
   "outputs": [
    {
     "ename": "NameError",
     "evalue": "name 'ts_windows' is not defined",
     "output_type": "error",
     "traceback": [
      "\u001b[0;31m---------------------------------------------------------------------------\u001b[0m",
      "\u001b[0;31mNameError\u001b[0m                                 Traceback (most recent call last)",
      "\u001b[0;32m<ipython-input-4-293b15af5202>\u001b[0m in \u001b[0;36m<module>\u001b[0;34m()\u001b[0m\n\u001b[0;32m----> 1\u001b[0;31m \u001b[0mprint\u001b[0m\u001b[0;34m(\u001b[0m\u001b[0mts_windows\u001b[0m\u001b[0;34m[\u001b[0m\u001b[0;36m1\u001b[0m\u001b[0;34m]\u001b[0m\u001b[0;34m,\u001b[0m\u001b[0mwindows\u001b[0m\u001b[0;34m[\u001b[0m\u001b[0;36m1\u001b[0m\u001b[0;34m]\u001b[0m\u001b[0;34m)\u001b[0m\u001b[0;34m\u001b[0m\u001b[0m\n\u001b[0m",
      "\u001b[0;31mNameError\u001b[0m: name 'ts_windows' is not defined"
     ]
    }
   ],
   "source": [
    "print(ts_windows[1],windows[1])"
   ]
  },
  {
   "cell_type": "code",
   "execution_count": 43,
   "metadata": {},
   "outputs": [
    {
     "name": "stdout",
     "output_type": "stream",
     "text": [
      "17 17\n",
      "16 16\n",
      "14 14\n",
      "17 17\n",
      "16 16\n",
      "17 17\n",
      "14 14\n",
      "14 14\n",
      "15 15\n",
      "17 17\n",
      "17 17\n",
      "17 17\n",
      "17 17\n",
      "14 14\n",
      "12 12\n",
      "17 17\n",
      "16 16\n",
      "16 16\n",
      "16 16\n",
      "8 8\n"
     ]
    }
   ],
   "source": [
    "for i in range(len(windows)):\n",
    "    print(len(windows[i]),len(ts_windows[i]))"
   ]
  },
  {
   "cell_type": "code",
   "execution_count": 42,
   "metadata": {},
   "outputs": [
    {
     "name": "stdout",
     "output_type": "stream",
     "text": [
      "20 20\n"
     ]
    }
   ],
   "source": [
    "windows, ts_windows = create_sliding_windows_by_time(raw_pressure_values,3000)"
   ]
  },
  {
   "cell_type": "code",
   "execution_count": 7,
   "metadata": {
    "collapsed": true
   },
   "outputs": [],
   "source": [
    "# ts_windows = ts_windows[1:]\n",
    "# windows = windows[1:]\n",
    "windows = np.array(windows)\n",
    "ts_windows = np.array(ts_windows)"
   ]
  },
  {
   "cell_type": "markdown",
   "metadata": {},
   "source": [
    "## Derivative on sliding windows based on time"
   ]
  },
  {
   "cell_type": "code",
   "execution_count": 44,
   "metadata": {},
   "outputs": [
    {
     "name": "stdout",
     "output_type": "stream",
     "text": [
      "20\n",
      "[-0.0028363678589839519, 0.00055806127196015556, -7.1427702128719795e-05, -0.00071393696824759308, 0.00025661112822052232, 0.00015560991862723143, 0.00011100362441782942, -0.00054929685575760107, 0.00046106857317719724, 0.00051375280369907574, 0.00037905831442174552, 0.00064089462236564647, 0.00083632500482604512, -7.954915093177193e-05, 0.00014032209178929713, 0.0005768027575675733, 0.00031852082919523004, -0.0001953572602107872, -0.00023622005637343038, -5.4565750253840299e-05]\n"
     ]
    }
   ],
   "source": [
    "derivative_windows = []\n",
    "sum_windows = []\n",
    "for i in range(len(windows)):\n",
    "    derivative_window = np.gradient(windows[i],ts_windows[i])\n",
    "    derivative_windows.append(derivative_window)\n",
    "    sum_windows.append(sum(derivative_window))\n",
    "print(len(derivative_windows))\n",
    "print(sum_windows)"
   ]
  },
  {
   "cell_type": "code",
   "execution_count": 45,
   "metadata": {},
   "outputs": [
    {
     "data": {
      "text/plain": [
       "<matplotlib.lines.Line2D at 0x7fa875550d68>"
      ]
     },
     "execution_count": 45,
     "metadata": {},
     "output_type": "execute_result"
    },
    {
     "data": {
      "image/png": "[encoded data removed]",
      "text/plain": [
       "<matplotlib.figure.Figure at 0x7fa8759d0d30>"
      ]
     },
     "metadata": {},
     "output_type": "display_data"
    }
   ],
   "source": [
    "plt.plot(sum_windows[1:])\n",
    "plt.axhline(y=0, c='r')\n",
    "plt.axhline(y=-0.00025, c='y')\n",
    "plt.axhline(y=0.00025, c='y')"
   ]
  },
  {
   "cell_type": "code",
   "execution_count": 46,
   "metadata": {},
   "outputs": [
    {
     "name": "stdout",
     "output_type": "stream",
     "text": [
      "['walking downstairs', 'walking downstairs', 'walking', 'walking downstairs', 'walking downstairs', 'walking', 'walking', 'walking downstairs', 'walking downstairs', 'walking downstairs', 'walking downstairs', 'walking downstairs', 'walking downstairs', 'walking', 'walking', 'walking downstairs', 'walking downstairs', 'walking', 'walking', 'walking']\n"
     ]
    }
   ],
   "source": [
    "window_labels = []\n",
    "for window_sum in sum_windows:\n",
    "    if window_sum > 0.00025 or window_sum < -0.00025:\n",
    "        window_labels.append('walking downstairs')\n",
    "    else:\n",
    "        window_labels.append('walking')\n",
    "print(window_labels)"
   ]
  },
  {
   "cell_type": "code",
   "execution_count": 13,
   "metadata": {},
   "outputs": [
    {
     "data": {
      "text/html": [
       "<div>\n",
       "<style>\n",
       "    .dataframe thead tr:only-child th {\n",
       "        text-align: right;\n",
       "    }\n",
       "\n",
       "    .dataframe thead th {\n",
       "        text-align: left;\n",
       "    }\n",
       "\n",
       "    .dataframe tbody tr th {\n",
       "        vertical-align: top;\n",
       "    }\n",
       "</style>\n",
       "<table border=\"1\" class=\"dataframe\">\n",
       "  <thead>\n",
       "    <tr style=\"text-align: right;\">\n",
       "      <th></th>\n",
       "      <th>timestamp</th>\n",
       "      <th>pressure</th>\n",
       "      <th>UUID</th>\n",
       "    </tr>\n",
       "  </thead>\n",
       "  <tbody>\n",
       "    <tr>\n",
       "      <th>0</th>\n",
       "      <td>1498222792102</td>\n",
       "      <td>958.580566</td>\n",
       "      <td>80ec3f676e17debf</td>\n",
       "    </tr>\n",
       "    <tr>\n",
       "      <th>1</th>\n",
       "      <td>1498222851007</td>\n",
       "      <td>958.407959</td>\n",
       "      <td>80ec3f676e17debf</td>\n",
       "    </tr>\n",
       "    <tr>\n",
       "      <th>2</th>\n",
       "      <td>1498222851223</td>\n",
       "      <td>958.365479</td>\n",
       "      <td>80ec3f676e17debf</td>\n",
       "    </tr>\n",
       "    <tr>\n",
       "      <th>3</th>\n",
       "      <td>1498222851369</td>\n",
       "      <td>958.297119</td>\n",
       "      <td>80ec3f676e17debf</td>\n",
       "    </tr>\n",
       "    <tr>\n",
       "      <th>4</th>\n",
       "      <td>1498222851547</td>\n",
       "      <td>958.240479</td>\n",
       "      <td>80ec3f676e17debf</td>\n",
       "    </tr>\n",
       "  </tbody>\n",
       "</table>\n",
       "</div>"
      ],
      "text/plain": [
       "       timestamp    pressure             UUID \n",
       "0  1498222792102  958.580566  80ec3f676e17debf\n",
       "1  1498222851007  958.407959  80ec3f676e17debf\n",
       "2  1498222851223  958.365479  80ec3f676e17debf\n",
       "3  1498222851369  958.297119  80ec3f676e17debf\n",
       "4  1498222851547  958.240479  80ec3f676e17debf"
      ]
     },
     "execution_count": 13,
     "metadata": {},
     "output_type": "execute_result"
    }
   ],
   "source": [
    "raw_pressure_values.head()"
   ]
  },
  {
   "cell_type": "code",
   "execution_count": 24,
   "metadata": {},
   "outputs": [
    {
     "data": {
      "text/plain": [
       "19"
      ]
     },
     "execution_count": 24,
     "metadata": {},
     "output_type": "execute_result"
    }
   ],
   "source": [
    "len(window_labels)"
   ]
  },
  {
   "cell_type": "code",
   "execution_count": 17,
   "metadata": {},
   "outputs": [
    {
     "data": {
      "text/plain": [
       "([1498222851007,\n",
       "  1498222851223,\n",
       "  1498222851369,\n",
       "  1498222851547,\n",
       "  1498222851729,\n",
       "  1498222851907,\n",
       "  1498222852090,\n",
       "  1498222852273,\n",
       "  1498222852446,\n",
       "  1498222852627,\n",
       "  1498222852807,\n",
       "  1498222852987,\n",
       "  1498222853172,\n",
       "  1498222853350,\n",
       "  1498222853527,\n",
       "  1498222853708,\n",
       "  1498222853895],\n",
       " 19)"
      ]
     },
     "execution_count": 17,
     "metadata": {},
     "output_type": "execute_result"
    }
   ],
   "source": [
    "ts_windows[0], len(ts_windows)"
   ]
  },
  {
   "cell_type": "code",
   "execution_count": 40,
   "metadata": {},
   "outputs": [
    {
     "data": {
      "text/plain": [
       "[1498222903749,\n",
       " 1498222903929,\n",
       " 1498222904111,\n",
       " 1498222904470,\n",
       " 1498222904651,\n",
       " 1498222904829,\n",
       " 1498222905023,\n",
       " 1498222905190,\n",
       " 1498222905371,\n",
       " 1498222905557,\n",
       " 1498222905738,\n",
       " 1498222905911,\n",
       " 1498222906089,\n",
       " 1498222906269,\n",
       " 1498222906449,\n",
       " 1498222906629]"
      ]
     },
     "execution_count": 40,
     "metadata": {},
     "output_type": "execute_result"
    }
   ],
   "source": [
    "ts_windows[17]"
   ]
  },
  {
   "cell_type": "code",
   "execution_count": 28,
   "metadata": {},
   "outputs": [
    {
     "data": {
      "text/plain": [
       "[1498222906810,\n",
       " 1498222906995,\n",
       " 1498222907169,\n",
       " 1498222907349,\n",
       " 1498222907529,\n",
       " 1498222907709,\n",
       " 1498222907889,\n",
       " 1498222908249,\n",
       " 1498222908429,\n",
       " 1498222908609,\n",
       " 1498222908789,\n",
       " 1498222908969,\n",
       " 1498222909150,\n",
       " 1498222909336,\n",
       " 1498222909515,\n",
       " 1498222909689]"
      ]
     },
     "execution_count": 28,
     "metadata": {},
     "output_type": "execute_result"
    }
   ],
   "source": [
    "ts_windows[18]"
   ]
  },
  {
   "cell_type": "code",
   "execution_count": 47,
   "metadata": {
    "collapsed": true
   },
   "outputs": [],
   "source": [
    "def transfer_label_from_windows_to_sample(row):\n",
    "    for i in range(len(ts_windows)):\n",
    "        if ts_windows[i].count(row[0]) > 0:\n",
    "#             print(row[0],i, window_labels[i])\n",
    "            return window_labels[i]"
   ]
  },
  {
   "cell_type": "code",
   "execution_count": 48,
   "metadata": {},
   "outputs": [
    {
     "name": "stdout",
     "output_type": "stream",
     "text": [
      "       timestamp    pressure             UUID                label\n",
      "0  1498222792102  958.580566  80ec3f676e17debf                None\n",
      "1  1498222851007  958.407959  80ec3f676e17debf  walking downstairs\n",
      "2  1498222851223  958.365479  80ec3f676e17debf  walking downstairs\n",
      "3  1498222851369  958.297119  80ec3f676e17debf  walking downstairs\n",
      "4  1498222851547  958.240479  80ec3f676e17debf  walking downstairs\n",
      "         timestamp    pressure             UUID     label\n",
      "303  1498222910409  958.647461  80ec3f676e17debf  walking\n",
      "304  1498222910592  958.642578  80ec3f676e17debf  walking\n",
      "305  1498222910769  958.649658  80ec3f676e17debf  walking\n",
      "306  1498222910952  958.655273  80ec3f676e17debf  walking\n",
      "307  1498222911131  958.648682  80ec3f676e17debf  walking\n"
     ]
    }
   ],
   "source": [
    "raw_pressure_values['label'] = raw_pressure_values.apply(transfer_label_from_windows_to_sample, axis=1)\n",
    "print(raw_pressure_values.head())\n",
    "print(raw_pressure_values.tail())"
   ]
  },
  {
   "cell_type": "code",
   "execution_count": 49,
   "metadata": {},
   "outputs": [
    {
     "data": {
      "text/plain": [
       "walking downstairs    196\n",
       "walking               111\n",
       "Name: label, dtype: int64"
      ]
     },
     "execution_count": 49,
     "metadata": {},
     "output_type": "execute_result"
    }
   ],
   "source": [
    "pd.value_counts(raw_pressure_values['label'])"
   ]
  },
  {
   "cell_type": "markdown",
   "metadata": {},
   "source": [
    "### Skewness on sliding windows"
   ]
  },
  {
   "cell_type": "code",
   "execution_count": 50,
   "metadata": {},
   "outputs": [
    {
     "name": "stdout",
     "output_type": "stream",
     "text": [
      "20\n",
      "[0.8424046270977079, -0.09578882039877647, 0.039812112500885906, 0.8406200777268767, -0.07800922072896636, 0.4442570710248204, -0.05291018918326474, -0.2628785418383167, 1.149002710337047, -1.3201161604990401, -0.4060775857361996, 0.8458077467065529, 0.6820933071271323, 1.1946342596092423, 1.0402493966838406, 0.2614099767074768, -0.6128723147248937, -0.14370759517341183, -0.2039373273208959, 0.44143315704280967]\n"
     ]
    }
   ],
   "source": [
    "from scipy.stats import skew\n",
    "\n",
    "skewness_windows = []\n",
    "for i in range(len(windows)):\n",
    "    skewness_windows.append(skew(windows[i]))\n",
    "#     derivative_windows.append(derivative_window)\n",
    "#     sum_windows.append(sum(derivative_window))\n",
    "print(len(skewness_windows))\n",
    "print(skewness_windows)"
   ]
  },
  {
   "cell_type": "markdown",
   "metadata": {},
   "source": [
    "### Standard deviation on sliding windows"
   ]
  },
  {
   "cell_type": "code",
   "execution_count": 177,
   "metadata": {},
   "outputs": [
    {
     "name": "stdout",
     "output_type": "stream",
     "text": [
      "[[0.14594263252135264], [0.0295671810573278], [0.060702515443022555], [0.044190095492985991], [0.022292733142530514], [0.029440262956463573], [0.059442939772806964], [0.035446790063420025], [0.040513262362682594], [0.052088218176254135], [0.055204289299556203], [0.050514629561170019], [0.020313032839613429], [0.012840224820945732]]\n"
     ]
    }
   ],
   "source": [
    "standard_deviation_windows = []\n",
    "# sum_windows = []\n",
    "for i in range(len(windows)):\n",
    "    standard_deviation_windows.append([np.std(windows[i])])\n",
    "#     sum_windows.append(sum(derivative_window))\n",
    "print(standard_deviation_windows)\n",
    "# print(sum_windows)"
   ]
  },
  {
   "cell_type": "code",
   "execution_count": 178,
   "metadata": {},
   "outputs": [
    {
     "data": {
      "text/plain": [
       "[<matplotlib.lines.Line2D at 0x7fc505bc6e48>]"
      ]
     },
     "execution_count": 178,
     "metadata": {},
     "output_type": "execute_result"
    },
    {
     "data": {
      "image/png": "[encoded data removed]",
      "text/plain": [
       "<matplotlib.figure.Figure at 0x7fc505c094e0>"
      ]
     },
     "metadata": {},
     "output_type": "display_data"
    }
   ],
   "source": [
    "plt.plot(standard_deviation_windows)\n",
    "# plt.axhline(y=0, c='r')\n",
    "# plt.axhline(y=-0.00025, c='y')\n",
    "# plt.axhline(y=0.00025, c='y')"
   ]
  },
  {
   "cell_type": "code",
   "execution_count": 185,
   "metadata": {},
   "outputs": [
    {
     "name": "stdout",
     "output_type": "stream",
     "text": [
      "[0.223388671875, 0.10406494140625, 0.02520751953125, 0.048095703125, 0.0841064453125, 0.020751953125, 0.02667236328125, 0.06707763671875, 0.042724609375, 0.0234375, 0.031494140625, 0.034912109375, 0.081787109375, 0.0206298828125, 0.017333984375, 0.09326171875, 0.06048583984375, 0.02813720703125, 0.017333984375]\n"
     ]
    }
   ],
   "source": [
    "from scipy.stats import iqr\n",
    "iqr_windows = []\n",
    "# sum_windows = []\n",
    "for i in range(len(windows)):\n",
    "    iqr_windows.append(iqr(windows[i]))\n",
    "#     sum_windows.append(sum(derivative_window))\n",
    "print(iqr_windows)\n",
    "# print(sum_windows)"
   ]
  },
  {
   "cell_type": "code",
   "execution_count": 186,
   "metadata": {},
   "outputs": [
    {
     "data": {
      "text/plain": [
       "[<matplotlib.lines.Line2D at 0x7fc4fdcc4c50>]"
      ]
     },
     "execution_count": 186,
     "metadata": {},
     "output_type": "execute_result"
    },
    {
     "data": {
      "image/png": "[encoded data removed]",
      "text/plain": [
       "<matplotlib.figure.Figure at 0x7fc4fe0f7d68>"
      ]
     },
     "metadata": {},
     "output_type": "display_data"
    }
   ],
   "source": [
    "plt.plot(iqr_windows)\n",
    "# plt.axhline(y=0, c='r')\n",
    "# plt.axhline(y=-0.00025, c='y')\n",
    "# plt.axhline(y=0.00025, c='y')"
   ]
  },
  {
   "cell_type": "code",
   "execution_count": 187,
   "metadata": {},
   "outputs": [
    {
     "name": "stdout",
     "output_type": "stream",
     "text": [
      "308\n"
     ]
    }
   ],
   "source": [
    "sample_windows = []\n",
    "sample_ts_windows = []athens\n",
    "sample_window_length = 10\n",
    "for i in range(len(raw_pressure_values)):\n",
    "    sample_window = raw_pressure_values[i:i+sample_window_length]\n",
    "    sample_windows.append(sample_window)\n",
    "print(len(sample_windows))"
   ]
  },
  {
   "cell_type": "code",
   "execution_count": 188,
   "metadata": {},
   "outputs": [
    {
     "data": {
      "text/plain": [
       "308"
      ]
     },
     "execution_count": 188,
     "metadata": {},
     "output_type": "execute_result"
    }
   ],
   "source": [
    "len(raw_pressure_values)"
   ]
  },
  {
   "cell_type": "code",
   "execution_count": 194,
   "metadata": {},
   "outputs": [
    {
     "name": "stdout",
     "output_type": "stream",
     "text": [
      "299\n",
      "         timestamp    pressure             UUID \n",
      "298  1498222909515  958.667725  80ec3f676e17debf\n",
      "299  1498222909689  958.658936  80ec3f676e17debf\n",
      "300  1498222909873  958.657227  80ec3f676e17debf\n",
      "301  1498222910057  958.660400  80ec3f676e17debf\n",
      "302  1498222910230  958.668213  80ec3f676e17debf\n",
      "303  1498222910409  958.647461  80ec3f676e17debf\n",
      "304  1498222910592  958.642578  80ec3f676e17debf\n",
      "305  1498222910769  958.649658  80ec3f676e17debf\n",
      "306  1498222910952  958.655273  80ec3f676e17debf\n",
      "307  1498222911131  958.648682  80ec3f676e17debf\n"
     ]
    }
   ],
   "source": [
    "sample_windows = sample_windows[:-1 * (sample_window_length-1)]\n",
    "print(len(sample_windows))\n",
    "print(sample_windows[-1])"
   ]
  },
  {
   "cell_type": "code",
   "execution_count": 205,
   "metadata": {},
   "outputs": [
    {
     "name": "stdout",
     "output_type": "stream",
     "text": [
      "299 299\n"
     ]
    }
   ],
   "source": [
    "sw_pressures = []\n",
    "sw_ts = []\n",
    "for window in sample_windows:\n",
    "    sw_pressures.append(np.array(window[' pressure']))\n",
    "    sw_ts.append(np.array(window['timestamp']))\n",
    "print(len(sw_pressures), len(sw_ts))"
   ]
  },
  {
   "cell_type": "code",
   "execution_count": 206,
   "metadata": {},
   "outputs": [
    {
     "name": "stdout",
     "output_type": "stream",
     "text": [
      "[ 958.66772461  958.65893555  958.65722656  958.66040039  958.66821289\n",
      "  958.64746094  958.64257812  958.6496582   958.65527344  958.64868164] [1498222909515 1498222909689 1498222909873 1498222910057 1498222910230\n",
      " 1498222910409 1498222910592 1498222910769 1498222910952 1498222911131]\n"
     ]
    }
   ],
   "source": [
    "print(sw_pressures[-1],sw_ts[-1])"
   ]
  },
  {
   "cell_type": "code",
   "execution_count": 207,
   "metadata": {},
   "outputs": [
    {
     "name": "stdout",
     "output_type": "stream",
     "text": [
      "299\n"
     ]
    }
   ],
   "source": [
    "sw_pressures_medians = []\n",
    "for window in sw_pressures:\n",
    "    sw_pressures_medians.append(np.median(window))\n",
    "print(len(sw_pressures_medians))"
   ]
  },
  {
   "cell_type": "code",
   "execution_count": 208,
   "metadata": {},
   "outputs": [
    {
     "data": {
      "text/plain": [
       "[<matplotlib.lines.Line2D at 0x7fc4fc36f9b0>]"
      ]
     },
     "execution_count": 208,
     "metadata": {},
     "output_type": "execute_result"
    },
    {
     "data": {
      "image/png": "[encoded data removed]",
      "text/plain": [
       "<matplotlib.figure.Figure at 0x7fc4fdc086a0>"
      ]
     },
     "metadata": {},
     "output_type": "display_data"
    }
   ],
   "source": [
    "plt.plot(sw_pressures_medians)"
   ]
  },
  {
   "cell_type": "code",
   "execution_count": 226,
   "metadata": {},
   "outputs": [
    {
     "name": "stdout",
     "output_type": "stream",
     "text": [
      "299 [[958.6829833984375, 958.6829833984375, 958.6829833984375, 958.681396484375, 958.6748046875, 958.66796875, 958.6640625, 958.65966796875, 958.6580810546875, 958.65625], [958.6829833984375, 958.6829833984375, 958.681396484375, 958.6748046875, 958.66796875, 958.6640625, 958.65966796875, 958.6580810546875, 958.65625], [958.6829833984375, 958.681396484375, 958.6748046875, 958.66796875, 958.6640625, 958.65966796875, 958.6580810546875, 958.65625], [958.681396484375, 958.6748046875, 958.66796875, 958.6640625, 958.65966796875, 958.6580810546875, 958.65625], [958.6748046875, 958.66796875, 958.6640625, 958.65966796875, 958.6580810546875, 958.65625], [958.66796875, 958.6640625, 958.65966796875, 958.6580810546875, 958.65625], [958.6640625, 958.65966796875, 958.6580810546875, 958.65625], [958.65966796875, 958.6580810546875, 958.65625], [958.6580810546875, 958.65625]]\n",
      "290\n",
      "[958.6829833984375, 958.6829833984375, 958.6829833984375, 958.681396484375, 958.6748046875, 958.66796875, 958.6640625, 958.65966796875, 958.6580810546875, 958.65625]\n"
     ]
    }
   ],
   "source": [
    "sw_pr_median_windows = []\n",
    "for i in range(len(sw_pressures_medians)):\n",
    "    sw_pr_median_windows.append(sw_pressures_medians[i:i+sample_window_length])\n",
    "print(len(sw_pr_median_windows),sw_pr_median_windows[-10:-1])\n",
    "sw_pr_median_windows = sw_pr_median_windows[:-1 * (sample_window_length-1)]\n",
    "print(len(sw_pr_median_windows))\n",
    "print(sw_pr_median_windows[-1])"
   ]
  },
  {
   "cell_type": "code",
   "execution_count": 229,
   "metadata": {},
   "outputs": [
    {
     "name": "stdout",
     "output_type": "stream",
     "text": [
      "290\n"
     ]
    }
   ],
   "source": [
    "sw_sd_pr_median_windows = []\n",
    "for window in sw_pr_median_windows:\n",
    "#     print(window)\n",
    "    sw_sd_pr_median_windows.append(np.std(window))\n",
    "print(len(sw_sd_pr_median_windows))"
   ]
  },
  {
   "cell_type": "code",
   "execution_count": 230,
   "metadata": {},
   "outputs": [
    {
     "data": {
      "text/plain": [
       "[<matplotlib.lines.Line2D at 0x7fc4fc080198>]"
      ]
     },
     "execution_count": 230,
     "metadata": {},
     "output_type": "execute_result"
    },
    {
     "data": {
      "image/png": "[encoded data removed]",
      "text/plain": [
       "<matplotlib.figure.Figure at 0x7fc4fc0b2160>"
      ]
     },
     "metadata": {},
     "output_type": "display_data"
    }
   ],
   "source": [
    "plt.plot(sw_sd_pr_median_windows)"
   ]
  },
  {
   "cell_type": "code",
   "execution_count": 236,
   "metadata": {},
   "outputs": [
    {
     "name": "stdout",
     "output_type": "stream",
     "text": [
      "290\n",
      "290\n"
     ]
    }
   ],
   "source": [
    "sw_sd_pr_derivative_windows = []\n",
    "sw_sd_pr_derivative_sums_windows = []\n",
    "for window in sw_pr_median_windows:\n",
    "    derivative_window = np.gradient(window)\n",
    "#     print(len(window),len(derivative_window))\n",
    "    sw_sd_pr_derivative_windows.append(derivative_window)\n",
    "    sw_sd_pr_derivative_sums_windows.append(sum(derivative_window))\n",
    "print(len(sw_sd_pr_derivative_windows))\n",
    "print(len(sw_sd_pr_derivative_sums_windows))"
   ]
  },
  {
   "cell_type": "code",
   "execution_count": 238,
   "metadata": {},
   "outputs": [
    {
     "data": {
      "text/plain": [
       "[<matplotlib.lines.Line2D at 0x7fc4f7f70668>]"
      ]
     },
     "execution_count": 238,
     "metadata": {},
     "output_type": "execute_result"
    },
    {
     "data": {
      "image/png": "[encoded data removed]",
      "text/plain": [
       "<matplotlib.figure.Figure at 0x7fc4fc053390>"
      ]
     },
     "metadata": {},
     "output_type": "display_data"
    }
   ],
   "source": [
    "plt.plot(sw_sd_pr_derivative_sums_windows[1:])"
   ]
  },
  {
   "cell_type": "code",
   "execution_count": 79,
   "metadata": {},
   "outputs": [
    {
     "data": {
      "image/png": "[encoded data removed]",
      "text/plain": [
       "<matplotlib.figure.Figure at 0x7fa86b972f28>"
      ]
     },
     "metadata": {},
     "output_type": "display_data"
    }
   ],
   "source": [
    "from mpl_toolkits.mplot3d import Axes3D\n",
    "fig = plt.figure()\n",
    "# ax = fig.add_subplot(111, projection='3d')\n",
    "ax = Axes3D(fig)\n",
    "ax.scatter(skewness_windows, sum_windows, window_labels1, c=[(lambda x:'r' if x==0 else 'b')(x) for x in window_labels1])\n",
    "# Axes3D.scatter(skewness_windows, sum_windows, window_labels1)\n",
    "# plt.scatter(skewness_windows, sum_windows, window_labels1, c=['r','b'])\n",
    "plt.show()\n",
    "# plt.plot(skewness_windows, sum_windows)"
   ]
  },
  {
   "cell_type": "code",
   "execution_count": 61,
   "metadata": {},
   "outputs": [
    {
     "data": {
      "text/plain": [
       "20"
      ]
     },
     "execution_count": 61,
     "metadata": {},
     "output_type": "execute_result"
    }
   ],
   "source": [
    "len(window_labels)"
   ]
  },
  {
   "cell_type": "code",
   "execution_count": 64,
   "metadata": {
    "collapsed": true
   },
   "outputs": [],
   "source": [
    "window_labels1 = [(lambda x: 1 if x=='walking' else 0)(x) for x in window_labels]"
   ]
  },
  {
   "cell_type": "code",
   "execution_count": 66,
   "metadata": {},
   "outputs": [
    {
     "data": {
      "text/plain": [
       "([0, 0, 1, 0, 0, 1, 1, 0, 0, 0, 0, 0, 0, 1, 1, 0, 0, 1, 1, 1],\n",
       " ['walking downstairs',\n",
       "  'walking downstairs',\n",
       "  'walking',\n",
       "  'walking downstairs',\n",
       "  'walking downstairs',\n",
       "  'walking',\n",
       "  'walking',\n",
       "  'walking downstairs',\n",
       "  'walking downstairs',\n",
       "  'walking downstairs',\n",
       "  'walking downstairs',\n",
       "  'walking downstairs',\n",
       "  'walking downstairs',\n",
       "  'walking',\n",
       "  'walking',\n",
       "  'walking downstairs',\n",
       "  'walking downstairs',\n",
       "  'walking',\n",
       "  'walking',\n",
       "  'walking'])"
      ]
     },
     "execution_count": 66,
     "metadata": {},
     "output_type": "execute_result"
    }
   ],
   "source": [
    "window_labels1, window_labels"
   ]
  },
  {
   "cell_type": "code",
   "execution_count": 3,
   "metadata": {
    "collapsed": true
   },
   "outputs": [],
   "source": [
    "walking_files = ['Activity-Data/Walking/01/Walking01Pressure.csv', 'Activity-Data/Walking/2/Walking2Pressure.csv', \n",
    "                 'Activity-Data/Walking/3/Walking3Pressure.csv', 'Activity-Data/Walking/04/Walking04Pressure.csv',\n",
    "                 'Activity-Data/Walking/5/Walking5Pressure.csv']\n",
    "# walking_raw_pressure = pd.read_csv(walking_file,header=0, delimiter=',')\n",
    "# print(len(walking_raw_pressure))\n",
    "# walking_raw_pressure.head()"
   ]
  },
  {
   "cell_type": "code",
   "execution_count": 4,
   "metadata": {},
   "outputs": [
    {
     "data": {
      "text/html": [
       "<div>\n",
       "<style>\n",
       "    .dataframe thead tr:only-child th {\n",
       "        text-align: right;\n",
       "    }\n",
       "\n",
       "    .dataframe thead th {\n",
       "        text-align: left;\n",
       "    }\n",
       "\n",
       "    .dataframe tbody tr th {\n",
       "        vertical-align: top;\n",
       "    }\n",
       "</style>\n",
       "<table border=\"1\" class=\"dataframe\">\n",
       "  <thead>\n",
       "    <tr style=\"text-align: right;\">\n",
       "      <th></th>\n",
       "      <th>timestamp</th>\n",
       "      <th>pressure</th>\n",
       "      <th>UUID</th>\n",
       "    </tr>\n",
       "  </thead>\n",
       "  <tbody>\n",
       "    <tr>\n",
       "      <th>0</th>\n",
       "      <td>1503925783809</td>\n",
       "      <td>963.727173</td>\n",
       "      <td>1b63307ec4900338</td>\n",
       "    </tr>\n",
       "    <tr>\n",
       "      <th>1</th>\n",
       "      <td>1503925785588</td>\n",
       "      <td>963.747253</td>\n",
       "      <td>1b63307ec4900338</td>\n",
       "    </tr>\n",
       "    <tr>\n",
       "      <th>2</th>\n",
       "      <td>1503925786383</td>\n",
       "      <td>963.760925</td>\n",
       "      <td>1b63307ec4900338</td>\n",
       "    </tr>\n",
       "    <tr>\n",
       "      <th>3</th>\n",
       "      <td>1503925786681</td>\n",
       "      <td>963.762085</td>\n",
       "      <td>1b63307ec4900338</td>\n",
       "    </tr>\n",
       "    <tr>\n",
       "      <th>4</th>\n",
       "      <td>1503925786897</td>\n",
       "      <td>963.759583</td>\n",
       "      <td>1b63307ec4900338</td>\n",
       "    </tr>\n",
       "  </tbody>\n",
       "</table>\n",
       "</div>"
      ],
      "text/plain": [
       "       timestamp    pressure             UUID \n",
       "0  1503925783809  963.727173  1b63307ec4900338\n",
       "1  1503925785588  963.747253  1b63307ec4900338\n",
       "2  1503925786383  963.760925  1b63307ec4900338\n",
       "3  1503925786681  963.762085  1b63307ec4900338\n",
       "4  1503925786897  963.759583  1b63307ec4900338"
      ]
     },
     "execution_count": 4,
     "metadata": {},
     "output_type": "execute_result"
    }
   ],
   "source": [
    "input_list = []\n",
    "for walking_file in walking_files:\n",
    "    df = pd.read_csv(walking_file, delimiter=',', header=0)\n",
    "    input_list.append(df)\n",
    "input_frame = pd.DataFrame()\n",
    "input_frame = pd.concat(input_list)\n",
    "input_frame.head()"
   ]
  },
  {
   "cell_type": "code",
   "execution_count": 5,
   "metadata": {},
   "outputs": [
    {
     "data": {
      "text/plain": [
       "[<matplotlib.lines.Line2D at 0x7f5ae97fd5f8>]"
      ]
     },
     "execution_count": 5,
     "metadata": {},
     "output_type": "execute_result"
    },
    {
     "data": {
      "image/png": "[encoded data removed]",
      "text/plain": [
       "<matplotlib.figure.Figure at 0x7f5aebb2c390>"
      ]
     },
     "metadata": {},
     "output_type": "display_data"
    }
   ],
   "source": [
    "plt.plot(input_frame[' pressure'].values)"
   ]
  },
  {
   "cell_type": "code",
   "execution_count": 6,
   "metadata": {},
   "outputs": [
    {
     "data": {
      "text/plain": [
       "884"
      ]
     },
     "execution_count": 6,
     "metadata": {},
     "output_type": "execute_result"
    }
   ],
   "source": [
    "len(input_frame)"
   ]
  },
  {
   "cell_type": "code",
   "execution_count": 7,
   "metadata": {
    "collapsed": true
   },
   "outputs": [],
   "source": [
    "climbing_files = ['Activity-Data/Climbing_Stairs/1/Climbing_Stairs1Pressure.csv', 'Activity-Data/Climbing_Stairs/2/Climbing_Stairs2Pressure.csv', \n",
    "                 'Activity-Data/Climbing_Stairs/3/Climbing_Stairs3Pressure.csv', 'Activity-Data/Climbing_Stairs/5/Climbing_Stairs5Pressure.csv',\n",
    "                 'Activity-Data/Climbing_Stairs/6/Climbing_Stairs6Pressure.csv', 'Activity-Data/Climbing_Stairs/7/Climbing_Stairs7Pressure.csv']"
   ]
  },
  {
   "cell_type": "code",
   "execution_count": 8,
   "metadata": {},
   "outputs": [
    {
     "name": "stdout",
     "output_type": "stream",
     "text": [
      "377\n"
     ]
    },
    {
     "data": {
      "text/html": [
       "<div>\n",
       "<style>\n",
       "    .dataframe thead tr:only-child th {\n",
       "        text-align: right;\n",
       "    }\n",
       "\n",
       "    .dataframe thead th {\n",
       "        text-align: left;\n",
       "    }\n",
       "\n",
       "    .dataframe tbody tr th {\n",
       "        vertical-align: top;\n",
       "    }\n",
       "</style>\n",
       "<table border=\"1\" class=\"dataframe\">\n",
       "  <thead>\n",
       "    <tr style=\"text-align: right;\">\n",
       "      <th></th>\n",
       "      <th>timestamp</th>\n",
       "      <th>pressure</th>\n",
       "      <th>UUID</th>\n",
       "    </tr>\n",
       "  </thead>\n",
       "  <tbody>\n",
       "    <tr>\n",
       "      <th>0</th>\n",
       "      <td>1503926233330</td>\n",
       "      <td>963.686096</td>\n",
       "      <td>1b63307ec4900338</td>\n",
       "    </tr>\n",
       "    <tr>\n",
       "      <th>1</th>\n",
       "      <td>1503926233527</td>\n",
       "      <td>963.686096</td>\n",
       "      <td>1b63307ec4900338</td>\n",
       "    </tr>\n",
       "    <tr>\n",
       "      <th>2</th>\n",
       "      <td>1503926233726</td>\n",
       "      <td>963.682556</td>\n",
       "      <td>1b63307ec4900338</td>\n",
       "    </tr>\n",
       "    <tr>\n",
       "      <th>3</th>\n",
       "      <td>1503926233921</td>\n",
       "      <td>963.684448</td>\n",
       "      <td>1b63307ec4900338</td>\n",
       "    </tr>\n",
       "    <tr>\n",
       "      <th>4</th>\n",
       "      <td>1503926234223</td>\n",
       "      <td>963.679504</td>\n",
       "      <td>1b63307ec4900338</td>\n",
       "    </tr>\n",
       "  </tbody>\n",
       "</table>\n",
       "</div>"
      ],
      "text/plain": [
       "       timestamp    pressure             UUID \n",
       "0  1503926233330  963.686096  1b63307ec4900338\n",
       "1  1503926233527  963.686096  1b63307ec4900338\n",
       "2  1503926233726  963.682556  1b63307ec4900338\n",
       "3  1503926233921  963.684448  1b63307ec4900338\n",
       "4  1503926234223  963.679504  1b63307ec4900338"
      ]
     },
     "execution_count": 8,
     "metadata": {},
     "output_type": "execute_result"
    }
   ],
   "source": [
    "climb_list = []\n",
    "for climbing_file in climbing_files:\n",
    "    df = pd.read_csv(climbing_file, delimiter=',', header=0)\n",
    "    climb_list.append(df)\n",
    "climb_frame = pd.DataFrame()\n",
    "climb_frame = pd.concat(climb_list)\n",
    "print(len(climb_frame))\n",
    "climb_frame.head()"
   ]
  },
  {
   "cell_type": "code",
   "execution_count": 9,
   "metadata": {},
   "outputs": [
    {
     "data": {
      "text/plain": [
       "[<matplotlib.lines.Line2D at 0x7f5ae97358d0>]"
      ]
     },
     "execution_count": 9,
     "metadata": {},
     "output_type": "execute_result"
    },
    {
     "data": {
      "image/png": "[encoded data removed]",
      "text/plain": [
       "<matplotlib.figure.Figure at 0x7f5ae97daba8>"
      ]
     },
     "metadata": {},
     "output_type": "display_data"
    }
   ],
   "source": [
    "plt.plot(climb_frame[' pressure'].values)"
   ]
  }
 ],
 "metadata": {
  "kernelspec": {
   "display_name": "Python 3",
   "language": "python",
   "name": "python3"
  },
  "language_info": {
   "codemirror_mode": {
    "name": "ipython",
    "version": 3
   },
   "file_extension": ".py",
   "mimetype": "text/x-python",
   "name": "python",
   "nbconvert_exporter": "python",
   "pygments_lexer": "ipython3",
   "version": "3.5.3"
  }
 },
 "nbformat": 4,
 "nbformat_minor": 2
}
