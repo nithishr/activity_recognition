{
 "cells": [
  {
   "cell_type": "code",
   "execution_count": 13,
   "metadata": {},
   "outputs": [],
   "source": [
    "import os\n",
    "import pandas as pd\n",
    "import numpy as np\n",
    "import matplotlib.pyplot as plt\n",
    "%matplotlib inline"
   ]
  },
  {
   "cell_type": "code",
   "execution_count": null,
   "metadata": {},
   "outputs": [],
   "source": [
    "files_input = ['Activity-Data/Elevator & Stair/1/1Activity.csv', 'Activity-Data/Elevator & Stair/2/2Activity.csv',\n",
    "         'Activity-Data/Elevator & Stair/3/3Activity.csv', 'Activity-Data/Elevator & Stair/4/4Activity.csv', \n",
    "         'Activity-Data/Elevator & Stair/5/5Activity.csv','Activity-Data/Elevator & Stair/6/6Activity.csv', \n",
    "         'Activity-Data/Elevator & Stair/7/7Activity.csv', 'Activity-Data/Elevator & Stair/8/8Activity.csv', \n",
    "         'Activity-Data/Elevator & Stair/9/9Activity.csv']"
   ]
  },
  {
   "cell_type": "code",
   "execution_count": 56,
   "metadata": {
    "collapsed": true
   },
   "outputs": [],
   "source": [
    "input_pressure_file = 'Activity-Data/Elevator & Stair/2/2Pressure.csv'"
   ]
  },
  {
   "cell_type": "code",
   "execution_count": 57,
   "metadata": {},
   "outputs": [
    {
     "name": "stdout",
     "output_type": "stream",
     "text": [
      "390\n"
     ]
    },
    {
     "data": {
      "text/html": [
       "<div>\n",
       "<style>\n",
       "    .dataframe thead tr:only-child th {\n",
       "        text-align: right;\n",
       "    }\n",
       "\n",
       "    .dataframe thead th {\n",
       "        text-align: left;\n",
       "    }\n",
       "\n",
       "    .dataframe tbody tr th {\n",
       "        vertical-align: top;\n",
       "    }\n",
       "</style>\n",
       "<table border=\"1\" class=\"dataframe\">\n",
       "  <thead>\n",
       "    <tr style=\"text-align: right;\">\n",
       "      <th></th>\n",
       "      <th>timestamp</th>\n",
       "      <th>pressure</th>\n",
       "      <th>UUID</th>\n",
       "    </tr>\n",
       "  </thead>\n",
       "  <tbody>\n",
       "    <tr>\n",
       "      <th>0</th>\n",
       "      <td>1498222549723</td>\n",
       "      <td>958.629150</td>\n",
       "      <td>80ec3f676e17debf</td>\n",
       "    </tr>\n",
       "    <tr>\n",
       "      <th>1</th>\n",
       "      <td>1498222605646</td>\n",
       "      <td>958.629395</td>\n",
       "      <td>80ec3f676e17debf</td>\n",
       "    </tr>\n",
       "    <tr>\n",
       "      <th>2</th>\n",
       "      <td>1498222606005</td>\n",
       "      <td>958.531982</td>\n",
       "      <td>80ec3f676e17debf</td>\n",
       "    </tr>\n",
       "    <tr>\n",
       "      <th>3</th>\n",
       "      <td>1498222606185</td>\n",
       "      <td>958.483643</td>\n",
       "      <td>80ec3f676e17debf</td>\n",
       "    </tr>\n",
       "    <tr>\n",
       "      <th>4</th>\n",
       "      <td>1498222606379</td>\n",
       "      <td>958.430908</td>\n",
       "      <td>80ec3f676e17debf</td>\n",
       "    </tr>\n",
       "  </tbody>\n",
       "</table>\n",
       "</div>"
      ],
      "text/plain": [
       "       timestamp    pressure             UUID \n",
       "0  1498222549723  958.629150  80ec3f676e17debf\n",
       "1  1498222605646  958.629395  80ec3f676e17debf\n",
       "2  1498222606005  958.531982  80ec3f676e17debf\n",
       "3  1498222606185  958.483643  80ec3f676e17debf\n",
       "4  1498222606379  958.430908  80ec3f676e17debf"
      ]
     },
     "execution_count": 57,
     "metadata": {},
     "output_type": "execute_result"
    }
   ],
   "source": [
    "raw_pressure_values = pd.read_csv(input_pressure_file, header=0, delimiter=',')\n",
    "print(len(raw_pressure_values))\n",
    "raw_pressure_values.head()"
   ]
  },
  {
   "cell_type": "code",
   "execution_count": 41,
   "metadata": {},
   "outputs": [
    {
     "data": {
      "text/plain": [
       "(pandas.core.series.Series, pandas.core.series.Series)"
      ]
     },
     "execution_count": 41,
     "metadata": {},
     "output_type": "execute_result"
    }
   ],
   "source": [
    "type(raw_pressure_values['timestamp']), type(raw_pressure_values[' pressure'])"
   ]
  },
  {
   "cell_type": "code",
   "execution_count": 60,
   "metadata": {},
   "outputs": [
    {
     "data": {
      "text/plain": [
       "(279,)"
      ]
     },
     "execution_count": 60,
     "metadata": {},
     "output_type": "execute_result"
    }
   ],
   "source": [
    "pressure = raw_pressure_values[' pressure'].values\n",
    "pressure.shape"
   ]
  },
  {
   "cell_type": "code",
   "execution_count": 61,
   "metadata": {},
   "outputs": [
    {
     "data": {
      "text/plain": [
       "(279,)"
      ]
     },
     "execution_count": 61,
     "metadata": {},
     "output_type": "execute_result"
    }
   ],
   "source": [
    "ts = raw_pressure_values['timestamp'].values\n",
    "ts.shape"
   ]
  },
  {
   "cell_type": "code",
   "execution_count": 62,
   "metadata": {},
   "outputs": [],
   "source": [
    "derivative = np.gradient(pressure,ts)"
   ]
  },
  {
   "cell_type": "code",
   "execution_count": 63,
   "metadata": {
    "scrolled": true
   },
   "outputs": [
    {
     "data": {
      "text/plain": [
       "<matplotlib.lines.Line2D at 0x7fc50ca3f320>"
      ]
     },
     "execution_count": 63,
     "metadata": {},
     "output_type": "execute_result"
    },
    {
     "data": {
      "image/png": "[encoded data removed]",
      "text/plain": [
       "<matplotlib.figure.Figure at 0x7fc50ca3f390>"
      ]
     },
     "metadata": {},
     "output_type": "display_data"
    }
   ],
   "source": [
    "plt.plot(derivative)\n",
    "plt.axhline(y=0,color='r')"
   ]
  },
  {
   "cell_type": "code",
   "execution_count": 46,
   "metadata": {},
   "outputs": [],
   "source": [
    "gradient_pd = pd.DataFrame(derivative)"
   ]
  },
  {
   "cell_type": "code",
   "execution_count": 25,
   "metadata": {},
   "outputs": [
    {
     "data": {
      "text/plain": [
       "(          0\n",
       " 0 -0.000247\n",
       " 1 -0.000244\n",
       " 2 -0.000249\n",
       " 3 -0.000257\n",
       " 4 -0.000234,             0\n",
       " 398 -0.000046\n",
       " 399 -0.000093\n",
       " 400 -0.000016\n",
       " 401 -0.000002\n",
       " 402 -0.000033, 403)"
      ]
     },
     "execution_count": 25,
     "metadata": {},
     "output_type": "execute_result"
    }
   ],
   "source": [
    "gradient_pd.head(), gradient_pd.tail(), len(gradient_pd) "
   ]
  },
  {
   "cell_type": "code",
   "execution_count": 26,
   "metadata": {},
   "outputs": [
    {
     "data": {
      "text/plain": [
       "array([[<matplotlib.axes._subplots.AxesSubplot object at 0x7fc50d027a20>]], dtype=object)"
      ]
     },
     "execution_count": 26,
     "metadata": {},
     "output_type": "execute_result"
    },
    {
     "data": {
      "image/png": "[encoded data removed]",
      "text/plain": [
       "<matplotlib.figure.Figure at 0x7fc50d0521d0>"
      ]
     },
     "metadata": {},
     "output_type": "display_data"
    }
   ],
   "source": [
    "gradient_pd.hist()"
   ]
  },
  {
   "cell_type": "code",
   "execution_count": 27,
   "metadata": {
    "collapsed": true
   },
   "outputs": [],
   "source": [
    "def identify_transition(row):\n",
    "    if row[0] > 0:\n",
    "        return 'walking upstairs'\n",
    "    elif row[0] == 0:\n",
    "        return 'walking'\n",
    "    else:\n",
    "        return 'walking downstairs'"
   ]
  },
  {
   "cell_type": "code",
   "execution_count": 47,
   "metadata": {
    "collapsed": true
   },
   "outputs": [],
   "source": [
    "gradient_pd['transition'] = gradient_pd.apply(identify_transition, axis=1)\n"
   ]
  },
  {
   "cell_type": "code",
   "execution_count": 48,
   "metadata": {},
   "outputs": [
    {
     "data": {
      "text/html": [
       "<div>\n",
       "<style>\n",
       "    .dataframe thead tr:only-child th {\n",
       "        text-align: right;\n",
       "    }\n",
       "\n",
       "    .dataframe thead th {\n",
       "        text-align: left;\n",
       "    }\n",
       "\n",
       "    .dataframe tbody tr th {\n",
       "        vertical-align: top;\n",
       "    }\n",
       "</style>\n",
       "<table border=\"1\" class=\"dataframe\">\n",
       "  <thead>\n",
       "    <tr style=\"text-align: right;\">\n",
       "      <th></th>\n",
       "      <th>0</th>\n",
       "      <th>transition</th>\n",
       "    </tr>\n",
       "  </thead>\n",
       "  <tbody>\n",
       "    <tr>\n",
       "      <th>0</th>\n",
       "      <td>-0.000247</td>\n",
       "      <td>walking downstairs</td>\n",
       "    </tr>\n",
       "    <tr>\n",
       "      <th>1</th>\n",
       "      <td>-0.000244</td>\n",
       "      <td>walking downstairs</td>\n",
       "    </tr>\n",
       "    <tr>\n",
       "      <th>2</th>\n",
       "      <td>-0.000249</td>\n",
       "      <td>walking downstairs</td>\n",
       "    </tr>\n",
       "    <tr>\n",
       "      <th>3</th>\n",
       "      <td>-0.000257</td>\n",
       "      <td>walking downstairs</td>\n",
       "    </tr>\n",
       "    <tr>\n",
       "      <th>4</th>\n",
       "      <td>-0.000234</td>\n",
       "      <td>walking downstairs</td>\n",
       "    </tr>\n",
       "  </tbody>\n",
       "</table>\n",
       "</div>"
      ],
      "text/plain": [
       "          0          transition\n",
       "0 -0.000247  walking downstairs\n",
       "1 -0.000244  walking downstairs\n",
       "2 -0.000249  walking downstairs\n",
       "3 -0.000257  walking downstairs\n",
       "4 -0.000234  walking downstairs"
      ]
     },
     "execution_count": 48,
     "metadata": {},
     "output_type": "execute_result"
    }
   ],
   "source": [
    "gradient_pd.head()"
   ]
  },
  {
   "cell_type": "code",
   "execution_count": 49,
   "metadata": {},
   "outputs": [
    {
     "data": {
      "text/plain": [
       "walking upstairs      227\n",
       "walking downstairs    176\n",
       "Name: transition, dtype: int64"
      ]
     },
     "execution_count": 49,
     "metadata": {},
     "output_type": "execute_result"
    }
   ],
   "source": [
    "pd.value_counts(gradient_pd['transition'])"
   ]
  },
  {
   "cell_type": "code",
   "execution_count": 50,
   "metadata": {},
   "outputs": [],
   "source": [
    "gradient_pd = pd.concat([gradient_pd[0], gradient_pd['transition'], raw_pressure_values['timestamp']], axis=1)"
   ]
  },
  {
   "cell_type": "code",
   "execution_count": 51,
   "metadata": {},
   "outputs": [
    {
     "data": {
      "text/html": [
       "<div>\n",
       "<style>\n",
       "    .dataframe thead tr:only-child th {\n",
       "        text-align: right;\n",
       "    }\n",
       "\n",
       "    .dataframe thead th {\n",
       "        text-align: left;\n",
       "    }\n",
       "\n",
       "    .dataframe tbody tr th {\n",
       "        vertical-align: top;\n",
       "    }\n",
       "</style>\n",
       "<table border=\"1\" class=\"dataframe\">\n",
       "  <thead>\n",
       "    <tr style=\"text-align: right;\">\n",
       "      <th></th>\n",
       "      <th>0</th>\n",
       "      <th>transition</th>\n",
       "      <th>timestamp</th>\n",
       "    </tr>\n",
       "  </thead>\n",
       "  <tbody>\n",
       "    <tr>\n",
       "      <th>0</th>\n",
       "      <td>-0.000247</td>\n",
       "      <td>walking downstairs</td>\n",
       "      <td>1498222476815</td>\n",
       "    </tr>\n",
       "    <tr>\n",
       "      <th>1</th>\n",
       "      <td>-0.000244</td>\n",
       "      <td>walking downstairs</td>\n",
       "      <td>1498222477172</td>\n",
       "    </tr>\n",
       "    <tr>\n",
       "      <th>2</th>\n",
       "      <td>-0.000249</td>\n",
       "      <td>walking downstairs</td>\n",
       "      <td>1498222477362</td>\n",
       "    </tr>\n",
       "    <tr>\n",
       "      <th>3</th>\n",
       "      <td>-0.000257</td>\n",
       "      <td>walking downstairs</td>\n",
       "      <td>1498222477534</td>\n",
       "    </tr>\n",
       "    <tr>\n",
       "      <th>4</th>\n",
       "      <td>-0.000234</td>\n",
       "      <td>walking downstairs</td>\n",
       "      <td>1498222477715</td>\n",
       "    </tr>\n",
       "  </tbody>\n",
       "</table>\n",
       "</div>"
      ],
      "text/plain": [
       "          0          transition      timestamp\n",
       "0 -0.000247  walking downstairs  1498222476815\n",
       "1 -0.000244  walking downstairs  1498222477172\n",
       "2 -0.000249  walking downstairs  1498222477362\n",
       "3 -0.000257  walking downstairs  1498222477534\n",
       "4 -0.000234  walking downstairs  1498222477715"
      ]
     },
     "execution_count": 51,
     "metadata": {},
     "output_type": "execute_result"
    }
   ],
   "source": [
    "gradient_pd.head()"
   ]
  },
  {
   "cell_type": "code",
   "execution_count": 52,
   "metadata": {},
   "outputs": [
    {
     "data": {
      "text/html": [
       "<div>\n",
       "<style>\n",
       "    .dataframe thead tr:only-child th {\n",
       "        text-align: right;\n",
       "    }\n",
       "\n",
       "    .dataframe thead th {\n",
       "        text-align: left;\n",
       "    }\n",
       "\n",
       "    .dataframe tbody tr th {\n",
       "        vertical-align: top;\n",
       "    }\n",
       "</style>\n",
       "<table border=\"1\" class=\"dataframe\">\n",
       "  <thead>\n",
       "    <tr style=\"text-align: right;\">\n",
       "      <th></th>\n",
       "      <th>0</th>\n",
       "      <th>transition</th>\n",
       "      <th>timestamp</th>\n",
       "    </tr>\n",
       "  </thead>\n",
       "  <tbody>\n",
       "    <tr>\n",
       "      <th>398</th>\n",
       "      <td>-0.000046</td>\n",
       "      <td>walking downstairs</td>\n",
       "      <td>1498222549013</td>\n",
       "    </tr>\n",
       "    <tr>\n",
       "      <th>399</th>\n",
       "      <td>-0.000093</td>\n",
       "      <td>walking downstairs</td>\n",
       "      <td>1498222549179</td>\n",
       "    </tr>\n",
       "    <tr>\n",
       "      <th>400</th>\n",
       "      <td>-0.000016</td>\n",
       "      <td>walking downstairs</td>\n",
       "      <td>1498222549358</td>\n",
       "    </tr>\n",
       "    <tr>\n",
       "      <th>401</th>\n",
       "      <td>-0.000002</td>\n",
       "      <td>walking downstairs</td>\n",
       "      <td>1498222549539</td>\n",
       "    </tr>\n",
       "    <tr>\n",
       "      <th>402</th>\n",
       "      <td>-0.000033</td>\n",
       "      <td>walking downstairs</td>\n",
       "      <td>1498222549723</td>\n",
       "    </tr>\n",
       "  </tbody>\n",
       "</table>\n",
       "</div>"
      ],
      "text/plain": [
       "            0          transition      timestamp\n",
       "398 -0.000046  walking downstairs  1498222549013\n",
       "399 -0.000093  walking downstairs  1498222549179\n",
       "400 -0.000016  walking downstairs  1498222549358\n",
       "401 -0.000002  walking downstairs  1498222549539\n",
       "402 -0.000033  walking downstairs  1498222549723"
      ]
     },
     "execution_count": 52,
     "metadata": {},
     "output_type": "execute_result"
    }
   ],
   "source": [
    "gradient_pd.tail()"
   ]
  },
  {
   "cell_type": "code",
   "execution_count": 53,
   "metadata": {},
   "outputs": [
    {
     "name": "stdout",
     "output_type": "stream",
     "text": [
      "                0          transition      timestamp\n",
      "0   -2.468761e-04  walking downstairs  1498222476815\n",
      "1   -2.442522e-04  walking downstairs  1498222477172\n",
      "2   -2.487451e-04  walking downstairs  1498222477362\n",
      "3   -2.571220e-04  walking downstairs  1498222477534\n",
      "4   -2.336736e-04  walking downstairs  1498222477715\n",
      "5   -1.530701e-04  walking downstairs  1498222477894\n",
      "6   -1.070515e-04  walking downstairs  1498222478082\n",
      "7   -8.034412e-05  walking downstairs  1498222478255\n",
      "8   -1.227523e-05  walking downstairs  1498222478434\n",
      "9    1.559054e-05    walking upstairs  1498222478613\n",
      "10  -4.537297e-05  walking downstairs  1498222478795\n",
      "11  -8.964179e-05  walking downstairs  1498222478973\n",
      "12  -5.275068e-05  walking downstairs  1498222479156\n",
      "13  -7.251737e-05  walking downstairs  1498222479336\n",
      "14  -4.494612e-05  walking downstairs  1498222479513\n",
      "15  -5.624028e-06  walking downstairs  1498222479693\n",
      "16   3.689503e-05    walking upstairs  1498222479879\n",
      "17   1.224933e-04    walking upstairs  1498222480054\n",
      "18   5.444799e-05    walking upstairs  1498222480236\n",
      "19  -8.480096e-06  walking downstairs  1498222480414\n",
      "20   2.332978e-05    walking upstairs  1498222480595\n",
      "21   2.702023e-06    walking upstairs  1498222480773\n",
      "22   8.144275e-06    walking upstairs  1498222480962\n",
      "23  -1.250599e-05  walking downstairs  1498222481135\n",
      "24  -4.164658e-05  walking downstairs  1498222481316\n",
      "25   6.187473e-07    walking upstairs  1498222481494\n",
      "26   3.455844e-05    walking upstairs  1498222481673\n",
      "27   3.528751e-05    walking upstairs  1498222481853\n",
      "28   1.216591e-05    walking upstairs  1498222482034\n",
      "29   1.634160e-05    walking upstairs  1498222482214\n",
      "..            ...                 ...            ...\n",
      "373 -1.176313e-04  walking downstairs  1498222544497\n",
      "374 -8.671530e-05  walking downstairs  1498222544677\n",
      "375 -2.423666e-05  walking downstairs  1498222544864\n",
      "376 -2.880311e-05  walking downstairs  1498222545042\n",
      "377 -3.459869e-05  walking downstairs  1498222545220\n",
      "378  3.344321e-05    walking upstairs  1498222545401\n",
      "379  2.744123e-05    walking upstairs  1498222545578\n",
      "380  2.549316e-05    walking upstairs  1498222545759\n",
      "381  2.828252e-05    walking upstairs  1498222545938\n",
      "382  1.085012e-05    walking upstairs  1498222546120\n",
      "383  3.574564e-06    walking upstairs  1498222546301\n",
      "384  1.917977e-05    walking upstairs  1498222546478\n",
      "385 -2.377394e-06  walking downstairs  1498222546658\n",
      "386 -2.577953e-05  walking downstairs  1498222546837\n",
      "387  2.608362e-05    walking upstairs  1498222547020\n",
      "388 -1.778863e-06  walking downstairs  1498222547198\n",
      "389 -2.811877e-05  walking downstairs  1498222547380\n",
      "390 -2.239839e-05  walking downstairs  1498222547557\n",
      "391 -2.197506e-06  walking downstairs  1498222547737\n",
      "392  3.148870e-05    walking upstairs  1498222547918\n",
      "393  6.258779e-06    walking upstairs  1498222548101\n",
      "394  1.826452e-05    walking upstairs  1498222548276\n",
      "395  5.730698e-05    walking upstairs  1498222548458\n",
      "396  6.103516e-06    walking upstairs  1498222548638\n",
      "397 -9.348291e-07  walking downstairs  1498222548818\n",
      "398 -4.600701e-05  walking downstairs  1498222549013\n",
      "399 -9.297355e-05  walking downstairs  1498222549179\n",
      "400 -1.608864e-05  walking downstairs  1498222549358\n",
      "401 -2.170059e-06  walking downstairs  1498222549539\n",
      "402 -3.317128e-05  walking downstairs  1498222549723\n",
      "\n",
      "[403 rows x 3 columns]\n"
     ]
    }
   ],
   "source": [
    "print(gradient_pd)"
   ]
  },
  {
   "cell_type": "code",
   "execution_count": 142,
   "metadata": {},
   "outputs": [
    {
     "data": {
      "text/plain": [
       "[<matplotlib.lines.Line2D at 0x7fc505f6e0b8>]"
      ]
     },
     "execution_count": 142,
     "metadata": {},
     "output_type": "execute_result"
    },
    {
     "data": {
      "image/png": "[encoded data removed]",
      "text/plain": [
       "<matplotlib.figure.Figure at 0x7fc50c9089e8>"
      ]
     },
     "metadata": {},
     "output_type": "display_data"
    }
   ],
   "source": [
    "input_pressure_file = 'Activity-Data/Elevator & Stair/4/4Pressure.csv'\n",
    "raw_pressure_values = pd.read_csv(input_pressure_file, header=0, delimiter=',')\n",
    "plt.plot(raw_pressure_values[' pressure'])"
   ]
  },
  {
   "cell_type": "code",
   "execution_count": 143,
   "metadata": {},
   "outputs": [
    {
     "data": {
      "text/plain": [
       "(       timestamp    pressure             UUID \n",
       " 0  1498222792102  958.580566  80ec3f676e17debf\n",
       " 1  1498222851007  958.407959  80ec3f676e17debf\n",
       " 2  1498222851223  958.365479  80ec3f676e17debf\n",
       " 3  1498222851369  958.297119  80ec3f676e17debf\n",
       " 4  1498222851547  958.240479  80ec3f676e17debf, 308)"
      ]
     },
     "execution_count": 143,
     "metadata": {},
     "output_type": "execute_result"
    }
   ],
   "source": [
    "raw_pressure_values.head(), len(raw_pressure_values)"
   ]
  },
  {
   "cell_type": "code",
   "execution_count": 144,
   "metadata": {},
   "outputs": [
    {
     "data": {
      "text/plain": [
       "Index(['timestamp', ' pressure', ' UUID '], dtype='object')"
      ]
     },
     "execution_count": 144,
     "metadata": {},
     "output_type": "execute_result"
    }
   ],
   "source": [
    "raw_pressure_values.columns"
   ]
  },
  {
   "cell_type": "code",
   "execution_count": 182,
   "metadata": {},
   "outputs": [
    {
     "name": "stdout",
     "output_type": "stream",
     "text": [
      "1\n",
      "20 20\n"
     ]
    }
   ],
   "source": [
    "windows = []\n",
    "ts_windows = []\n",
    "ts_begin = None\n",
    "window_time_period = 3000\n",
    "for row in raw_pressure_values.iterrows():\n",
    "#     print(\"Col1\", type(row[1][1]))\n",
    "#     print(\"Col2\", type(row[1][0]))\n",
    "    if ts_begin == None:\n",
    "        print(1)\n",
    "        ts_begin = row[1][0]\n",
    "        window = []\n",
    "        ts_window = []\n",
    "        window.append(row[1][1])\n",
    "        ts_window.append(row[1][0])\n",
    "    elif(row[1][0] <= (ts_begin + window_time_period)):\n",
    "        window.append(row[1][1])\n",
    "        ts_window.append(row[1][0])\n",
    "    else:\n",
    "        windows.append(window)\n",
    "        ts_windows.append(ts_window)\n",
    "        window = [row[1][1]]\n",
    "        ts_window = [row[1][0]]\n",
    "        ts_begin = row[1][0]\n",
    "print(len(ts_windows),len(windows))"
   ]
  },
  {
   "cell_type": "code",
   "execution_count": 162,
   "metadata": {},
   "outputs": [
    {
     "name": "stdout",
     "output_type": "stream",
     "text": [
      "[1498222851007, 1498222851223, 1498222851369, 1498222851547, 1498222851729, 1498222851907, 1498222852090, 1498222852273, 1498222852446, 1498222852627, 1498222852807, 1498222852987] [958.407958984375, 958.365478515625, 958.297119140625, 958.240478515625, 958.1708984375, 958.11572265625, 958.083251953125, 958.037109375, 957.99755859375, 957.97314453125, 957.96484375, 957.949462890625]\n"
     ]
    }
   ],
   "source": [
    "print(ts_windows[1],windows[1])"
   ]
  },
  {
   "cell_type": "code",
   "execution_count": 183,
   "metadata": {},
   "outputs": [
    {
     "name": "stdout",
     "output_type": "stream",
     "text": [
      "1 1\n",
      "17 17\n",
      "16 16\n",
      "14 14\n",
      "17 17\n",
      "16 16\n",
      "17 17\n",
      "14 14\n",
      "14 14\n",
      "15 15\n",
      "17 17\n",
      "17 17\n",
      "17 17\n",
      "17 17\n",
      "14 14\n",
      "12 12\n",
      "17 17\n",
      "16 16\n",
      "16 16\n",
      "16 16\n"
     ]
    }
   ],
   "source": [
    "for i in range(len(windows)):\n",
    "    print(len(windows[i]),len(ts_windows[i]))"
   ]
  },
  {
   "cell_type": "code",
   "execution_count": 184,
   "metadata": {},
   "outputs": [],
   "source": [
    "ts_windows = ts_windows[1:]\n",
    "windows = windows[1:]\n",
    "windows = np.array(windows)\n",
    "ts_windows = np.array(ts_windows)"
   ]
  },
  {
   "cell_type": "code",
   "execution_count": 149,
   "metadata": {},
   "outputs": [
    {
     "name": "stdout",
     "output_type": "stream",
     "text": [
      "[array([ -1.96668837e-04,  -3.58696320e-04,  -4.00618187e-04,\n",
      "        -3.49900816e-04,  -3.45740367e-04,  -2.44623790e-04,\n",
      "        -2.14790386e-04,  -2.40050785e-04,  -1.82809907e-04,\n",
      "        -9.03769387e-05,  -6.57823351e-05,  -4.85162830e-05,\n",
      "        -6.94861040e-05,  -1.05102731e-04,  -3.86008085e-06,\n",
      "         5.32391458e-05,   2.74168616e-05]), array([  5.57277514e-05,   4.62252266e-05,   7.22918476e-05,\n",
      "         8.64860847e-05,   2.35712725e-05,  -3.17176383e-05,\n",
      "         2.49018266e-05,   1.17520467e-04,   8.29033997e-05,\n",
      "         3.86122753e-05,   8.44978643e-05,   1.33286699e-04,\n",
      "         3.19798173e-05,  -7.42640137e-05,  -7.97081366e-05,\n",
      "        -5.42534722e-05]), array([ -4.06901042e-06,  -4.34027778e-05,  -6.63673424e-05,\n",
      "        -1.55116972e-05,   8.73570078e-06,  -1.17510691e-05,\n",
      "        -7.13698899e-05,  -4.77619162e-05,   1.71802662e-05,\n",
      "         5.61731971e-05,   8.13692537e-05,  -1.62960524e-05,\n",
      "        -3.11547914e-06,   4.47591146e-05]), array([ -6.29228415e-05,  -8.92488486e-05,  -8.48288120e-05,\n",
      "        -5.68017231e-05,  -9.24038753e-05,  -1.17149653e-04,\n",
      "        -4.55802482e-05,   8.90573889e-06,   1.73452826e-05,\n",
      "        -4.00119358e-05,  -3.76348850e-05,   1.39334627e-05,\n",
      "         2.13108858e-05,  -1.18755288e-05,  -8.55897027e-05,\n",
      "        -4.72925415e-05,  -4.09174232e-06]), array([ -3.79774306e-05,  -2.78049045e-05,   3.18739149e-05,\n",
      "         6.42602750e-05,   6.17869365e-05,   5.11452804e-05,\n",
      "         4.24985532e-05,   6.66999515e-05,   9.82621085e-05,\n",
      "         1.37487418e-04,   2.91418254e-05,  -2.32065599e-05,\n",
      "        -3.05641196e-05,  -7.44500322e-05,  -6.47252485e-05,\n",
      "        -6.78168403e-05]), array([ -1.07749214e-04,  -6.13761348e-05,  -4.84543673e-05,\n",
      "        -6.06039484e-05,   7.62190434e-06,   4.71734750e-05,\n",
      "         6.64123038e-05,   1.59048806e-05,  -5.15175364e-05,\n",
      "         1.24387773e-05,   7.64430342e-05,   3.36225115e-05,\n",
      "        -2.50221948e-05,  -1.82898518e-05,   1.28189985e-05,\n",
      "         9.56749367e-05,   1.60512345e-04]), array([  1.62760417e-05,   7.31848364e-05,   4.66408309e-06,\n",
      "        -8.90901310e-05,  -4.78017273e-05,  -5.30036921e-05,\n",
      "        -5.72510989e-05,  -4.06901042e-06,  -5.23449349e-05,\n",
      "        -2.25514077e-05,   8.35348335e-05,   6.53878572e-05,\n",
      "         8.96300409e-05,   1.04437934e-04]), array([ -1.28495066e-06,   4.17875104e-05,   2.61782657e-05,\n",
      "        -3.25601219e-05,  -4.12116371e-05,  -5.35367104e-05,\n",
      "        -6.10889408e-05,  -3.68256809e-05,  -6.07302778e-05,\n",
      "        -8.06713821e-05,  -3.75093998e-05,  -9.71348692e-05,\n",
      "        -8.21565778e-05,  -3.25520833e-05]), array([ -1.18771115e-05,  -5.16565324e-05,  -6.38722630e-05,\n",
      "        -5.36128309e-05,  -3.03748787e-05,   6.77798914e-06,\n",
      "         1.49385530e-05,   9.49435764e-06,  -2.35768373e-05,\n",
      "         4.77685798e-05,   1.17173780e-04,   1.11172702e-04,\n",
      "         1.21799677e-04,   1.28058408e-04,   1.38854980e-04]), array([  7.86675347e-05,   9.04057326e-05,   9.17458969e-05,\n",
      "         5.46159219e-05,   3.59429253e-05,   1.62760417e-05,\n",
      "        -3.62058066e-06,   5.86650263e-05,   4.73311670e-05,\n",
      "        -5.31646790e-05,  -1.61941416e-05,   5.47895737e-05,\n",
      "         2.91612413e-05,  -5.35098792e-06,  -1.42158854e-05,\n",
      "         9.79648864e-06,   3.89015282e-05]), array([  7.59548611e-05,   4.34027778e-05,   4.27246094e-05,\n",
      "         6.76674878e-05,   4.72095131e-05,   8.90236533e-05,\n",
      "         5.21975439e-05,  -2.67275230e-05,  -2.78049045e-05,\n",
      "        -7.96207939e-05,  -5.39212484e-05,   2.22968671e-05,\n",
      "         2.91612413e-05,   6.19021579e-05,   8.31888928e-05,\n",
      "         6.06045900e-06,  -5.36572802e-05]), array([  7.28375345e-05,   7.75584858e-05,   2.87849124e-05,\n",
      "        -4.72136232e-05,  -4.72035598e-05,   3.10493289e-05,\n",
      "         4.77910868e-05,   2.44140625e-05,   4.71692238e-07,\n",
      "         2.57494047e-05,   4.43885252e-05,   4.35425440e-05,\n",
      "         8.22476082e-05,   5.47085244e-05,   6.90441903e-05,\n",
      "         7.92324201e-05,   5.34914853e-05]), array([  1.18698204e-04,   3.43325397e-05,   6.16419683e-06,\n",
      "         3.43955024e-05,   1.96838947e-05,  -8.38813507e-06,\n",
      "         3.83565886e-05,   3.73782353e-05,   3.67861994e-05,\n",
      "         6.84626211e-05,   5.73668071e-05,   1.23646786e-04,\n",
      "         1.15125781e-04,   7.31187371e-05,   1.06416659e-04,\n",
      "         3.73042053e-05,  -6.25238186e-05]), array([ -4.04652970e-06,  -4.31629834e-05,  -5.96906280e-05,\n",
      "        -2.84054343e-05,  -2.69391794e-05,  -3.87979741e-05,\n",
      "         1.59806536e-05,   1.48033826e-05,  -7.92151348e-05,\n",
      "        -5.29689370e-05,   4.39443484e-05,   4.66093194e-05,\n",
      "         2.74172014e-05,   1.04922744e-04]), array([ -3.95535091e-05,  -3.40337094e-05,  -1.69712003e-05,\n",
      "         3.62347455e-06,   4.47498639e-06,  -1.38308093e-06,\n",
      "        -3.37381947e-06,   1.80024711e-05,   4.40685646e-05,\n",
      "        -1.86318762e-05,   5.04362082e-05,   1.33663582e-04]), array([  2.69768646e-05,   2.78141564e-05,  -7.27994958e-06,\n",
      "        -8.63266311e-05,  -5.31391295e-05,   4.78475234e-05,\n",
      "         5.46716593e-05,   7.08129412e-05,   1.18814899e-04,\n",
      "         8.46623235e-05,   9.33871243e-05,   1.19740911e-04,\n",
      "         6.80917395e-05,   1.32774574e-06,  -9.18104748e-06,\n",
      "         1.44436510e-05,   4.13797669e-06]), array([  5.90230082e-05,   2.84901904e-05,  -3.03623286e-05,\n",
      "         1.79521652e-05,   8.85576374e-05,   7.87494268e-05,\n",
      "         6.91731771e-05,   3.52725204e-05,   2.65632319e-05,\n",
      "         3.31292608e-05,   7.41896259e-06,  -9.71709508e-07,\n",
      "        -6.30734920e-06,  -2.17328703e-05,  -2.84570634e-05,\n",
      "        -3.79774306e-05]), array([  4.88281250e-05,   3.20461436e-06,  -3.16879062e-05,\n",
      "        -2.20225828e-05,  -1.05869059e-05,  -7.86470901e-06,\n",
      "        -4.87714175e-05,  -3.52030073e-05,   3.04980011e-05,\n",
      "        -9.48055279e-07,  -6.14739014e-05,  -7.00617824e-05,\n",
      "        -1.09691217e-05,   3.18739149e-05,  -6.78168403e-07,\n",
      "        -9.49435764e-06]), array([ -1.20090794e-04,  -3.57910286e-05,   3.67836005e-05,\n",
      "        -3.39084201e-06,  -1.96668837e-05,   2.71267361e-05,\n",
      "         4.63415075e-05,   2.46401186e-05,   1.69542101e-05,\n",
      "        -2.50922309e-05,  -2.10232205e-05,   9.74164558e-08,\n",
      "         4.06008492e-06,  -3.99486002e-05,  -7.67082774e-05,\n",
      "        -5.05118534e-05])]\n",
      "[-0.0028363678589839519, 0.00055806127196015556, -7.1427702128719795e-05, -0.00071393696824759308, 0.00025661112822052232, 0.00015560991862723143, 0.00011100362441782942, -0.00054929685575760107, 0.00046106857317719724, 0.00051375280369907574, 0.00037905831442174552, 0.00064089462236564647, 0.00083632500482604512, -7.954915093177193e-05, 0.00014032209178929713, 0.0005768027575675733, 0.00031852082919523004, -0.0001953572602107872, -0.00023622005637343038]\n"
     ]
    }
   ],
   "source": [
    "derivative_windows = []\n",
    "sum_windows = []\n",
    "for i in range(len(windows)):\n",
    "    derivative_window = np.gradient(windows[i],ts_windows[i])\n",
    "    derivative_windows.append(derivative_window)\n",
    "    sum_windows.append(sum(derivative_window))\n",
    "print(derivative_windows)\n",
    "print(sum_windows)"
   ]
  },
  {
   "cell_type": "code",
   "execution_count": 150,
   "metadata": {},
   "outputs": [
    {
     "data": {
      "text/plain": [
       "<matplotlib.lines.Line2D at 0x7fc505edfd68>"
      ]
     },
     "execution_count": 150,
     "metadata": {},
     "output_type": "execute_result"
    },
    {
     "data": {
      "image/png": "[encoded data removed]",
      "text/plain": [
       "<matplotlib.figure.Figure at 0x7fc50c023358>"
      ]
     },
     "metadata": {},
     "output_type": "display_data"
    }
   ],
   "source": [
    "plt.plot(sum_windows[1:])\n",
    "plt.axhline(y=0, c='r')\n",
    "plt.axhline(y=-0.00025, c='y')\n",
    "plt.axhline(y=0.00025, c='y')"
   ]
  },
  {
   "cell_type": "code",
   "execution_count": 177,
   "metadata": {},
   "outputs": [
    {
     "name": "stdout",
     "output_type": "stream",
     "text": [
      "[[0.14594263252135264], [0.0295671810573278], [0.060702515443022555], [0.044190095492985991], [0.022292733142530514], [0.029440262956463573], [0.059442939772806964], [0.035446790063420025], [0.040513262362682594], [0.052088218176254135], [0.055204289299556203], [0.050514629561170019], [0.020313032839613429], [0.012840224820945732]]\n"
     ]
    }
   ],
   "source": [
    "standard_deviation_windows = []\n",
    "# sum_windows = []\n",
    "for i in range(len(windows)):\n",
    "    standard_deviation_windows.append([np.std(windows[i])])\n",
    "#     sum_windows.append(sum(derivative_window))\n",
    "print(standard_deviation_windows)\n",
    "# print(sum_windows)"
   ]
  },
  {
   "cell_type": "code",
   "execution_count": 178,
   "metadata": {},
   "outputs": [
    {
     "data": {
      "text/plain": [
       "[<matplotlib.lines.Line2D at 0x7fc505bc6e48>]"
      ]
     },
     "execution_count": 178,
     "metadata": {},
     "output_type": "execute_result"
    },
    {
     "data": {
      "image/png": "[encoded data removed]",
      "text/plain": [
       "<matplotlib.figure.Figure at 0x7fc505c094e0>"
      ]
     },
     "metadata": {},
     "output_type": "display_data"
    }
   ],
   "source": [
    "plt.plot(standard_deviation_windows)\n",
    "# plt.axhline(y=0, c='r')\n",
    "# plt.axhline(y=-0.00025, c='y')\n",
    "# plt.axhline(y=0.00025, c='y')"
   ]
  },
  {
   "cell_type": "code",
   "execution_count": 185,
   "metadata": {},
   "outputs": [
    {
     "name": "stdout",
     "output_type": "stream",
     "text": [
      "[0.223388671875, 0.10406494140625, 0.02520751953125, 0.048095703125, 0.0841064453125, 0.020751953125, 0.02667236328125, 0.06707763671875, 0.042724609375, 0.0234375, 0.031494140625, 0.034912109375, 0.081787109375, 0.0206298828125, 0.017333984375, 0.09326171875, 0.06048583984375, 0.02813720703125, 0.017333984375]\n"
     ]
    }
   ],
   "source": [
    "from scipy.stats import iqr\n",
    "iqr_windows = []\n",
    "# sum_windows = []\n",
    "for i in range(len(windows)):\n",
    "    iqr_windows.append(iqr(windows[i]))\n",
    "#     sum_windows.append(sum(derivative_window))\n",
    "print(iqr_windows)\n",
    "# print(sum_windows)"
   ]
  },
  {
   "cell_type": "code",
   "execution_count": 186,
   "metadata": {},
   "outputs": [
    {
     "data": {
      "text/plain": [
       "[<matplotlib.lines.Line2D at 0x7fc4fdcc4c50>]"
      ]
     },
     "execution_count": 186,
     "metadata": {},
     "output_type": "execute_result"
    },
    {
     "data": {
      "image/png": "[encoded data removed]",
      "text/plain": [
       "<matplotlib.figure.Figure at 0x7fc4fe0f7d68>"
      ]
     },
     "metadata": {},
     "output_type": "display_data"
    }
   ],
   "source": [
    "plt.plot(iqr_windows)\n",
    "# plt.axhline(y=0, c='r')\n",
    "# plt.axhline(y=-0.00025, c='y')\n",
    "# plt.axhline(y=0.00025, c='y')"
   ]
  },
  {
   "cell_type": "code",
   "execution_count": 187,
   "metadata": {},
   "outputs": [
    {
     "name": "stdout",
     "output_type": "stream",
     "text": [
      "308\n"
     ]
    }
   ],
   "source": [
    "sample_windows = []\n",
    "sample_ts_windows = []athens\n",
    "sample_window_length = 10\n",
    "for i in range(len(raw_pressure_values)):\n",
    "    sample_window = raw_pressure_values[i:i+sample_window_length]\n",
    "    sample_windows.append(sample_window)\n",
    "print(len(sample_windows))"
   ]
  },
  {
   "cell_type": "code",
   "execution_count": 188,
   "metadata": {},
   "outputs": [
    {
     "data": {
      "text/plain": [
       "308"
      ]
     },
     "execution_count": 188,
     "metadata": {},
     "output_type": "execute_result"
    }
   ],
   "source": [
    "len(raw_pressure_values)"
   ]
  },
  {
   "cell_type": "code",
   "execution_count": 194,
   "metadata": {},
   "outputs": [
    {
     "name": "stdout",
     "output_type": "stream",
     "text": [
      "299\n",
      "         timestamp    pressure             UUID \n",
      "298  1498222909515  958.667725  80ec3f676e17debf\n",
      "299  1498222909689  958.658936  80ec3f676e17debf\n",
      "300  1498222909873  958.657227  80ec3f676e17debf\n",
      "301  1498222910057  958.660400  80ec3f676e17debf\n",
      "302  1498222910230  958.668213  80ec3f676e17debf\n",
      "303  1498222910409  958.647461  80ec3f676e17debf\n",
      "304  1498222910592  958.642578  80ec3f676e17debf\n",
      "305  1498222910769  958.649658  80ec3f676e17debf\n",
      "306  1498222910952  958.655273  80ec3f676e17debf\n",
      "307  1498222911131  958.648682  80ec3f676e17debf\n"
     ]
    }
   ],
   "source": [
    "sample_windows = sample_windows[:-1 * (sample_window_length-1)]\n",
    "print(len(sample_windows))\n",
    "print(sample_windows[-1])"
   ]
  },
  {
   "cell_type": "code",
   "execution_count": 205,
   "metadata": {},
   "outputs": [
    {
     "name": "stdout",
     "output_type": "stream",
     "text": [
      "299 299\n"
     ]
    }
   ],
   "source": [
    "sw_pressures = []\n",
    "sw_ts = []\n",
    "for window in sample_windows:\n",
    "    sw_pressures.append(np.array(window[' pressure']))\n",
    "    sw_ts.append(np.array(window['timestamp']))\n",
    "print(len(sw_pressures), len(sw_ts))"
   ]
  },
  {
   "cell_type": "code",
   "execution_count": 206,
   "metadata": {},
   "outputs": [
    {
     "name": "stdout",
     "output_type": "stream",
     "text": [
      "[ 958.66772461  958.65893555  958.65722656  958.66040039  958.66821289\n",
      "  958.64746094  958.64257812  958.6496582   958.65527344  958.64868164] [1498222909515 1498222909689 1498222909873 1498222910057 1498222910230\n",
      " 1498222910409 1498222910592 1498222910769 1498222910952 1498222911131]\n"
     ]
    }
   ],
   "source": [
    "print(sw_pressures[-1],sw_ts[-1])"
   ]
  },
  {
   "cell_type": "code",
   "execution_count": 207,
   "metadata": {},
   "outputs": [
    {
     "name": "stdout",
     "output_type": "stream",
     "text": [
      "299\n"
     ]
    }
   ],
   "source": [
    "sw_pressures_medians = []\n",
    "for window in sw_pressures:\n",
    "    sw_pressures_medians.append(np.median(window))\n",
    "print(len(sw_pressures_medians))"
   ]
  },
  {
   "cell_type": "code",
   "execution_count": 208,
   "metadata": {},
   "outputs": [
    {
     "data": {
      "text/plain": [
       "[<matplotlib.lines.Line2D at 0x7fc4fc36f9b0>]"
      ]
     },
     "execution_count": 208,
     "metadata": {},
     "output_type": "execute_result"
    },
    {
     "data": {
      "image/png": "[encoded data removed]",
      "text/plain": [
       "<matplotlib.figure.Figure at 0x7fc4fdc086a0>"
      ]
     },
     "metadata": {},
     "output_type": "display_data"
    }
   ],
   "source": [
    "plt.plot(sw_pressures_medians)"
   ]
  },
  {
   "cell_type": "code",
   "execution_count": 226,
   "metadata": {},
   "outputs": [
    {
     "name": "stdout",
     "output_type": "stream",
     "text": [
      "299 [[958.6829833984375, 958.6829833984375, 958.6829833984375, 958.681396484375, 958.6748046875, 958.66796875, 958.6640625, 958.65966796875, 958.6580810546875, 958.65625], [958.6829833984375, 958.6829833984375, 958.681396484375, 958.6748046875, 958.66796875, 958.6640625, 958.65966796875, 958.6580810546875, 958.65625], [958.6829833984375, 958.681396484375, 958.6748046875, 958.66796875, 958.6640625, 958.65966796875, 958.6580810546875, 958.65625], [958.681396484375, 958.6748046875, 958.66796875, 958.6640625, 958.65966796875, 958.6580810546875, 958.65625], [958.6748046875, 958.66796875, 958.6640625, 958.65966796875, 958.6580810546875, 958.65625], [958.66796875, 958.6640625, 958.65966796875, 958.6580810546875, 958.65625], [958.6640625, 958.65966796875, 958.6580810546875, 958.65625], [958.65966796875, 958.6580810546875, 958.65625], [958.6580810546875, 958.65625]]\n",
      "290\n",
      "[958.6829833984375, 958.6829833984375, 958.6829833984375, 958.681396484375, 958.6748046875, 958.66796875, 958.6640625, 958.65966796875, 958.6580810546875, 958.65625]\n"
     ]
    }
   ],
   "source": [
    "sw_pr_median_windows = []\n",
    "for i in range(len(sw_pressures_medians)):\n",
    "    sw_pr_median_windows.append(sw_pressures_medians[i:i+sample_window_length])\n",
    "print(len(sw_pr_median_windows),sw_pr_median_windows[-10:-1])\n",
    "sw_pr_median_windows = sw_pr_median_windows[:-1 * (sample_window_length-1)]\n",
    "print(len(sw_pr_median_windows))\n",
    "print(sw_pr_median_windows[-1])"
   ]
  },
  {
   "cell_type": "code",
   "execution_count": 229,
   "metadata": {},
   "outputs": [
    {
     "name": "stdout",
     "output_type": "stream",
     "text": [
      "290\n"
     ]
    }
   ],
   "source": [
    "sw_sd_pr_median_windows = []\n",
    "for window in sw_pr_median_windows:\n",
    "#     print(window)\n",
    "    sw_sd_pr_median_windows.append(np.std(window))\n",
    "print(len(sw_sd_pr_median_windows))"
   ]
  },
  {
   "cell_type": "code",
   "execution_count": 230,
   "metadata": {},
   "outputs": [
    {
     "data": {
      "text/plain": [
       "[<matplotlib.lines.Line2D at 0x7fc4fc080198>]"
      ]
     },
     "execution_count": 230,
     "metadata": {},
     "output_type": "execute_result"
    },
    {
     "data": {
      "image/png": "[encoded data removed]",
      "text/plain": [
       "<matplotlib.figure.Figure at 0x7fc4fc0b2160>"
      ]
     },
     "metadata": {},
     "output_type": "display_data"
    }
   ],
   "source": [
    "plt.plot(sw_sd_pr_median_windows)"
   ]
  },
  {
   "cell_type": "code",
   "execution_count": 236,
   "metadata": {},
   "outputs": [
    {
     "name": "stdout",
     "output_type": "stream",
     "text": [
      "290\n",
      "290\n"
     ]
    }
   ],
   "source": [
    "sw_sd_pr_derivative_windows = []\n",
    "sw_sd_pr_derivative_sums_windows = []\n",
    "for window in sw_pr_median_windows:\n",
    "    derivative_window = np.gradient(window)\n",
    "#     print(len(window),len(derivative_window))\n",
    "    sw_sd_pr_derivative_windows.append(derivative_window)\n",
    "    sw_sd_pr_derivative_sums_windows.append(sum(derivative_window))\n",
    "print(len(sw_sd_pr_derivative_windows))\n",
    "print(len(sw_sd_pr_derivative_sums_windows))"
   ]
  },
  {
   "cell_type": "code",
   "execution_count": 238,
   "metadata": {},
   "outputs": [
    {
     "data": {
      "text/plain": [
       "[<matplotlib.lines.Line2D at 0x7fc4f7f70668>]"
      ]
     },
     "execution_count": 238,
     "metadata": {},
     "output_type": "execute_result"
    },
    {
     "data": {
      "image/png": "[encoded data removed]",
      "text/plain": [
       "<matplotlib.figure.Figure at 0x7fc4fc053390>"
      ]
     },
     "metadata": {},
     "output_type": "display_data"
    }
   ],
   "source": [
    "plt.plot(sw_sd_pr_derivative_sums_windows[1:])"
   ]
  }
 ],
 "metadata": {
  "kernelspec": {
   "display_name": "Python 3",
   "language": "python",
   "name": "python3"
  },
  "language_info": {
   "codemirror_mode": {
    "name": "ipython",
    "version": 3
   },
   "file_extension": ".py",
   "mimetype": "text/x-python",
   "name": "python",
   "nbconvert_exporter": "python",
   "pygments_lexer": "ipython3",
   "version": "3.5.3"
  }
 },
 "nbformat": 4,
 "nbformat_minor": 2
}
