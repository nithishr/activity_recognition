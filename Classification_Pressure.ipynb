{
 "cells": [
  {
   "cell_type": "code",
   "execution_count": 1,
   "metadata": {
    "collapsed": true
   },
   "outputs": [],
   "source": [
    "from utils_processing.utils import *\n",
    "import matplotlib.pyplot as plt\n",
    "%matplotlib inline\n",
    "from itertools import combinations"
   ]
  },
  {
   "cell_type": "code",
   "execution_count": 2,
   "metadata": {
    "collapsed": true
   },
   "outputs": [],
   "source": [
    "walking_files = ['Activity-Data/Walking/01/Walking01Pressure.csv', 'Activity-Data/Walking/2/Walking2Pressure.csv', \n",
    "                 'Activity-Data/Walking/3/Walking3Pressure.csv', 'Activity-Data/Walking/04/Walking04Pressure.csv',\n",
    "                 'Activity-Data/Walking/5/Walking5Pressure.csv']"
   ]
  },
  {
   "cell_type": "code",
   "execution_count": 3,
   "metadata": {
    "collapsed": true
   },
   "outputs": [],
   "source": [
    "climbing_files = ['Activity-Data/Climbing_Stairs/1/Climbing_Stairs1Pressure.csv', 'Activity-Data/Climbing_Stairs/2/Climbing_Stairs2Pressure.csv', \n",
    "                 'Activity-Data/Climbing_Stairs/3/Climbing_Stairs3Pressure.csv', 'Activity-Data/Climbing_Stairs/5/Climbing_Stairs5Pressure.csv',\n",
    "                 'Activity-Data/Climbing_Stairs/6/Climbing_Stairs6Pressure.csv', 'Activity-Data/Climbing_Stairs/7/Climbing_Stairs7Pressure.csv']"
   ]
  },
  {
   "cell_type": "code",
   "execution_count": 5,
   "metadata": {},
   "outputs": [],
   "source": [
    "downstairs_files = ['Activity-Data/Downstairs/1/Downstairs1Pressure.csv', 'Activity-Data/Downstairs/2/Downstairs2Pressure.csv', \n",
    "                 'Activity-Data/Downstairs/3/Downstairs3Pressure.csv', 'Activity-Data/Downstairs/4/Downstairs4Pressure.csv',\n",
    "                 'Activity-Data/Downstairs/5/Downstairs5Pressure.csv', 'Activity-Data/Downstairs/6/Downstairs6Pressure.csv']"
   ]
  },
  {
   "cell_type": "code",
   "execution_count": 7,
   "metadata": {},
   "outputs": [
    {
     "data": {
      "text/html": [
       "<div>\n",
       "<style>\n",
       "    .dataframe thead tr:only-child th {\n",
       "        text-align: right;\n",
       "    }\n",
       "\n",
       "    .dataframe thead th {\n",
       "        text-align: left;\n",
       "    }\n",
       "\n",
       "    .dataframe tbody tr th {\n",
       "        vertical-align: top;\n",
       "    }\n",
       "</style>\n",
       "<table border=\"1\" class=\"dataframe\">\n",
       "  <thead>\n",
       "    <tr style=\"text-align: right;\">\n",
       "      <th></th>\n",
       "      <th>timestamp</th>\n",
       "      <th>pressure</th>\n",
       "      <th>UUID</th>\n",
       "    </tr>\n",
       "  </thead>\n",
       "  <tbody>\n",
       "    <tr>\n",
       "      <th>0</th>\n",
       "      <td>1503925783809</td>\n",
       "      <td>963.727173</td>\n",
       "      <td>1b63307ec4900338</td>\n",
       "    </tr>\n",
       "    <tr>\n",
       "      <th>1</th>\n",
       "      <td>1503925785588</td>\n",
       "      <td>963.747253</td>\n",
       "      <td>1b63307ec4900338</td>\n",
       "    </tr>\n",
       "    <tr>\n",
       "      <th>2</th>\n",
       "      <td>1503925786383</td>\n",
       "      <td>963.760925</td>\n",
       "      <td>1b63307ec4900338</td>\n",
       "    </tr>\n",
       "    <tr>\n",
       "      <th>3</th>\n",
       "      <td>1503925786681</td>\n",
       "      <td>963.762085</td>\n",
       "      <td>1b63307ec4900338</td>\n",
       "    </tr>\n",
       "    <tr>\n",
       "      <th>4</th>\n",
       "      <td>1503925786897</td>\n",
       "      <td>963.759583</td>\n",
       "      <td>1b63307ec4900338</td>\n",
       "    </tr>\n",
       "  </tbody>\n",
       "</table>\n",
       "</div>"
      ],
      "text/plain": [
       "       timestamp    pressure             UUID \n",
       "0  1503925783809  963.727173  1b63307ec4900338\n",
       "1  1503925785588  963.747253  1b63307ec4900338\n",
       "2  1503925786383  963.760925  1b63307ec4900338\n",
       "3  1503925786681  963.762085  1b63307ec4900338\n",
       "4  1503925786897  963.759583  1b63307ec4900338"
      ]
     },
     "execution_count": 7,
     "metadata": {},
     "output_type": "execute_result"
    }
   ],
   "source": [
    "walking_frame = read_concatenate_files(walking_files, usecols=[0,1,2])\n",
    "walking_frame.head()"
   ]
  },
  {
   "cell_type": "code",
   "execution_count": 8,
   "metadata": {},
   "outputs": [
    {
     "data": {
      "text/html": [
       "<div>\n",
       "<style>\n",
       "    .dataframe thead tr:only-child th {\n",
       "        text-align: right;\n",
       "    }\n",
       "\n",
       "    .dataframe thead th {\n",
       "        text-align: left;\n",
       "    }\n",
       "\n",
       "    .dataframe tbody tr th {\n",
       "        vertical-align: top;\n",
       "    }\n",
       "</style>\n",
       "<table border=\"1\" class=\"dataframe\">\n",
       "  <thead>\n",
       "    <tr style=\"text-align: right;\">\n",
       "      <th></th>\n",
       "      <th>timestamp</th>\n",
       "      <th>pressure</th>\n",
       "      <th>UUID</th>\n",
       "    </tr>\n",
       "  </thead>\n",
       "  <tbody>\n",
       "    <tr>\n",
       "      <th>0</th>\n",
       "      <td>1503926233330</td>\n",
       "      <td>963.686096</td>\n",
       "      <td>1b63307ec4900338</td>\n",
       "    </tr>\n",
       "    <tr>\n",
       "      <th>1</th>\n",
       "      <td>1503926233527</td>\n",
       "      <td>963.686096</td>\n",
       "      <td>1b63307ec4900338</td>\n",
       "    </tr>\n",
       "    <tr>\n",
       "      <th>2</th>\n",
       "      <td>1503926233726</td>\n",
       "      <td>963.682556</td>\n",
       "      <td>1b63307ec4900338</td>\n",
       "    </tr>\n",
       "    <tr>\n",
       "      <th>3</th>\n",
       "      <td>1503926233921</td>\n",
       "      <td>963.684448</td>\n",
       "      <td>1b63307ec4900338</td>\n",
       "    </tr>\n",
       "    <tr>\n",
       "      <th>4</th>\n",
       "      <td>1503926234223</td>\n",
       "      <td>963.679504</td>\n",
       "      <td>1b63307ec4900338</td>\n",
       "    </tr>\n",
       "  </tbody>\n",
       "</table>\n",
       "</div>"
      ],
      "text/plain": [
       "       timestamp    pressure             UUID \n",
       "0  1503926233330  963.686096  1b63307ec4900338\n",
       "1  1503926233527  963.686096  1b63307ec4900338\n",
       "2  1503926233726  963.682556  1b63307ec4900338\n",
       "3  1503926233921  963.684448  1b63307ec4900338\n",
       "4  1503926234223  963.679504  1b63307ec4900338"
      ]
     },
     "execution_count": 8,
     "metadata": {},
     "output_type": "execute_result"
    }
   ],
   "source": [
    "climbing_frame = read_concatenate_files(climbing_files + downstairs_files, usecols=[0,1,2])\n",
    "climbing_frame.head()"
   ]
  },
  {
   "cell_type": "code",
   "execution_count": 10,
   "metadata": {},
   "outputs": [
    {
     "name": "stdout",
     "output_type": "stream",
     "text": [
      "59 59\n",
      "43 43\n"
     ]
    }
   ],
   "source": [
    "w_windows, w_ts_windows = create_sliding_windows_by_time(walking_frame, 1, 3000)\n",
    "c_windows, c_ts_windows = create_sliding_windows_by_time(climbing_frame, 1, 3000)\n",
    "print(len(w_windows), len(w_ts_windows))\n",
    "print(len(c_windows), len(c_ts_windows))"
   ]
  },
  {
   "cell_type": "code",
   "execution_count": 13,
   "metadata": {},
   "outputs": [
    {
     "name": "stdout",
     "output_type": "stream",
     "text": [
      "633 884\n"
     ]
    }
   ],
   "source": [
    "print(len(climbing_frame), len(walking_frame))"
   ]
  },
  {
   "cell_type": "code",
   "execution_count": 11,
   "metadata": {},
   "outputs": [
    {
     "name": "stdout",
     "output_type": "stream",
     "text": [
      "[[1503926233330, 1503926233527, 1503926233726, 1503926233921, 1503926234223, 1503926234519, 1503926234818, 1503926235028, 1503926235271, 1503926235409, 1503926235809, 1503926236005, 1503926236204], [1503926236421, 1503926236498, 1503926236700, 1503926236798, 1503926237027, 1503926237094, 1503926237310, 1503926237391, 1503926237589, 1503926237690, 1503926237917, 1503926238090, 1503926238212, 1503926238281, 1503926238479, 1503926238681, 1503926238878, 1503926239073, 1503926239278], [1503926239473, 1503926239577, 1503926239681, 1503926239768, 1503926240068, 1503926240194, 1503926240364, 1503926240466, 1503926240662, 1503926241002, 1503926241258, 1503926241463, 1503926241650, 1503926241947, 1503926242272, 1503926242450], [1503926242741, 1503926243081, 1503926243135, 1503926243338, 1503926243533, 1503926243734, 1503926243931, 1503926244158, 1503926244229, 1503926244422, 1503926244620, 1503926244849, 1503926245116, 1503926245327, 1503926245613], [1503926247788, 1503926247892, 1503926248084, 1503926248213, 1503926248382, 1503926248484, 1503926248683, 1503926248875, 1503926248976, 1503926249172, 1503926249370, 1503926249470, 1503926249577, 1503926249767, 1503926249966, 1503926250068], [1503926273814, 1503926274012, 1503926274322, 1503926274716, 1503926274815, 1503926275018, 1503926275211, 1503926275504, 1503926275792, 1503926276094, 1503926276391, 1503926276588, 1503926276722], [1503926276886, 1503926276983, 1503926277178, 1503926277290, 1503926277473, 1503926277589, 1503926277778, 1503926277878, 1503926278074, 1503926278275, 1503926278462, 1503926278571, 1503926278765, 1503926278866, 1503926278964, 1503926279056, 1503926279357, 1503926279458, 1503926279664, 1503926279854], [1503926280050, 1503926280248, 1503926280544, 1503926280647, 1503926280745, 1503926280964, 1503926281147, 1503926281245, 1503926281446, 1503926281535, 1503926281734, 1503926281839, 1503926282029, 1503926282132, 1503926282326, 1503926282624, 1503926282729, 1503926282834, 1503926283018], [1503926283320, 1503926283517, 1503926283636, 1503926283812, 1503926283919, 1503926284111, 1503926284220, 1503926284321, 1503926284411, 1503926284702, 1503926284800, 1503926284998, 1503926285196, 1503926285397, 1503926285623, 1503926285695], [1503926307882, 1503926308077, 1503926308271, 1503926308574, 1503926308773, 1503926308983, 1503926309272, 1503926309370, 1503926309568, 1503926309759, 1503926309868, 1503926310057, 1503926310186, 1503926310355, 1503926310458, 1503926310565, 1503926310667, 1503926310754], [1503926310959, 1503926311050, 1503926311265, 1503926311444, 1503926311644, 1503926311744, 1503926311941, 1503926312140, 1503926312243, 1503926312442, 1503926312549, 1503926312738, 1503926312967, 1503926313137, 1503926313328, 1503926313527, 1503926313655, 1503926313727, 1503926313935], [1503926314123, 1503926314329, 1503926314530, 1503926314620, 1503926314820, 1503926315016, 1503926315114, 1503926315313, 1503926315410, 1503926315608, 1503926315706, 1503926315910, 1503926316011, 1503926316200, 1503926316400, 1503926316500, 1503926316598, 1503926316796, 1503926316895, 1503926317093], [1503926317194, 1503926317413, 1503926317506, 1503926317690, 1503926317786, 1503926318005, 1503926318083, 1503926318281, 1503926318478, 1503926318581, 1503926318777, 1503926318878, 1503926319174, 1503926319282, 1503926319468, 1503926319669, 1503926319766, 1503926319964, 1503926320085], [1503926320264, 1503926320362], [1503926526955, 1503926527254, 1503926527453, 1503926527848, 1503926528046, 1503926528344, 1503926528547, 1503926528842, 1503926529354, 1503926529635], [1503926530026, 1503926530232, 1503926530375, 1503926530632, 1503926530830, 1503926531022, 1503926531121, 1503926531515, 1503926531711, 1503926531910, 1503926532108, 1503926532431, 1503926532800, 1503926532999], [1503926533107, 1503926533397, 1503926533605, 1503926533991, 1503926534191, 1503926534298, 1503926534483, 1503926534786, 1503926534936, 1503926535181, 1503926535501, 1503926535778, 1503926535977], [1503926536368, 1503926536673, 1503926536963, 1503926537278, 1503926537672, 1503926537861, 1503926538152, 1503926538554, 1503926538952, 1503926539257], [1503926539544, 1503926539639, 1503926539837, 1503926540036, 1503926540234, 1503926540532, 1503926540733, 1503926540928, 1503926541225, 1503926541522, 1503926541821, 1503926542125], [1503926577284, 1503926577675, 1503926577777, 1503926578369, 1503926578767, 1503926579061, 1503926579363, 1503926579760, 1503926579968, 1503926580251], [1503926580452, 1503926580647, 1503926580853, 1503926581148, 1503926581546, 1503926581938, 1503926582144, 1503926582433, 1503926582728, 1503926583128, 1503926583423], [1503926583818, 1503926584115, 1503926584712, 1503926585006, 1503926585307, 1503926585600, 1503926585904, 1503926586196, 1503926586489], [1503926586895, 1503926587190, 1503926587586, 1503926587784, 1503926588111, 1503926588275, 1503926588576, 1503926588878, 1503926589276, 1503926589667], [1503926590097, 1503926590756, 1503926591154, 1503926591453, 1503926591674], [1503926612906, 1503926613303, 1503926613601, 1503926613904, 1503926614291, 1503926614625, 1503926614988, 1503926615288, 1503926615678], [1503926615983, 1503926616291, 1503926616675, 1503926616978, 1503926617168, 1503926617468, 1503926617862, 1503926618060, 1503926618359, 1503926618665, 1503926618950], [1503926619050, 1503926619350, 1503926619547, 1503926619744, 1503926620046, 1503926620441, 1503926620650, 1503926620838, 1503926621339, 1503926621730, 1503926622026], [1503926622322, 1503926622621, 1503926622824, 1503926623313, 1503926623639, 1503926624007, 1503926624106, 1503926624404, 1503926624699, 1503926625204], [1503926625495, 1503926625689, 1503926625986, 1503926626184, 1503926626682, 1503926626981, 1503926627374, 1503926415557, 1503926415848, 1503926416247, 1503926416544, 1503926417035, 1503926417336, 1503926418428, 1503926418718, 1503926419017, 1503926419308, 1503926419504, 1503926419822, 1503926419905, 1503926420200, 1503926420504, 1503926420795, 1503926421189, 1503926421289, 1503926421586, 1503926421986, 1503926422185, 1503926422577, 1503926422981, 1503926423170, 1503926423370, 1503926423480, 1503926423770, 1503926424191, 1503926424362, 1503926424792, 1503926425156, 1503926425254, 1503926425454, 1503926425746, 1503926425895, 1503926426042, 1503926426143, 1503926426455, 1503926446384, 1503926446683, 1503926447074, 1503926447502, 1503926448366, 1503926448962, 1503926449687, 1503926449948, 1503926450143, 1503926450569, 1503926450850, 1503926451034, 1503926451334, 1503926451632, 1503926452025, 1503926452322, 1503926452527, 1503926452825, 1503926452936, 1503926453124, 1503926453422, 1503926453915, 1503926454217, 1503926454408, 1503926454606, 1503926454818, 1503926455004, 1503926455297, 1503926455595, 1503926455792, 1503926456005, 1503926456292, 1503926479231, 1503926479558, 1503926479843, 1503926480142, 1503926480342, 1503926480442, 1503926480743, 1503926481131, 1503926481727, 1503926482331, 1503926482721, 1503926483044, 1503926483227, 1503926483415, 1503926483624, 1503926483717, 1503926484019, 1503926484307, 1503926484601, 1503926484799, 1503926485031, 1503926485302, 1503926485596, 1503926485696, 1503926486061, 1503926486482, 1503926486783, 1503926487180, 1503926487385, 1503926487671, 1503926488070, 1503926488402, 1503926488567, 1503926488863, 1503926489082, 1503926489280, 1503926489474, 1503926489755, 1503926489956, 1503926490071, 1503926490154, 1503926490454, 1503926490652, 1503926490947, 1503926491246, 1503926491641, 1503926491843, 1503926492231, 1503926492629, 1503926492964, 1503926493227, 1503926493560], [1503926708162, 1503926708466, 1503926708767, 1503926709056, 1503926709156, 1503926709448, 1503926709756, 1503926710044, 1503926710636, 1503926711040, 1503926711138], [1503926711255, 1503926711540, 1503926711935, 1503926712231, 1503926712421, 1503926712718, 1503926713028, 1503926713316, 1503926713715, 1503926714005], [1503926714304, 1503926714502, 1503926714604, 1503926715007, 1503926715317, 1503926715697, 1503926716225, 1503926716586, 1503926716884, 1503926717083], [1503926717577, 1503926717772, 1503926717985, 1503926718269, 1503926718471, 1503926718786, 1503926718968], [1503926743677, 1503926743977, 1503926744371, 1503926744568, 1503926744868, 1503926745459, 1503926745971, 1503926746268, 1503926746554], [1503926746853, 1503926747146, 1503926748548, 1503926748936, 1503926749233, 1503926749429, 1503926749726], [1503926749924, 1503926750318, 1503926750617, 1503926750816, 1503926750943, 1503926751326], [1503926753594, 1503926753789, 1503926754086, 1503926754185, 1503926754282, 1503926754481, 1503926754684, 1503926754804, 1503926754980, 1503926755095, 1503926755277, 1503926755474, 1503926755670, 1503926755870, 1503926755968, 1503926756169, 1503926756266, 1503926756571], [1503926756759, 1503926756858], [1503926800059, 1503926800440, 1503926800834, 1503926801031, 1503926801463, 1503926801731, 1503926802131, 1503926802424, 1503926802721, 1503926802820, 1503926803017], [1503926803215, 1503926803412, 1503926803809, 1503926804006, 1503926804325, 1503926804505, 1503926804798, 1503926805006, 1503926805210, 1503926805498, 1503926805796, 1503926806096], [1503926806289, 1503926806586, 1503926806884, 1503926807185, 1503926807478, 1503926807613, 1503926807873, 1503926808172, 1503926808369, 1503926808470, 1503926808768, 1503926808988, 1503926809065, 1503926809262], [1503926809559, 1503926809857, 1503926809962, 1503926810355, 1503926810652, 1503926810945, 1503926811146, 1503926811341, 1503926811648, 1503926811739, 1503926812138, 1503926812433], [1503926812832, 1503926813127, 1503926813327, 1503926813679, 1503926813935]]\n"
     ]
    }
   ],
   "source": [
    "print([i for i in c_ts_windows])"
   ]
  },
  {
   "cell_type": "code",
   "execution_count": 12,
   "metadata": {},
   "outputs": [
    {
     "name": "stdout",
     "output_type": "stream",
     "text": [
      "        timestamp    pressure             UUID   label\n",
      "49  1503926812832  963.583496  1b63307ec4900338      1\n",
      "50  1503926813127  963.592468  1b63307ec4900338      1\n",
      "51  1503926813327  963.607849  1b63307ec4900338      1\n",
      "52  1503926813679  963.613464  1b63307ec4900338      1\n",
      "53  1503926813935  963.625732  1b63307ec4900338      1\n",
      "         timestamp    pressure             UUID   label\n",
      "159  1503926687534  962.399292  1b63307ec4900338      0\n",
      "160  1503926687934  962.394958  1b63307ec4900338      0\n",
      "161  1503926688153  962.395081  1b63307ec4900338      0\n",
      "162  1503926688525  962.405029  1b63307ec4900338      0\n",
      "163  1503926688826  962.408813  1b63307ec4900338      0\n"
     ]
    }
   ],
   "source": [
    "walking_frame['label'] = 0\n",
    "climbing_frame['label'] = 1\n",
    "print(climbing_frame.tail())\n",
    "print(walking_frame.tail())"
   ]
  },
  {
   "cell_type": "code",
   "execution_count": 14,
   "metadata": {
    "collapsed": true
   },
   "outputs": [],
   "source": [
    "w_iqr = compute_inter_quartile_distance_window(w_windows)\n",
    "c_iqr = compute_inter_quartile_distance_window(c_windows)"
   ]
  },
  {
   "cell_type": "code",
   "execution_count": 15,
   "metadata": {
    "collapsed": true
   },
   "outputs": [],
   "source": [
    "w_std = compute_std_deviation_window(w_windows)\n",
    "c_std = compute_std_deviation_window(c_windows)"
   ]
  },
  {
   "cell_type": "code",
   "execution_count": 16,
   "metadata": {
    "collapsed": true
   },
   "outputs": [],
   "source": [
    "w_derivative = compute_sum_derivative_window(w_windows, w_ts_windows)\n",
    "c_derivative = compute_sum_derivative_window(c_windows, c_ts_windows)"
   ]
  },
  {
   "cell_type": "code",
   "execution_count": 17,
   "metadata": {},
   "outputs": [
    {
     "name": "stdout",
     "output_type": "stream",
     "text": [
      "58 43 58 43 58 43\n"
     ]
    }
   ],
   "source": [
    "print(len(w_iqr),len(c_iqr), len(w_std), len(c_std), len(w_derivative), len(c_derivative))"
   ]
  },
  {
   "cell_type": "code",
   "execution_count": 19,
   "metadata": {},
   "outputs": [
    {
     "name": "stdout",
     "output_type": "stream",
     "text": [
      "<class 'numpy.float64'> <class 'numpy.float64'> <class 'numpy.float64'>\n"
     ]
    }
   ],
   "source": [
    "print(type(w_derivative[0]), type(w_std[1]), type(w_iqr[2]))"
   ]
  },
  {
   "cell_type": "code",
   "execution_count": 20,
   "metadata": {
    "collapsed": true
   },
   "outputs": [],
   "source": [
    "import numpy as np\n",
    "from sklearn.model_selection import StratifiedKFold\n",
    "from sklearn.ensemble import RandomForestClassifier\n",
    "from sklearn.model_selection import train_test_split\n",
    "from sklearn.model_selection import KFold\n",
    "from sklearn.preprocessing import OneHotEncoder"
   ]
  },
  {
   "cell_type": "code",
   "execution_count": 29,
   "metadata": {},
   "outputs": [
    {
     "name": "stdout",
     "output_type": "stream",
     "text": [
      "<class 'numpy.ndarray'> 58 (58, 3)\n"
     ]
    }
   ],
   "source": [
    "w_feature_vector = np.column_stack((np.array(w_std).reshape(-1, 1), np.array(w_derivative).reshape(-1, 1), \n",
    "                                   np.array(w_iqr).reshape(-1, 1)))\n",
    "print(type(w_feature_vector), len(w_feature_vector), w_feature_vector.shape)"
   ]
  },
  {
   "cell_type": "code",
   "execution_count": 30,
   "metadata": {},
   "outputs": [
    {
     "name": "stdout",
     "output_type": "stream",
     "text": [
      "<class 'numpy.ndarray'> 43 (43, 3)\n"
     ]
    }
   ],
   "source": [
    "c_feature_vector = np.column_stack((np.array(c_std).reshape(-1, 1), np.array(c_derivative).reshape(-1, 1), \n",
    "                                   np.array(c_iqr).reshape(-1, 1)))\n",
    "print(type(c_feature_vector), len(c_feature_vector), c_feature_vector.shape)"
   ]
  },
  {
   "cell_type": "code",
   "execution_count": 33,
   "metadata": {},
   "outputs": [
    {
     "ename": "ValueError",
     "evalue": "all input arrays must have the same shape",
     "output_type": "error",
     "traceback": [
      "\u001b[0;31m---------------------------------------------------------------------------\u001b[0m",
      "\u001b[0;31mValueError\u001b[0m                                Traceback (most recent call last)",
      "\u001b[0;32m<ipython-input-33-ee59e9e12139>\u001b[0m in \u001b[0;36m<module>\u001b[0;34m()\u001b[0m\n\u001b[1;32m      1\u001b[0m labels_vector = np.stack((np.array([0 for i in range(len(w_feature_vector))]).reshape(-1,1), \n\u001b[0;32m----> 2\u001b[0;31m                           np.array([1 for i in range(len(c_feature_vector))]).reshape(-1,1)))\n\u001b[0m\u001b[1;32m      3\u001b[0m \u001b[0mprint\u001b[0m\u001b[0;34m(\u001b[0m\u001b[0mtype\u001b[0m\u001b[0;34m(\u001b[0m\u001b[0mlabels_vector\u001b[0m\u001b[0;34m)\u001b[0m\u001b[0;34m,\u001b[0m \u001b[0mlen\u001b[0m\u001b[0;34m(\u001b[0m\u001b[0mlabels_vector\u001b[0m\u001b[0;34m)\u001b[0m\u001b[0;34m,\u001b[0m \u001b[0mlabels_vector\u001b[0m\u001b[0;34m.\u001b[0m\u001b[0mshape\u001b[0m\u001b[0;34m)\u001b[0m\u001b[0;34m\u001b[0m\u001b[0m\n",
      "\u001b[0;32m~/virtual_envs/activity_detection/lib/python3.5/site-packages/numpy/core/shape_base.py\u001b[0m in \u001b[0;36mstack\u001b[0;34m(arrays, axis)\u001b[0m\n\u001b[1;32m    352\u001b[0m     \u001b[0mshapes\u001b[0m \u001b[0;34m=\u001b[0m \u001b[0mset\u001b[0m\u001b[0;34m(\u001b[0m\u001b[0marr\u001b[0m\u001b[0;34m.\u001b[0m\u001b[0mshape\u001b[0m \u001b[0;32mfor\u001b[0m \u001b[0marr\u001b[0m \u001b[0;32min\u001b[0m \u001b[0marrays\u001b[0m\u001b[0;34m)\u001b[0m\u001b[0;34m\u001b[0m\u001b[0m\n\u001b[1;32m    353\u001b[0m     \u001b[0;32mif\u001b[0m \u001b[0mlen\u001b[0m\u001b[0;34m(\u001b[0m\u001b[0mshapes\u001b[0m\u001b[0;34m)\u001b[0m \u001b[0;34m!=\u001b[0m \u001b[0;36m1\u001b[0m\u001b[0;34m:\u001b[0m\u001b[0;34m\u001b[0m\u001b[0m\n\u001b[0;32m--> 354\u001b[0;31m         \u001b[0;32mraise\u001b[0m \u001b[0mValueError\u001b[0m\u001b[0;34m(\u001b[0m\u001b[0;34m'all input arrays must have the same shape'\u001b[0m\u001b[0;34m)\u001b[0m\u001b[0;34m\u001b[0m\u001b[0m\n\u001b[0m\u001b[1;32m    355\u001b[0m \u001b[0;34m\u001b[0m\u001b[0m\n\u001b[1;32m    356\u001b[0m     \u001b[0mresult_ndim\u001b[0m \u001b[0;34m=\u001b[0m \u001b[0marrays\u001b[0m\u001b[0;34m[\u001b[0m\u001b[0;36m0\u001b[0m\u001b[0;34m]\u001b[0m\u001b[0;34m.\u001b[0m\u001b[0mndim\u001b[0m \u001b[0;34m+\u001b[0m \u001b[0;36m1\u001b[0m\u001b[0;34m\u001b[0m\u001b[0m\n",
      "\u001b[0;31mValueError\u001b[0m: all input arrays must have the same shape"
     ]
    }
   ],
   "source": [
    "labels_vector = np.stack((np.array([0 for i in range(len(w_feature_vector))]).reshape(-1,1), \n",
    "                          np.array([1 for i in range(len(c_feature_vector))]).reshape(-1,1)))\n",
    "print(type(labels_vector), len(labels_vector), labels_vector.shape)"
   ]
  },
  {
   "cell_type": "code",
   "execution_count": 37,
   "metadata": {},
   "outputs": [
    {
     "name": "stdout",
     "output_type": "stream",
     "text": [
      "(43, 1)\n",
      "(58, 1)\n"
     ]
    },
    {
     "ename": "ValueError",
     "evalue": "all input arrays must have the same shape",
     "output_type": "error",
     "traceback": [
      "\u001b[0;31m---------------------------------------------------------------------------\u001b[0m",
      "\u001b[0;31mValueError\u001b[0m                                Traceback (most recent call last)",
      "\u001b[0;32m<ipython-input-37-759f9adb7dcc>\u001b[0m in \u001b[0;36m<module>\u001b[0;34m()\u001b[0m\n\u001b[1;32m      3\u001b[0m \u001b[0mw_labels\u001b[0m \u001b[0;34m=\u001b[0m \u001b[0mnp\u001b[0m\u001b[0;34m.\u001b[0m\u001b[0marray\u001b[0m\u001b[0;34m(\u001b[0m\u001b[0;34m[\u001b[0m\u001b[0;36m0\u001b[0m \u001b[0;32mfor\u001b[0m \u001b[0mi\u001b[0m \u001b[0;32min\u001b[0m \u001b[0mrange\u001b[0m\u001b[0;34m(\u001b[0m\u001b[0mlen\u001b[0m\u001b[0;34m(\u001b[0m\u001b[0mw_feature_vector\u001b[0m\u001b[0;34m)\u001b[0m\u001b[0;34m)\u001b[0m\u001b[0;34m]\u001b[0m\u001b[0;34m)\u001b[0m\u001b[0;34m.\u001b[0m\u001b[0mreshape\u001b[0m\u001b[0;34m(\u001b[0m\u001b[0;34m-\u001b[0m\u001b[0;36m1\u001b[0m\u001b[0;34m,\u001b[0m\u001b[0;36m1\u001b[0m\u001b[0;34m)\u001b[0m\u001b[0;34m\u001b[0m\u001b[0m\n\u001b[1;32m      4\u001b[0m \u001b[0mprint\u001b[0m\u001b[0;34m(\u001b[0m\u001b[0mw_labels\u001b[0m\u001b[0;34m.\u001b[0m\u001b[0mshape\u001b[0m\u001b[0;34m)\u001b[0m\u001b[0;34m\u001b[0m\u001b[0m\n\u001b[0;32m----> 5\u001b[0;31m \u001b[0mlabels_vector\u001b[0m \u001b[0;34m=\u001b[0m \u001b[0mnp\u001b[0m\u001b[0;34m.\u001b[0m\u001b[0mstack\u001b[0m\u001b[0;34m(\u001b[0m\u001b[0;34m(\u001b[0m\u001b[0mw_labels\u001b[0m\u001b[0;34m,\u001b[0m\u001b[0mc_labels\u001b[0m\u001b[0;34m)\u001b[0m\u001b[0;34m)\u001b[0m\u001b[0;34m\u001b[0m\u001b[0m\n\u001b[0m\u001b[1;32m      6\u001b[0m \u001b[0mprint\u001b[0m\u001b[0;34m(\u001b[0m\u001b[0mtype\u001b[0m\u001b[0;34m(\u001b[0m\u001b[0mlabels_vector\u001b[0m\u001b[0;34m)\u001b[0m\u001b[0;34m,\u001b[0m \u001b[0mlen\u001b[0m\u001b[0;34m(\u001b[0m\u001b[0mlabels_vector\u001b[0m\u001b[0;34m)\u001b[0m\u001b[0;34m,\u001b[0m \u001b[0mlabels_vector\u001b[0m\u001b[0;34m.\u001b[0m\u001b[0mshape\u001b[0m\u001b[0;34m)\u001b[0m\u001b[0;34m\u001b[0m\u001b[0m\n",
      "\u001b[0;32m~/virtual_envs/activity_detection/lib/python3.5/site-packages/numpy/core/shape_base.py\u001b[0m in \u001b[0;36mstack\u001b[0;34m(arrays, axis)\u001b[0m\n\u001b[1;32m    352\u001b[0m     \u001b[0mshapes\u001b[0m \u001b[0;34m=\u001b[0m \u001b[0mset\u001b[0m\u001b[0;34m(\u001b[0m\u001b[0marr\u001b[0m\u001b[0;34m.\u001b[0m\u001b[0mshape\u001b[0m \u001b[0;32mfor\u001b[0m \u001b[0marr\u001b[0m \u001b[0;32min\u001b[0m \u001b[0marrays\u001b[0m\u001b[0;34m)\u001b[0m\u001b[0;34m\u001b[0m\u001b[0m\n\u001b[1;32m    353\u001b[0m     \u001b[0;32mif\u001b[0m \u001b[0mlen\u001b[0m\u001b[0;34m(\u001b[0m\u001b[0mshapes\u001b[0m\u001b[0;34m)\u001b[0m \u001b[0;34m!=\u001b[0m \u001b[0;36m1\u001b[0m\u001b[0;34m:\u001b[0m\u001b[0;34m\u001b[0m\u001b[0m\n\u001b[0;32m--> 354\u001b[0;31m         \u001b[0;32mraise\u001b[0m \u001b[0mValueError\u001b[0m\u001b[0;34m(\u001b[0m\u001b[0;34m'all input arrays must have the same shape'\u001b[0m\u001b[0;34m)\u001b[0m\u001b[0;34m\u001b[0m\u001b[0m\n\u001b[0m\u001b[1;32m    355\u001b[0m \u001b[0;34m\u001b[0m\u001b[0m\n\u001b[1;32m    356\u001b[0m     \u001b[0mresult_ndim\u001b[0m \u001b[0;34m=\u001b[0m \u001b[0marrays\u001b[0m\u001b[0;34m[\u001b[0m\u001b[0;36m0\u001b[0m\u001b[0;34m]\u001b[0m\u001b[0;34m.\u001b[0m\u001b[0mndim\u001b[0m \u001b[0;34m+\u001b[0m \u001b[0;36m1\u001b[0m\u001b[0;34m\u001b[0m\u001b[0m\n",
      "\u001b[0;31mValueError\u001b[0m: all input arrays must have the same shape"
     ]
    }
   ],
   "source": [
    "c_labels = np.array([1 for i in range(len(c_feature_vector))]).reshape(-1,1)\n",
    "print(c_labels.shape)\n",
    "w_labels = np.array([0 for i in range(len(w_feature_vector))]).reshape(-1,1)\n",
    "print(w_labels.shape)\n",
    "labels_vector = np.stack((w_labels,c_labels))\n",
    "print(type(labels_vector), len(labels_vector), labels_vector.shape)"
   ]
  },
  {
   "cell_type": "code",
   "execution_count": 40,
   "metadata": {},
   "outputs": [
    {
     "name": "stdout",
     "output_type": "stream",
     "text": [
      "<class 'numpy.ndarray'>\n"
     ]
    }
   ],
   "source": [
    "print(type(w_labels[5]))"
   ]
  },
  {
   "cell_type": "code",
   "execution_count": 47,
   "metadata": {},
   "outputs": [
    {
     "name": "stdout",
     "output_type": "stream",
     "text": [
      "(43, 1) (58, 1)\n"
     ]
    }
   ],
   "source": [
    "c_labels = np.full((len(c_feature_vector),1), 1)\n",
    "w_labels = np.full((len(w_feature_vector),1), 0)\n",
    "print(c_labels.shape, w_labels.shape)"
   ]
  },
  {
   "cell_type": "code",
   "execution_count": 51,
   "metadata": {},
   "outputs": [
    {
     "name": "stdout",
     "output_type": "stream",
     "text": [
      "<class 'numpy.ndarray'> 101 (101, 1)\n"
     ]
    }
   ],
   "source": [
    "labels_vector = np.concatenate((w_labels, c_labels))\n",
    "print(type(labels_vector), len(labels_vector), labels_vector.shape)"
   ]
  },
  {
   "cell_type": "code",
   "execution_count": 54,
   "metadata": {},
   "outputs": [
    {
     "name": "stdout",
     "output_type": "stream",
     "text": [
      "<class 'numpy.ndarray'> 101 (101, 3)\n"
     ]
    }
   ],
   "source": [
    "feature_vectors = np.concatenate((w_feature_vector, c_feature_vector))\n",
    "print(type(feature_vectors), len(feature_vectors), feature_vectors.shape)"
   ]
  },
  {
   "cell_type": "code",
   "execution_count": 45,
   "metadata": {},
   "outputs": [
    {
     "name": "stdout",
     "output_type": "stream",
     "text": [
      "(10,) (10,)\n",
      "[ 0.  0.  0.  0.  0.  0.  0.  0.  0.  0.] [ 1.  1.  1.  1.  1.  1.  1.  1.  1.  1.]\n",
      "[[ 0.]\n",
      " [ 0.]\n",
      " [ 0.]\n",
      " [ 0.]\n",
      " [ 0.]\n",
      " [ 0.]\n",
      " [ 0.]\n",
      " [ 0.]\n",
      " [ 0.]\n",
      " [ 0.]] [[ 1.  1.  1.  1.  1.  1.  1.  1.  1.  1.]]\n"
     ]
    }
   ],
   "source": [
    "a = np.zeros(10)\n",
    "b = np.ones(10)\n",
    "print(a.shape, b.shape)\n",
    "print(a, b)\n",
    "a = a.reshape(-1, 1)\n",
    "b = b.reshape(1,-1)\n",
    "print(a, b)\n"
   ]
  },
  {
   "cell_type": "code",
   "execution_count": 65,
   "metadata": {},
   "outputs": [],
   "source": [
    "X = np.copy(feature_vectors)\n",
    "Y = np.copy(labels_vector)\n",
    "Y = Y.ravel()"
   ]
  },
  {
   "cell_type": "code",
   "execution_count": 57,
   "metadata": {
    "collapsed": true
   },
   "outputs": [],
   "source": [
    "# fix random seed for reproducibility\n",
    "seed = 7\n",
    "np.random.seed(seed)"
   ]
  },
  {
   "cell_type": "code",
   "execution_count": 76,
   "metadata": {},
   "outputs": [
    {
     "name": "stdout",
     "output_type": "stream",
     "text": [
      "(101,) [0 0 0 0 0 0 0 0 0 0 0 0 0 0 0 0 0 0 0 0 0 0 0 0 0 0 0 0 0 0 0 0 0 0 0 0 0\n",
      " 0 0 0 0 0 0 0 0 0 0 0 0 0 0 0 0 0 0 0 0 0 1 1 1 1 1 1 1 1 1 1 1 1 1 1 1 1\n",
      " 1 1 1 1 1 1 1 1 1 1 1 1 1 1 1 1 1 1 1 1 1 1 1 1 1 1 1]\n"
     ]
    }
   ],
   "source": [
    "print(Y.shape, Y)"
   ]
  },
  {
   "cell_type": "code",
   "execution_count": null,
   "metadata": {},
   "outputs": [],
   "source": [
    "ohe = OneHotEncoder()\n",
    "Yt = Y.reshape(-1,1)\n",
    "print(Yt)\n",
    "Ytt = ohe.fit_transform(Yt)\n",
    "print(Ytt.shape)\n",
    "print(Ytt)"
   ]
  },
  {
   "cell_type": "code",
   "execution_count": null,
   "metadata": {},
   "outputs": [],
   "source": [
    "print(Y,Y.reshape(-1,1))"
   ]
  },
  {
   "cell_type": "code",
   "execution_count": 81,
   "metadata": {},
   "outputs": [
    {
     "name": "stdout",
     "output_type": "stream",
     "text": [
      "[[19  2]\n",
      " [ 0  0]]\n",
      "90.47619047619048\n",
      "[[19  1]\n",
      " [ 0  0]]\n",
      "95.0\n",
      "[[14  3]\n",
      " [ 1  2]]\n",
      "80.0\n",
      "[[ 0  0]\n",
      " [ 5 15]]\n",
      "75.0\n",
      "[[ 0  0]\n",
      " [ 6 14]]\n",
      "70.0\n"
     ]
    }
   ],
   "source": [
    "from sklearn.metrics import confusion_matrix\n",
    "kf = KFold(n_splits=5)\n",
    "# print(list(kf.split(X)))\n",
    "# print(list(kf.split(Y)))\n",
    "for train, test in kf.split(X):\n",
    "    XTrain, XTest, YTrain, YTest = X[train], X[test], Y[train], Y[test]\n",
    "    clf = RandomForestClassifier(n_estimators=500, random_state=seed)\n",
    "    clf = clf.fit(XTrain, YTrain)\n",
    "    YPred = clf.predict(XTest)\n",
    "    diff = YPred - YTest\n",
    "    print(confusion_matrix(YTest, YPred))\n",
    "    score = diff[diff == 0].size\n",
    "    print((100.0 * score)/(YPred.size))"
   ]
  },
  {
   "cell_type": "code",
   "execution_count": 83,
   "metadata": {},
   "outputs": [
    {
     "name": "stdout",
     "output_type": "stream",
     "text": [
      "[[12  0]\n",
      " [ 2  7]]\n",
      "90.47619047619048\n",
      "[[10  2]\n",
      " [ 1  8]]\n",
      "85.71428571428571\n",
      "[[12  0]\n",
      " [ 3  6]]\n",
      "85.71428571428571\n",
      "[[10  1]\n",
      " [ 0  8]]\n",
      "94.73684210526316\n",
      "[[10  1]\n",
      " [ 1  7]]\n",
      "89.47368421052632\n"
     ]
    }
   ],
   "source": [
    "skf = StratifiedKFold(n_splits=5)\n",
    "# print(list(kf.split(X)))\n",
    "# print(list(kf.split(Y)))\n",
    "for train, test in skf.split(X,Y):\n",
    "    XTrain, XTest, YTrain, YTest = X[train], X[test], Y[train], Y[test]\n",
    "    clf = RandomForestClassifier(n_estimators=1500, random_state=seed)\n",
    "    clf = clf.fit(XTrain, YTrain)\n",
    "    YPred = clf.predict(XTest)\n",
    "    diff = YPred - YTest\n",
    "#     print(diff)\n",
    "    print(confusion_matrix(YTest, YPred))\n",
    "    score = diff[diff == 0].size\n",
    "    print((100.0 * score)/(YPred.size))"
   ]
  }
 ],
 "metadata": {
  "kernelspec": {
   "display_name": "Python 3",
   "language": "python",
   "name": "python3"
  },
  "language_info": {
   "codemirror_mode": {
    "name": "ipython",
    "version": 3
   },
   "file_extension": ".py",
   "mimetype": "text/x-python",
   "name": "python",
   "nbconvert_exporter": "python",
   "pygments_lexer": "ipython3",
   "version": "3.5.3"
  }
 },
 "nbformat": 4,
 "nbformat_minor": 2
}
