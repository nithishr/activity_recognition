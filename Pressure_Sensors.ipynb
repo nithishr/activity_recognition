{
 "cells": [
  {
   "cell_type": "markdown",
   "metadata": {},
   "source": [
    "## Data Cleaning"
   ]
  },
  {
   "cell_type": "code",
   "execution_count": 1,
   "metadata": {
    "collapsed": true
   },
   "outputs": [],
   "source": [
    "import os, \n",
    "import pandas as pd\n",
    "import numpy as np"
   ]
  },
  {
   "cell_type": "code",
   "execution_count": 45,
   "metadata": {
    "collapsed": true
   },
   "outputs": [],
   "source": [
    "from sklearn.ensemble import RandomForestClassifier\n",
    "from sklearn.model_selection import train_test_split\n",
    "from sklearn.model_selection import KFold\n",
    "from sklearn.model_selection import StratifiedKFold\n",
    "from sklearn import svm\n",
    "from sklearn.neighbors import KNeighborsClassifier\n",
    "from sklearn.preprocessing import OneHotEncoder"
   ]
  },
  {
   "cell_type": "code",
   "execution_count": 3,
   "metadata": {},
   "outputs": [],
   "source": [
    "files_input = ['Activity-Data/Elevator & Stair/1/1Activity.csv', 'Activity-Data/Elevator & Stair/2/2Activity.csv',\n",
    "         'Activity-Data/Elevator & Stair/3/3Activity.csv', 'Activity-Data/Elevator & Stair/4/4Activity.csv', \n",
    "         'Activity-Data/Elevator & Stair/5/5Activity.csv']\n",
    "files_labels = ['Activity-Data/Elevator & Stair/1/1ActivityLog.csv', 'Activity-Data/Elevator & Stair/2/2ActivityLog.csv',\n",
    "         'Activity-Data/Elevator & Stair/3/3ActivityLog.csv', 'Activity-Data/Elevator & Stair/4/4ActivityLog.csv', \n",
    "         'Activity-Data/Elevator & Stair/5/5ActivityLog.csv']"
   ]
  },
  {
   "cell_type": "code",
   "execution_count": 8,
   "metadata": {},
   "outputs": [
    {
     "data": {
      "text/html": [
       "<div>\n",
       "<style>\n",
       "    .dataframe thead tr:only-child th {\n",
       "        text-align: right;\n",
       "    }\n",
       "\n",
       "    .dataframe thead th {\n",
       "        text-align: left;\n",
       "    }\n",
       "\n",
       "    .dataframe tbody tr th {\n",
       "        vertical-align: top;\n",
       "    }\n",
       "</style>\n",
       "<table border=\"1\" class=\"dataframe\">\n",
       "  <thead>\n",
       "    <tr style=\"text-align: right;\">\n",
       "      <th></th>\n",
       "      <th>pressureDerivative</th>\n",
       "      <th>pressureIQR</th>\n",
       "      <th>timestamp</th>\n",
       "    </tr>\n",
       "  </thead>\n",
       "  <tbody>\n",
       "    <tr>\n",
       "      <th>0</th>\n",
       "      <td>-2.035256</td>\n",
       "      <td>1.695796</td>\n",
       "      <td>1498222478520</td>\n",
       "    </tr>\n",
       "    <tr>\n",
       "      <th>1</th>\n",
       "      <td>-1.107091</td>\n",
       "      <td>1.264960</td>\n",
       "      <td>1498222479928</td>\n",
       "    </tr>\n",
       "    <tr>\n",
       "      <th>2</th>\n",
       "      <td>-0.652795</td>\n",
       "      <td>-0.095003</td>\n",
       "      <td>1498222481447</td>\n",
       "    </tr>\n",
       "    <tr>\n",
       "      <th>3</th>\n",
       "      <td>-0.263341</td>\n",
       "      <td>-0.778249</td>\n",
       "      <td>1498222482915</td>\n",
       "    </tr>\n",
       "    <tr>\n",
       "      <th>4</th>\n",
       "      <td>0.099831</td>\n",
       "      <td>-0.887046</td>\n",
       "      <td>1498222484432</td>\n",
       "    </tr>\n",
       "  </tbody>\n",
       "</table>\n",
       "</div>"
      ],
      "text/plain": [
       "   pressureDerivative   pressureIQR     timestamp \n",
       "0           -2.035256      1.695796  1498222478520\n",
       "1           -1.107091      1.264960  1498222479928\n",
       "2           -0.652795     -0.095003  1498222481447\n",
       "3           -0.263341     -0.778249  1498222482915\n",
       "4            0.099831     -0.887046  1498222484432"
      ]
     },
     "execution_count": 8,
     "metadata": {},
     "output_type": "execute_result"
    }
   ],
   "source": [
    "# usecols=['pressureDerivative','pressureIQR', 'timestamp']\n",
    "input_list = []\n",
    "for fn in files_input:\n",
    "    df = pd.read_csv(fn, delimiter=',', usecols = [12,13,26], header=0)\n",
    "    input_list.append(df)\n",
    "input_frame = pd.DataFrame()\n",
    "input_frame = pd.concat(input_list)\n",
    "input_frame.head()"
   ]
  },
  {
   "cell_type": "code",
   "execution_count": 11,
   "metadata": {},
   "outputs": [
    {
     "data": {
      "text/html": [
       "<div>\n",
       "<style>\n",
       "    .dataframe thead tr:only-child th {\n",
       "        text-align: right;\n",
       "    }\n",
       "\n",
       "    .dataframe thead th {\n",
       "        text-align: left;\n",
       "    }\n",
       "\n",
       "    .dataframe tbody tr th {\n",
       "        vertical-align: top;\n",
       "    }\n",
       "</style>\n",
       "<table border=\"1\" class=\"dataframe\">\n",
       "  <thead>\n",
       "    <tr style=\"text-align: right;\">\n",
       "      <th></th>\n",
       "      <th>prediction</th>\n",
       "      <th>timestamp</th>\n",
       "    </tr>\n",
       "  </thead>\n",
       "  <tbody>\n",
       "    <tr>\n",
       "      <th>0</th>\n",
       "      <td>walking</td>\n",
       "      <td>1498222478583</td>\n",
       "    </tr>\n",
       "    <tr>\n",
       "      <th>1</th>\n",
       "      <td>walking</td>\n",
       "      <td>1498222479933</td>\n",
       "    </tr>\n",
       "    <tr>\n",
       "      <th>2</th>\n",
       "      <td>walking</td>\n",
       "      <td>1498222481452</td>\n",
       "    </tr>\n",
       "    <tr>\n",
       "      <th>3</th>\n",
       "      <td>walking</td>\n",
       "      <td>1498222482917</td>\n",
       "    </tr>\n",
       "    <tr>\n",
       "      <th>4</th>\n",
       "      <td>walking</td>\n",
       "      <td>1498222484436</td>\n",
       "    </tr>\n",
       "  </tbody>\n",
       "</table>\n",
       "</div>"
      ],
      "text/plain": [
       "  prediction     timestamp \n",
       "0    walking  1498222478583\n",
       "1    walking  1498222479933\n",
       "2    walking  1498222481452\n",
       "3    walking  1498222482917\n",
       "4    walking  1498222484436"
      ]
     },
     "execution_count": 11,
     "metadata": {},
     "output_type": "execute_result"
    }
   ],
   "source": [
    "output_list = []\n",
    "for fn in files_labels:\n",
    "    df = pd.read_csv(fn, delimiter=',', header=0)\n",
    "    output_list.append(df)\n",
    "output_frame = pd.DataFrame()\n",
    "output_frame = pd.concat(output_list)\n",
    "output_frame.head()"
   ]
  },
  {
   "cell_type": "code",
   "execution_count": 12,
   "metadata": {},
   "outputs": [
    {
     "data": {
      "text/plain": [
       "(212, 212)"
      ]
     },
     "execution_count": 12,
     "metadata": {},
     "output_type": "execute_result"
    }
   ],
   "source": [
    "len(input_frame),len(output_frame)"
   ]
  },
  {
   "cell_type": "code",
   "execution_count": 13,
   "metadata": {},
   "outputs": [
    {
     "data": {
      "text/plain": [
       "walking downstairs    174\n",
       "walking                38\n",
       "Name: prediction, dtype: int64"
      ]
     },
     "execution_count": 13,
     "metadata": {},
     "output_type": "execute_result"
    }
   ],
   "source": [
    "pd.value_counts(output_frame['prediction'])"
   ]
  },
  {
   "cell_type": "code",
   "execution_count": 21,
   "metadata": {},
   "outputs": [
    {
     "data": {
      "text/html": [
       "<div>\n",
       "<style>\n",
       "    .dataframe thead tr:only-child th {\n",
       "        text-align: right;\n",
       "    }\n",
       "\n",
       "    .dataframe thead th {\n",
       "        text-align: left;\n",
       "    }\n",
       "\n",
       "    .dataframe tbody tr th {\n",
       "        vertical-align: top;\n",
       "    }\n",
       "</style>\n",
       "<table border=\"1\" class=\"dataframe\">\n",
       "  <thead>\n",
       "    <tr style=\"text-align: right;\">\n",
       "      <th></th>\n",
       "      <th>pressureDerivative</th>\n",
       "      <th>pressureIQR</th>\n",
       "      <th>timestamp</th>\n",
       "      <th>prediction</th>\n",
       "      <th>timestamp</th>\n",
       "    </tr>\n",
       "  </thead>\n",
       "  <tbody>\n",
       "    <tr>\n",
       "      <th>0</th>\n",
       "      <td>-2.035256</td>\n",
       "      <td>1.695796</td>\n",
       "      <td>1498222478520</td>\n",
       "      <td>walking</td>\n",
       "      <td>1498222478583</td>\n",
       "    </tr>\n",
       "    <tr>\n",
       "      <th>1</th>\n",
       "      <td>-1.107091</td>\n",
       "      <td>1.264960</td>\n",
       "      <td>1498222479928</td>\n",
       "      <td>walking</td>\n",
       "      <td>1498222479933</td>\n",
       "    </tr>\n",
       "    <tr>\n",
       "      <th>2</th>\n",
       "      <td>-0.652795</td>\n",
       "      <td>-0.095003</td>\n",
       "      <td>1498222481447</td>\n",
       "      <td>walking</td>\n",
       "      <td>1498222481452</td>\n",
       "    </tr>\n",
       "    <tr>\n",
       "      <th>3</th>\n",
       "      <td>-0.263341</td>\n",
       "      <td>-0.778249</td>\n",
       "      <td>1498222482915</td>\n",
       "      <td>walking</td>\n",
       "      <td>1498222482917</td>\n",
       "    </tr>\n",
       "    <tr>\n",
       "      <th>4</th>\n",
       "      <td>0.099831</td>\n",
       "      <td>-0.887046</td>\n",
       "      <td>1498222484432</td>\n",
       "      <td>walking</td>\n",
       "      <td>1498222484436</td>\n",
       "    </tr>\n",
       "  </tbody>\n",
       "</table>\n",
       "</div>"
      ],
      "text/plain": [
       "   pressureDerivative   pressureIQR     timestamp  prediction     timestamp \n",
       "0           -2.035256      1.695796  1498222478520    walking  1498222478583\n",
       "1           -1.107091      1.264960  1498222479928    walking  1498222479933\n",
       "2           -0.652795     -0.095003  1498222481447    walking  1498222481452\n",
       "3           -0.263341     -0.778249  1498222482915    walking  1498222482917\n",
       "4            0.099831     -0.887046  1498222484432    walking  1498222484436"
      ]
     },
     "execution_count": 21,
     "metadata": {},
     "output_type": "execute_result"
    }
   ],
   "source": [
    "data = pd.concat([input_frame,output_frame], axis=1)\n",
    "data.head()"
   ]
  },
  {
   "cell_type": "code",
   "execution_count": 26,
   "metadata": {},
   "outputs": [],
   "source": [
    "data['prediction'] = data['prediction'].astype('category')"
   ]
  },
  {
   "cell_type": "code",
   "execution_count": 29,
   "metadata": {
    "collapsed": true
   },
   "outputs": [],
   "source": [
    "data['prediction'] = data['prediction'].cat.codes"
   ]
  },
  {
   "cell_type": "code",
   "execution_count": 30,
   "metadata": {},
   "outputs": [
    {
     "data": {
      "text/html": [
       "<div>\n",
       "<style>\n",
       "    .dataframe thead tr:only-child th {\n",
       "        text-align: right;\n",
       "    }\n",
       "\n",
       "    .dataframe thead th {\n",
       "        text-align: left;\n",
       "    }\n",
       "\n",
       "    .dataframe tbody tr th {\n",
       "        vertical-align: top;\n",
       "    }\n",
       "</style>\n",
       "<table border=\"1\" class=\"dataframe\">\n",
       "  <thead>\n",
       "    <tr style=\"text-align: right;\">\n",
       "      <th></th>\n",
       "      <th>pressureDerivative</th>\n",
       "      <th>pressureIQR</th>\n",
       "      <th>timestamp</th>\n",
       "      <th>prediction</th>\n",
       "      <th>timestamp</th>\n",
       "    </tr>\n",
       "  </thead>\n",
       "  <tbody>\n",
       "    <tr>\n",
       "      <th>0</th>\n",
       "      <td>-2.035256</td>\n",
       "      <td>1.695796</td>\n",
       "      <td>1498222478520</td>\n",
       "      <td>0</td>\n",
       "      <td>1498222478583</td>\n",
       "    </tr>\n",
       "    <tr>\n",
       "      <th>1</th>\n",
       "      <td>-1.107091</td>\n",
       "      <td>1.264960</td>\n",
       "      <td>1498222479928</td>\n",
       "      <td>0</td>\n",
       "      <td>1498222479933</td>\n",
       "    </tr>\n",
       "    <tr>\n",
       "      <th>2</th>\n",
       "      <td>-0.652795</td>\n",
       "      <td>-0.095003</td>\n",
       "      <td>1498222481447</td>\n",
       "      <td>0</td>\n",
       "      <td>1498222481452</td>\n",
       "    </tr>\n",
       "    <tr>\n",
       "      <th>3</th>\n",
       "      <td>-0.263341</td>\n",
       "      <td>-0.778249</td>\n",
       "      <td>1498222482915</td>\n",
       "      <td>0</td>\n",
       "      <td>1498222482917</td>\n",
       "    </tr>\n",
       "    <tr>\n",
       "      <th>4</th>\n",
       "      <td>0.099831</td>\n",
       "      <td>-0.887046</td>\n",
       "      <td>1498222484432</td>\n",
       "      <td>0</td>\n",
       "      <td>1498222484436</td>\n",
       "    </tr>\n",
       "  </tbody>\n",
       "</table>\n",
       "</div>"
      ],
      "text/plain": [
       "   pressureDerivative   pressureIQR     timestamp   prediction     timestamp \n",
       "0           -2.035256      1.695796  1498222478520           0  1498222478583\n",
       "1           -1.107091      1.264960  1498222479928           0  1498222479933\n",
       "2           -0.652795     -0.095003  1498222481447           0  1498222481452\n",
       "3           -0.263341     -0.778249  1498222482915           0  1498222482917\n",
       "4            0.099831     -0.887046  1498222484432           0  1498222484436"
      ]
     },
     "execution_count": 30,
     "metadata": {},
     "output_type": "execute_result"
    }
   ],
   "source": [
    "data.head()"
   ]
  },
  {
   "cell_type": "code",
   "execution_count": 32,
   "metadata": {},
   "outputs": [
    {
     "data": {
      "text/plain": [
       "Index(['pressureDerivative', ' pressureIQR', ' timestamp ', 'prediction',\n",
       "       ' timestamp '],\n",
       "      dtype='object')"
      ]
     },
     "execution_count": 32,
     "metadata": {},
     "output_type": "execute_result"
    }
   ],
   "source": [
    "data.columns"
   ]
  },
  {
   "cell_type": "code",
   "execution_count": 33,
   "metadata": {},
   "outputs": [
    {
     "data": {
      "text/html": [
       "<div>\n",
       "<style>\n",
       "    .dataframe thead tr:only-child th {\n",
       "        text-align: right;\n",
       "    }\n",
       "\n",
       "    .dataframe thead th {\n",
       "        text-align: left;\n",
       "    }\n",
       "\n",
       "    .dataframe tbody tr th {\n",
       "        vertical-align: top;\n",
       "    }\n",
       "</style>\n",
       "<table border=\"1\" class=\"dataframe\">\n",
       "  <thead>\n",
       "    <tr style=\"text-align: right;\">\n",
       "      <th></th>\n",
       "      <th>pressureDerivative</th>\n",
       "      <th>pressureIQR</th>\n",
       "      <th>prediction</th>\n",
       "    </tr>\n",
       "  </thead>\n",
       "  <tbody>\n",
       "    <tr>\n",
       "      <th>0</th>\n",
       "      <td>-2.035256</td>\n",
       "      <td>1.695796</td>\n",
       "      <td>0</td>\n",
       "    </tr>\n",
       "    <tr>\n",
       "      <th>1</th>\n",
       "      <td>-1.107091</td>\n",
       "      <td>1.264960</td>\n",
       "      <td>0</td>\n",
       "    </tr>\n",
       "    <tr>\n",
       "      <th>2</th>\n",
       "      <td>-0.652795</td>\n",
       "      <td>-0.095003</td>\n",
       "      <td>0</td>\n",
       "    </tr>\n",
       "    <tr>\n",
       "      <th>3</th>\n",
       "      <td>-0.263341</td>\n",
       "      <td>-0.778249</td>\n",
       "      <td>0</td>\n",
       "    </tr>\n",
       "    <tr>\n",
       "      <th>4</th>\n",
       "      <td>0.099831</td>\n",
       "      <td>-0.887046</td>\n",
       "      <td>0</td>\n",
       "    </tr>\n",
       "  </tbody>\n",
       "</table>\n",
       "</div>"
      ],
      "text/plain": [
       "   pressureDerivative   pressureIQR  prediction\n",
       "0           -2.035256      1.695796           0\n",
       "1           -1.107091      1.264960           0\n",
       "2           -0.652795     -0.095003           0\n",
       "3           -0.263341     -0.778249           0\n",
       "4            0.099831     -0.887046           0"
      ]
     },
     "execution_count": 33,
     "metadata": {},
     "output_type": "execute_result"
    }
   ],
   "source": [
    "data_clean = data[['pressureDerivative', ' pressureIQR','prediction']]\n",
    "data_clean.head()"
   ]
  },
  {
   "cell_type": "code",
   "execution_count": 35,
   "metadata": {},
   "outputs": [
    {
     "data": {
      "text/plain": [
       "1    174\n",
       "0     38\n",
       "Name: prediction, dtype: int64"
      ]
     },
     "execution_count": 35,
     "metadata": {},
     "output_type": "execute_result"
    }
   ],
   "source": [
    "pd.value_counts(data_clean['prediction'])"
   ]
  },
  {
   "cell_type": "code",
   "execution_count": 40,
   "metadata": {},
   "outputs": [
    {
     "data": {
      "text/plain": [
       "(212, 2)"
      ]
     },
     "execution_count": 40,
     "metadata": {},
     "output_type": "execute_result"
    }
   ],
   "source": [
    "X = data_clean[['pressureDerivative', ' pressureIQR']].values\n",
    "X.shape"
   ]
  },
  {
   "cell_type": "code",
   "execution_count": 56,
   "metadata": {},
   "outputs": [
    {
     "data": {
      "text/plain": [
       "(212, 1)"
      ]
     },
     "execution_count": 56,
     "metadata": {},
     "output_type": "execute_result"
    }
   ],
   "source": [
    "Y = data_clean['prediction'].values\n",
    "Y = Y.reshape(-1,1)\n",
    "Y.shape"
   ]
  },
  {
   "cell_type": "code",
   "execution_count": 57,
   "metadata": {
    "scrolled": false
   },
   "outputs": [
    {
     "name": "stdout",
     "output_type": "stream",
     "text": [
      "[[-2.03525571  1.69579643]\n",
      " [-1.10709071  1.26496003]\n",
      " [-0.65279495 -0.09500334]\n",
      " [-0.26334071 -0.77824894]\n",
      " [ 0.09983143 -0.88704601]]\n",
      "[[0]\n",
      " [0]\n",
      " [0]\n",
      " [0]\n",
      " [0]]\n"
     ]
    }
   ],
   "source": [
    "print(X[:5])\n",
    "print(Y[:5])"
   ]
  },
  {
   "cell_type": "markdown",
   "metadata": {},
   "source": [
    "## Simple Classification"
   ]
  },
  {
   "cell_type": "code",
   "execution_count": 47,
   "metadata": {
    "collapsed": true
   },
   "outputs": [],
   "source": [
    "# fix random seed for reproducibility\n",
    "seed = 7\n",
    "np.random.seed(seed)"
   ]
  },
  {
   "cell_type": "code",
   "execution_count": 65,
   "metadata": {},
   "outputs": [
    {
     "name": "stdout",
     "output_type": "stream",
     "text": [
      "34 43\n",
      "79.06976744186046\n",
      "38 43\n",
      "88.37209302325581\n",
      "41 42\n",
      "97.61904761904762\n",
      "36 42\n",
      "85.71428571428571\n",
      "39 42\n",
      "92.85714285714286\n"
     ]
    }
   ],
   "source": [
    "kf = KFold(n_splits=5)\n",
    "# print(list(kf.split(X)))\n",
    "# print(list(kf.split(Y)))\n",
    "for train, test in kf.split(X):\n",
    "    XTrain, XTest, YTrain, YTest = X[train], X[test], Y[train], Y[test]\n",
    "    clf = RandomForestClassifier(n_estimators=500, random_state=seed )\n",
    "    clf = clf.fit(XTrain, YTrain.ravel())\n",
    "    YPred = clf.predict(XTest)\n",
    "#     print(YPred.shape)\n",
    "    diff = YPred - YTest.ravel()\n",
    "#     print(diff.shape)\n",
    "#     print(diff)\n",
    "    score = diff[diff == 0].size\n",
    "    print(score, YPred.size)\n",
    "    print((100.0 * score)/(YPred.size))"
   ]
  },
  {
   "cell_type": "code",
   "execution_count": 79,
   "metadata": {},
   "outputs": [
    {
     "name": "stdout",
     "output_type": "stream",
     "text": [
      "35 43\n",
      "81.3953488372093\n",
      "39 43\n",
      "90.69767441860465\n",
      "39 42\n",
      "92.85714285714286\n",
      "36 42\n",
      "85.71428571428571\n",
      "42 42\n",
      "100.0\n"
     ]
    }
   ],
   "source": [
    "kf = KFold(n_splits=5)\n",
    "# print(list(kf.split(X)))\n",
    "# print(list(kf.split(Y)))\n",
    "for train, test in kf.split(X):\n",
    "    XTrain, XTest, YTrain, YTest = X[train], X[test], Y[train], Y[test]\n",
    "    clf = svm.SVC(kernel='linear')\n",
    "    clf = clf.fit(XTrain, YTrain.ravel())\n",
    "    YPred = clf.predict(XTest)\n",
    "#     print(YPred.shape)\n",
    "    diff = YPred - YTest.ravel()\n",
    "#     print(diff.shape)\n",
    "#     print(diff)\n",
    "    score = diff[diff == 0].size\n",
    "    print(score, YPred.size)\n",
    "    print((100.0 * score)/(YPred.size))"
   ]
  },
  {
   "cell_type": "code",
   "execution_count": 90,
   "metadata": {},
   "outputs": [
    {
     "name": "stdout",
     "output_type": "stream",
     "text": [
      "34 43\n",
      "79.06976744186046\n",
      "39 43\n",
      "90.69767441860465\n",
      "39 42\n",
      "92.85714285714286\n",
      "36 42\n",
      "85.71428571428571\n",
      "39 42\n",
      "92.85714285714286\n"
     ]
    }
   ],
   "source": [
    "kf = KFold(n_splits=5)\n",
    "# print(list(kf.split(X)))\n",
    "# print(list(kf.split(Y)))\n",
    "for train, test in kf.split(X):\n",
    "    XTrain, XTest, YTrain, YTest = X[train], X[test], Y[train], Y[test]\n",
    "    clf = KNeighborsClassifier(n_neighbors=3)\n",
    "    clf = clf.fit(XTrain, YTrain.ravel())\n",
    "    YPred = clf.predict(XTest)\n",
    "#     print(YPred.shape)\n",
    "    diff = YPred - YTest.ravel()\n",
    "#     print(diff.shape)\n",
    "#     print(diff)\n",
    "    score = diff[diff == 0].size\n",
    "    print(score, YPred.size)\n",
    "    print((100.0 * score)/(YPred.size))"
   ]
  },
  {
   "cell_type": "markdown",
   "metadata": {},
   "source": [
    "## Stratified Cross Validation"
   ]
  },
  {
   "cell_type": "code",
   "execution_count": 71,
   "metadata": {},
   "outputs": [
    {
     "name": "stdout",
     "output_type": "stream",
     "text": [
      "36 43\n",
      "83.72093023255815\n",
      "38 43\n",
      "88.37209302325581\n",
      "40 43\n",
      "93.02325581395348\n",
      "38 42\n",
      "90.47619047619048\n",
      "37 41\n",
      "90.2439024390244\n"
     ]
    }
   ],
   "source": [
    "skf = StratifiedKFold(n_splits=5)\n",
    "# print(list(kf.split(X)))\n",
    "# print(list(kf.split(Y)))\n",
    "for train, test in skf.split(X, Y.ravel()):\n",
    "    XTrain, XTest, YTrain, YTest = X[train], X[test], Y[train], Y[test]\n",
    "    clf = RandomForestClassifier(n_estimators=500, random_state=seed )\n",
    "    clf = clf.fit(XTrain, YTrain.ravel())\n",
    "    YPred = clf.predict(XTest)\n",
    "    diff = YPred - YTest.ravel()\n",
    "    score = diff[diff == 0].size\n",
    "    print(score, YPred.size)\n",
    "    print((100.0 * score)/(YPred.size))"
   ]
  },
  {
   "cell_type": "code",
   "execution_count": 80,
   "metadata": {},
   "outputs": [
    {
     "name": "stdout",
     "output_type": "stream",
     "text": [
      "37 43\n",
      "86.04651162790698\n",
      "38 43\n",
      "88.37209302325581\n",
      "39 43\n",
      "90.69767441860465\n",
      "39 42\n",
      "92.85714285714286\n",
      "38 41\n",
      "92.6829268292683\n"
     ]
    }
   ],
   "source": [
    "skf = StratifiedKFold(n_splits=5)\n",
    "# print(list(kf.split(X)))\n",
    "# print(list(kf.split(Y)))\n",
    "for train, test in skf.split(X, Y.ravel()):\n",
    "    XTrain, XTest, YTrain, YTest = X[train], X[test], Y[train], Y[test]\n",
    "    clf = svm.SVC(kernel='linear')\n",
    "    clf = clf.fit(XTrain, YTrain.ravel())\n",
    "    YPred = clf.predict(XTest)\n",
    "    diff = YPred - YTest.ravel()\n",
    "    score = diff[diff == 0].size\n",
    "    print(score, YPred.size)\n",
    "    print((100.0 * score)/(YPred.size))"
   ]
  },
  {
   "cell_type": "code",
   "execution_count": 89,
   "metadata": {},
   "outputs": [
    {
     "name": "stdout",
     "output_type": "stream",
     "text": [
      "36 43\n",
      "83.72093023255815\n",
      "38 43\n",
      "88.37209302325581\n",
      "39 43\n",
      "90.69767441860465\n",
      "37 42\n",
      "88.0952380952381\n",
      "36 41\n",
      "87.8048780487805\n"
     ]
    }
   ],
   "source": [
    "skf = StratifiedKFold(n_splits=5)\n",
    "# print(list(kf.split(X)))\n",
    "# print(list(kf.split(Y)))\n",
    "for train, test in skf.split(X, Y.ravel()):\n",
    "    XTrain, XTest, YTrain, YTest = X[train], X[test], Y[train], Y[test]\n",
    "    clf = KNeighborsClassifier(n_neighbors=3)\n",
    "    clf = clf.fit(XTrain, YTrain.ravel())\n",
    "    YPred = clf.predict(XTest)\n",
    "    diff = YPred - YTest.ravel()\n",
    "    score = diff[diff == 0].size\n",
    "    print(score, YPred.size)\n",
    "    print((100.0 * score)/(YPred.size))"
   ]
  },
  {
   "cell_type": "markdown",
   "metadata": {},
   "source": [
    "## One Hot Encoded Outputs"
   ]
  },
  {
   "cell_type": "code",
   "execution_count": 73,
   "metadata": {},
   "outputs": [
    {
     "name": "stdout",
     "output_type": "stream",
     "text": [
      "(212, 2)\n"
     ]
    }
   ],
   "source": [
    "ohe = OneHotEncoder()\n",
    "YO = ohe.fit_transform(Y)\n",
    "print(YO.shape)"
   ]
  },
  {
   "cell_type": "code",
   "execution_count": 76,
   "metadata": {},
   "outputs": [
    {
     "data": {
      "text/plain": [
       "(212, 2)"
      ]
     },
     "execution_count": 76,
     "metadata": {},
     "output_type": "execute_result"
    }
   ],
   "source": [
    "YO = YO.todense()\n",
    "YO.shape"
   ]
  },
  {
   "cell_type": "code",
   "execution_count": 77,
   "metadata": {},
   "outputs": [
    {
     "name": "stdout",
     "output_type": "stream",
     "text": [
      "68 86\n",
      "79.06976744186046\n",
      "76 86\n",
      "88.37209302325581\n",
      "82 84\n",
      "97.61904761904762\n",
      "72 84\n",
      "85.71428571428571\n",
      "78 84\n",
      "92.85714285714286\n"
     ]
    }
   ],
   "source": [
    "kf = KFold(n_splits=5)\n",
    "# print(list(kf.split(X)))\n",
    "# print(list(kf.split(Y)))\n",
    "for train, test in kf.split(X):\n",
    "    XTrain, XTest, YTrain, YTest = X[train], X[test], YO[train], YO[test]\n",
    "    clf = RandomForestClassifier(n_estimators=500, random_state=seed )\n",
    "    clf = clf.fit(XTrain, YTrain)\n",
    "    YPred = clf.predict(XTest)\n",
    "#     print(YPred.shape)\n",
    "    diff = YPred - YTest\n",
    "#     print(diff.shape)\n",
    "#     print(diff)\n",
    "    score = diff[diff == 0].size\n",
    "    print(score, YPred.size)\n",
    "    print((100.0 * score)/(YPred.size))"
   ]
  },
  {
   "cell_type": "code",
   "execution_count": 91,
   "metadata": {},
   "outputs": [
    {
     "name": "stdout",
     "output_type": "stream",
     "text": [
      "68 86\n",
      "79.06976744186046\n",
      "78 86\n",
      "90.69767441860465\n",
      "78 84\n",
      "92.85714285714286\n",
      "72 84\n",
      "85.71428571428571\n",
      "78 84\n",
      "92.85714285714286\n"
     ]
    }
   ],
   "source": [
    "kf = KFold(n_splits=5)\n",
    "# print(list(kf.split(X)))\n",
    "# print(list(kf.split(Y)))\n",
    "for train, test in kf.split(X):\n",
    "    XTrain, XTest, YTrain, YTest = X[train], X[test], YO[train], YO[test]\n",
    "    clf = KNeighborsClassifier(n_neighbors=3)\n",
    "    clf = clf.fit(XTrain, YTrain)\n",
    "    YPred = clf.predict(XTest)\n",
    "#     print(YPred.shape)\n",
    "    diff = YPred - YTest\n",
    "#     print(diff.shape)\n",
    "#     print(diff)\n",
    "    score = diff[diff == 0].size\n",
    "    print(score, YPred.size)\n",
    "    print((100.0 * score)/(YPred.size))"
   ]
  },
  {
   "cell_type": "code",
   "execution_count": 82,
   "metadata": {},
   "outputs": [
    {
     "ename": "ValueError",
     "evalue": "bad input shape (169, 2)",
     "output_type": "error",
     "traceback": [
      "\u001b[0;31m---------------------------------------------------------------------------\u001b[0m",
      "\u001b[0;31mValueError\u001b[0m                                Traceback (most recent call last)",
      "\u001b[0;32m<ipython-input-82-0c364de15de2>\u001b[0m in \u001b[0;36m<module>\u001b[0;34m()\u001b[0m\n\u001b[1;32m      6\u001b[0m     \u001b[0mXTrain\u001b[0m\u001b[0;34m,\u001b[0m \u001b[0mXTest\u001b[0m\u001b[0;34m,\u001b[0m \u001b[0mYTrain\u001b[0m\u001b[0;34m,\u001b[0m \u001b[0mYTest\u001b[0m \u001b[0;34m=\u001b[0m \u001b[0mX\u001b[0m\u001b[0;34m[\u001b[0m\u001b[0mtrain\u001b[0m\u001b[0;34m]\u001b[0m\u001b[0;34m,\u001b[0m \u001b[0mX\u001b[0m\u001b[0;34m[\u001b[0m\u001b[0mtest\u001b[0m\u001b[0;34m]\u001b[0m\u001b[0;34m,\u001b[0m \u001b[0mYO\u001b[0m\u001b[0;34m[\u001b[0m\u001b[0mtrain\u001b[0m\u001b[0;34m]\u001b[0m\u001b[0;34m,\u001b[0m \u001b[0mYO\u001b[0m\u001b[0;34m[\u001b[0m\u001b[0mtest\u001b[0m\u001b[0;34m]\u001b[0m\u001b[0;34m\u001b[0m\u001b[0m\n\u001b[1;32m      7\u001b[0m     \u001b[0mclf\u001b[0m \u001b[0;34m=\u001b[0m \u001b[0mLinearSVC\u001b[0m\u001b[0;34m(\u001b[0m\u001b[0mmulti_class\u001b[0m\u001b[0;34m=\u001b[0m\u001b[0;34m'crammer_singer'\u001b[0m\u001b[0;34m)\u001b[0m\u001b[0;34m\u001b[0m\u001b[0m\n\u001b[0;32m----> 8\u001b[0;31m     \u001b[0mclf\u001b[0m \u001b[0;34m=\u001b[0m \u001b[0mclf\u001b[0m\u001b[0;34m.\u001b[0m\u001b[0mfit\u001b[0m\u001b[0;34m(\u001b[0m\u001b[0mXTrain\u001b[0m\u001b[0;34m,\u001b[0m \u001b[0mYTrain\u001b[0m\u001b[0;34m)\u001b[0m\u001b[0;34m\u001b[0m\u001b[0m\n\u001b[0m\u001b[1;32m      9\u001b[0m     \u001b[0mYPred\u001b[0m \u001b[0;34m=\u001b[0m \u001b[0mclf\u001b[0m\u001b[0;34m.\u001b[0m\u001b[0mpredict\u001b[0m\u001b[0;34m(\u001b[0m\u001b[0mXTest\u001b[0m\u001b[0;34m)\u001b[0m\u001b[0;34m\u001b[0m\u001b[0m\n\u001b[1;32m     10\u001b[0m \u001b[0;31m#     print(YPred.shape)\u001b[0m\u001b[0;34m\u001b[0m\u001b[0;34m\u001b[0m\u001b[0m\n",
      "\u001b[0;32m~/virtual_envs/activity_detection/lib/python3.5/site-packages/sklearn/svm/classes.py\u001b[0m in \u001b[0;36mfit\u001b[0;34m(self, X, y, sample_weight)\u001b[0m\n\u001b[1;32m    205\u001b[0m \u001b[0;34m\u001b[0m\u001b[0m\n\u001b[1;32m    206\u001b[0m         X, y = check_X_y(X, y, accept_sparse='csr',\n\u001b[0;32m--> 207\u001b[0;31m                          dtype=np.float64, order=\"C\")\n\u001b[0m\u001b[1;32m    208\u001b[0m         \u001b[0mcheck_classification_targets\u001b[0m\u001b[0;34m(\u001b[0m\u001b[0my\u001b[0m\u001b[0;34m)\u001b[0m\u001b[0;34m\u001b[0m\u001b[0m\n\u001b[1;32m    209\u001b[0m         \u001b[0mself\u001b[0m\u001b[0;34m.\u001b[0m\u001b[0mclasses_\u001b[0m \u001b[0;34m=\u001b[0m \u001b[0mnp\u001b[0m\u001b[0;34m.\u001b[0m\u001b[0munique\u001b[0m\u001b[0;34m(\u001b[0m\u001b[0my\u001b[0m\u001b[0;34m)\u001b[0m\u001b[0;34m\u001b[0m\u001b[0m\n",
      "\u001b[0;32m~/virtual_envs/activity_detection/lib/python3.5/site-packages/sklearn/utils/validation.py\u001b[0m in \u001b[0;36mcheck_X_y\u001b[0;34m(X, y, accept_sparse, dtype, order, copy, force_all_finite, ensure_2d, allow_nd, multi_output, ensure_min_samples, ensure_min_features, y_numeric, warn_on_dtype, estimator)\u001b[0m\n\u001b[1;32m    524\u001b[0m                         dtype=None)\n\u001b[1;32m    525\u001b[0m     \u001b[0;32melse\u001b[0m\u001b[0;34m:\u001b[0m\u001b[0;34m\u001b[0m\u001b[0m\n\u001b[0;32m--> 526\u001b[0;31m         \u001b[0my\u001b[0m \u001b[0;34m=\u001b[0m \u001b[0mcolumn_or_1d\u001b[0m\u001b[0;34m(\u001b[0m\u001b[0my\u001b[0m\u001b[0;34m,\u001b[0m \u001b[0mwarn\u001b[0m\u001b[0;34m=\u001b[0m\u001b[0;32mTrue\u001b[0m\u001b[0;34m)\u001b[0m\u001b[0;34m\u001b[0m\u001b[0m\n\u001b[0m\u001b[1;32m    527\u001b[0m         \u001b[0m_assert_all_finite\u001b[0m\u001b[0;34m(\u001b[0m\u001b[0my\u001b[0m\u001b[0;34m)\u001b[0m\u001b[0;34m\u001b[0m\u001b[0m\n\u001b[1;32m    528\u001b[0m     \u001b[0;32mif\u001b[0m \u001b[0my_numeric\u001b[0m \u001b[0;32mand\u001b[0m \u001b[0my\u001b[0m\u001b[0;34m.\u001b[0m\u001b[0mdtype\u001b[0m\u001b[0;34m.\u001b[0m\u001b[0mkind\u001b[0m \u001b[0;34m==\u001b[0m \u001b[0;34m'O'\u001b[0m\u001b[0;34m:\u001b[0m\u001b[0;34m\u001b[0m\u001b[0m\n",
      "\u001b[0;32m~/virtual_envs/activity_detection/lib/python3.5/site-packages/sklearn/utils/validation.py\u001b[0m in \u001b[0;36mcolumn_or_1d\u001b[0;34m(y, warn)\u001b[0m\n\u001b[1;32m    560\u001b[0m         \u001b[0;32mreturn\u001b[0m \u001b[0mnp\u001b[0m\u001b[0;34m.\u001b[0m\u001b[0mravel\u001b[0m\u001b[0;34m(\u001b[0m\u001b[0my\u001b[0m\u001b[0;34m)\u001b[0m\u001b[0;34m\u001b[0m\u001b[0m\n\u001b[1;32m    561\u001b[0m \u001b[0;34m\u001b[0m\u001b[0m\n\u001b[0;32m--> 562\u001b[0;31m     \u001b[0;32mraise\u001b[0m \u001b[0mValueError\u001b[0m\u001b[0;34m(\u001b[0m\u001b[0;34m\"bad input shape {0}\"\u001b[0m\u001b[0;34m.\u001b[0m\u001b[0mformat\u001b[0m\u001b[0;34m(\u001b[0m\u001b[0mshape\u001b[0m\u001b[0;34m)\u001b[0m\u001b[0;34m)\u001b[0m\u001b[0;34m\u001b[0m\u001b[0m\n\u001b[0m\u001b[1;32m    563\u001b[0m \u001b[0;34m\u001b[0m\u001b[0m\n\u001b[1;32m    564\u001b[0m \u001b[0;34m\u001b[0m\u001b[0m\n",
      "\u001b[0;31mValueError\u001b[0m: bad input shape (169, 2)"
     ]
    }
   ],
   "source": [
    "from sklearn.svm import LinearSVC\n",
    "kf = KFold(n_splits=5)\n",
    "# print(list(kf.split(X)))\n",
    "# print(list(kf.split(Y)))\n",
    "for train, test in kf.split(X):\n",
    "    XTrain, XTest, YTrain, YTest = X[train], X[test], YO[train], YO[test]\n",
    "    clf = LinearSVC(multi_class='crammer_singer')\n",
    "    clf = clf.fit(XTrain, YTrain)\n",
    "    YPred = clf.predict(XTest)\n",
    "#     print(YPred.shape)\n",
    "    diff = YPred - YTest\n",
    "#     print(diff.shape)\n",
    "#     print(diff)\n",
    "    score = diff[diff == 0].size\n",
    "    print(score, YPred.size)\n",
    "    print((100.0 * score)/(YPred.size))"
   ]
  }
 ],
 "metadata": {
  "kernelspec": {
   "display_name": "Python 3",
   "language": "python",
   "name": "python3"
  },
  "language_info": {
   "codemirror_mode": {
    "name": "ipython",
    "version": 3
   },
   "file_extension": ".py",
   "mimetype": "text/x-python",
   "name": "python",
   "nbconvert_exporter": "python",
   "pygments_lexer": "ipython3",
   "version": "3.5.3"
  }
 },
 "nbformat": 4,
 "nbformat_minor": 2
}
