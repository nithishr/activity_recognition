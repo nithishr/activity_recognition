{
 "cells": [
  {
   "cell_type": "markdown",
   "metadata": {},
   "source": [
    "## Data Cleaning"
   ]
  },
  {
   "cell_type": "code",
   "execution_count": 1,
   "metadata": {
    "collapsed": true
   },
   "outputs": [],
   "source": [
    "import os\n",
    "import pandas as pd\n",
    "import numpy as np"
   ]
  },
  {
   "cell_type": "code",
   "execution_count": 2,
   "metadata": {
    "collapsed": true
   },
   "outputs": [],
   "source": [
    "from sklearn.ensemble import RandomForestClassifier\n",
    "from sklearn.model_selection import train_test_split\n",
    "from sklearn.model_selection import KFold\n",
    "from sklearn.model_selection import StratifiedKFold\n",
    "from sklearn import svm\n",
    "from sklearn.neighbors import KNeighborsClassifier\n",
    "from sklearn.preprocessing import OneHotEncoder"
   ]
  },
  {
   "cell_type": "code",
   "execution_count": 3,
   "metadata": {
    "collapsed": true
   },
   "outputs": [],
   "source": [
    "files_input = ['Activity-Data/Elevator & Stair/1/1Activity.csv', 'Activity-Data/Elevator & Stair/2/2Activity.csv',\n",
    "         'Activity-Data/Elevator & Stair/3/3Activity.csv', 'Activity-Data/Elevator & Stair/4/4Activity.csv', \n",
    "         'Activity-Data/Elevator & Stair/5/5Activity.csv','Activity-Data/Elevator & Stair/6/6Activity.csv', \n",
    "         'Activity-Data/Elevator & Stair/7/7Activity.csv', 'Activity-Data/Elevator & Stair/8/8Activity.csv', \n",
    "         'Activity-Data/Elevator & Stair/9/9Activity.csv']\n",
    "files_labels = ['Activity-Data/Elevator & Stair/1/1ActivityLog.csv', 'Activity-Data/Elevator & Stair/2/2ActivityLog.csv',\n",
    "         'Activity-Data/Elevator & Stair/3/3ActivityLog.csv', 'Activity-Data/Elevator & Stair/4/4ActivityLog.csv', \n",
    "         'Activity-Data/Elevator & Stair/5/5ActivityLog.csv','Activity-Data/Elevator & Stair/6/6ActivityLog.csv', \n",
    "         'Activity-Data/Elevator & Stair/7/7ActivityLog.csv', 'Activity-Data/Elevator & Stair/8/8ActivityLog.csv', \n",
    "         'Activity-Data/Elevator & Stair/9/9ActivityLog.csv']"
   ]
  },
  {
   "cell_type": "code",
   "execution_count": 4,
   "metadata": {},
   "outputs": [
    {
     "data": {
      "text/html": [
       "<div>\n",
       "<style>\n",
       "    .dataframe thead tr:only-child th {\n",
       "        text-align: right;\n",
       "    }\n",
       "\n",
       "    .dataframe thead th {\n",
       "        text-align: left;\n",
       "    }\n",
       "\n",
       "    .dataframe tbody tr th {\n",
       "        vertical-align: top;\n",
       "    }\n",
       "</style>\n",
       "<table border=\"1\" class=\"dataframe\">\n",
       "  <thead>\n",
       "    <tr style=\"text-align: right;\">\n",
       "      <th></th>\n",
       "      <th>pressureDerivative</th>\n",
       "      <th>pressureIQR</th>\n",
       "      <th>timestamp</th>\n",
       "    </tr>\n",
       "  </thead>\n",
       "  <tbody>\n",
       "    <tr>\n",
       "      <th>0</th>\n",
       "      <td>-2.035256</td>\n",
       "      <td>1.695796</td>\n",
       "      <td>1498222478520</td>\n",
       "    </tr>\n",
       "    <tr>\n",
       "      <th>1</th>\n",
       "      <td>-1.107091</td>\n",
       "      <td>1.264960</td>\n",
       "      <td>1498222479928</td>\n",
       "    </tr>\n",
       "    <tr>\n",
       "      <th>2</th>\n",
       "      <td>-0.652795</td>\n",
       "      <td>-0.095003</td>\n",
       "      <td>1498222481447</td>\n",
       "    </tr>\n",
       "    <tr>\n",
       "      <th>3</th>\n",
       "      <td>-0.263341</td>\n",
       "      <td>-0.778249</td>\n",
       "      <td>1498222482915</td>\n",
       "    </tr>\n",
       "    <tr>\n",
       "      <th>4</th>\n",
       "      <td>0.099831</td>\n",
       "      <td>-0.887046</td>\n",
       "      <td>1498222484432</td>\n",
       "    </tr>\n",
       "  </tbody>\n",
       "</table>\n",
       "</div>"
      ],
      "text/plain": [
       "   pressureDerivative   pressureIQR     timestamp \n",
       "0           -2.035256      1.695796  1498222478520\n",
       "1           -1.107091      1.264960  1498222479928\n",
       "2           -0.652795     -0.095003  1498222481447\n",
       "3           -0.263341     -0.778249  1498222482915\n",
       "4            0.099831     -0.887046  1498222484432"
      ]
     },
     "execution_count": 4,
     "metadata": {},
     "output_type": "execute_result"
    }
   ],
   "source": [
    "# usecols=['pressureDerivative','pressureIQR', 'timestamp']\n",
    "input_list = []\n",
    "for fn in files_input:\n",
    "    df = pd.read_csv(fn, delimiter=',', usecols = [12,13,26], header=0)\n",
    "    input_list.append(df)\n",
    "input_frame = pd.DataFrame()\n",
    "input_frame = pd.concat(input_list)\n",
    "input_frame.head()"
   ]
  },
  {
   "cell_type": "code",
   "execution_count": 5,
   "metadata": {},
   "outputs": [
    {
     "data": {
      "text/html": [
       "<div>\n",
       "<style>\n",
       "    .dataframe thead tr:only-child th {\n",
       "        text-align: right;\n",
       "    }\n",
       "\n",
       "    .dataframe thead th {\n",
       "        text-align: left;\n",
       "    }\n",
       "\n",
       "    .dataframe tbody tr th {\n",
       "        vertical-align: top;\n",
       "    }\n",
       "</style>\n",
       "<table border=\"1\" class=\"dataframe\">\n",
       "  <thead>\n",
       "    <tr style=\"text-align: right;\">\n",
       "      <th></th>\n",
       "      <th>prediction</th>\n",
       "      <th>timestamp</th>\n",
       "    </tr>\n",
       "  </thead>\n",
       "  <tbody>\n",
       "    <tr>\n",
       "      <th>0</th>\n",
       "      <td>walking</td>\n",
       "      <td>1498222478583</td>\n",
       "    </tr>\n",
       "    <tr>\n",
       "      <th>1</th>\n",
       "      <td>walking</td>\n",
       "      <td>1498222479933</td>\n",
       "    </tr>\n",
       "    <tr>\n",
       "      <th>2</th>\n",
       "      <td>walking</td>\n",
       "      <td>1498222481452</td>\n",
       "    </tr>\n",
       "    <tr>\n",
       "      <th>3</th>\n",
       "      <td>walking</td>\n",
       "      <td>1498222482917</td>\n",
       "    </tr>\n",
       "    <tr>\n",
       "      <th>4</th>\n",
       "      <td>walking</td>\n",
       "      <td>1498222484436</td>\n",
       "    </tr>\n",
       "  </tbody>\n",
       "</table>\n",
       "</div>"
      ],
      "text/plain": [
       "  prediction     timestamp \n",
       "0    walking  1498222478583\n",
       "1    walking  1498222479933\n",
       "2    walking  1498222481452\n",
       "3    walking  1498222482917\n",
       "4    walking  1498222484436"
      ]
     },
     "execution_count": 5,
     "metadata": {},
     "output_type": "execute_result"
    }
   ],
   "source": [
    "output_list = []\n",
    "for fn in files_labels:\n",
    "    df = pd.read_csv(fn, delimiter=',', header=0)\n",
    "    output_list.append(df)\n",
    "output_frame = pd.DataFrame()\n",
    "output_frame = pd.concat(output_list)\n",
    "output_frame.head()"
   ]
  },
  {
   "cell_type": "code",
   "execution_count": 6,
   "metadata": {},
   "outputs": [
    {
     "data": {
      "text/plain": [
       "(443, 443)"
      ]
     },
     "execution_count": 6,
     "metadata": {},
     "output_type": "execute_result"
    }
   ],
   "source": [
    "len(input_frame),len(output_frame)"
   ]
  },
  {
   "cell_type": "code",
   "execution_count": 7,
   "metadata": {},
   "outputs": [
    {
     "data": {
      "text/plain": [
       "walking               216\n",
       "walking downstairs    174\n",
       "elevator down          53\n",
       "Name: prediction, dtype: int64"
      ]
     },
     "execution_count": 7,
     "metadata": {},
     "output_type": "execute_result"
    }
   ],
   "source": [
    "pd.value_counts(output_frame['prediction'])"
   ]
  },
  {
   "cell_type": "code",
   "execution_count": 8,
   "metadata": {},
   "outputs": [
    {
     "data": {
      "text/html": [
       "<div>\n",
       "<style>\n",
       "    .dataframe thead tr:only-child th {\n",
       "        text-align: right;\n",
       "    }\n",
       "\n",
       "    .dataframe thead th {\n",
       "        text-align: left;\n",
       "    }\n",
       "\n",
       "    .dataframe tbody tr th {\n",
       "        vertical-align: top;\n",
       "    }\n",
       "</style>\n",
       "<table border=\"1\" class=\"dataframe\">\n",
       "  <thead>\n",
       "    <tr style=\"text-align: right;\">\n",
       "      <th></th>\n",
       "      <th>pressureDerivative</th>\n",
       "      <th>pressureIQR</th>\n",
       "      <th>timestamp</th>\n",
       "      <th>prediction</th>\n",
       "      <th>timestamp</th>\n",
       "    </tr>\n",
       "  </thead>\n",
       "  <tbody>\n",
       "    <tr>\n",
       "      <th>0</th>\n",
       "      <td>-2.035256</td>\n",
       "      <td>1.695796</td>\n",
       "      <td>1498222478520</td>\n",
       "      <td>walking</td>\n",
       "      <td>1498222478583</td>\n",
       "    </tr>\n",
       "    <tr>\n",
       "      <th>1</th>\n",
       "      <td>-1.107091</td>\n",
       "      <td>1.264960</td>\n",
       "      <td>1498222479928</td>\n",
       "      <td>walking</td>\n",
       "      <td>1498222479933</td>\n",
       "    </tr>\n",
       "    <tr>\n",
       "      <th>2</th>\n",
       "      <td>-0.652795</td>\n",
       "      <td>-0.095003</td>\n",
       "      <td>1498222481447</td>\n",
       "      <td>walking</td>\n",
       "      <td>1498222481452</td>\n",
       "    </tr>\n",
       "    <tr>\n",
       "      <th>3</th>\n",
       "      <td>-0.263341</td>\n",
       "      <td>-0.778249</td>\n",
       "      <td>1498222482915</td>\n",
       "      <td>walking</td>\n",
       "      <td>1498222482917</td>\n",
       "    </tr>\n",
       "    <tr>\n",
       "      <th>4</th>\n",
       "      <td>0.099831</td>\n",
       "      <td>-0.887046</td>\n",
       "      <td>1498222484432</td>\n",
       "      <td>walking</td>\n",
       "      <td>1498222484436</td>\n",
       "    </tr>\n",
       "  </tbody>\n",
       "</table>\n",
       "</div>"
      ],
      "text/plain": [
       "   pressureDerivative   pressureIQR     timestamp  prediction     timestamp \n",
       "0           -2.035256      1.695796  1498222478520    walking  1498222478583\n",
       "1           -1.107091      1.264960  1498222479928    walking  1498222479933\n",
       "2           -0.652795     -0.095003  1498222481447    walking  1498222481452\n",
       "3           -0.263341     -0.778249  1498222482915    walking  1498222482917\n",
       "4            0.099831     -0.887046  1498222484432    walking  1498222484436"
      ]
     },
     "execution_count": 8,
     "metadata": {},
     "output_type": "execute_result"
    }
   ],
   "source": [
    "data = pd.concat([input_frame,output_frame], axis=1)\n",
    "data.head()"
   ]
  },
  {
   "cell_type": "code",
   "execution_count": 9,
   "metadata": {
    "collapsed": true
   },
   "outputs": [],
   "source": [
    "data['prediction'] = data['prediction'].astype('category')"
   ]
  },
  {
   "cell_type": "code",
   "execution_count": 10,
   "metadata": {
    "collapsed": true
   },
   "outputs": [],
   "source": [
    "data['prediction'] = data['prediction'].cat.codes"
   ]
  },
  {
   "cell_type": "code",
   "execution_count": 11,
   "metadata": {},
   "outputs": [
    {
     "data": {
      "text/html": [
       "<div>\n",
       "<style>\n",
       "    .dataframe thead tr:only-child th {\n",
       "        text-align: right;\n",
       "    }\n",
       "\n",
       "    .dataframe thead th {\n",
       "        text-align: left;\n",
       "    }\n",
       "\n",
       "    .dataframe tbody tr th {\n",
       "        vertical-align: top;\n",
       "    }\n",
       "</style>\n",
       "<table border=\"1\" class=\"dataframe\">\n",
       "  <thead>\n",
       "    <tr style=\"text-align: right;\">\n",
       "      <th></th>\n",
       "      <th>pressureDerivative</th>\n",
       "      <th>pressureIQR</th>\n",
       "      <th>timestamp</th>\n",
       "      <th>prediction</th>\n",
       "      <th>timestamp</th>\n",
       "    </tr>\n",
       "  </thead>\n",
       "  <tbody>\n",
       "    <tr>\n",
       "      <th>0</th>\n",
       "      <td>-2.035256</td>\n",
       "      <td>1.695796</td>\n",
       "      <td>1498222478520</td>\n",
       "      <td>1</td>\n",
       "      <td>1498222478583</td>\n",
       "    </tr>\n",
       "    <tr>\n",
       "      <th>1</th>\n",
       "      <td>-1.107091</td>\n",
       "      <td>1.264960</td>\n",
       "      <td>1498222479928</td>\n",
       "      <td>1</td>\n",
       "      <td>1498222479933</td>\n",
       "    </tr>\n",
       "    <tr>\n",
       "      <th>2</th>\n",
       "      <td>-0.652795</td>\n",
       "      <td>-0.095003</td>\n",
       "      <td>1498222481447</td>\n",
       "      <td>1</td>\n",
       "      <td>1498222481452</td>\n",
       "    </tr>\n",
       "    <tr>\n",
       "      <th>3</th>\n",
       "      <td>-0.263341</td>\n",
       "      <td>-0.778249</td>\n",
       "      <td>1498222482915</td>\n",
       "      <td>1</td>\n",
       "      <td>1498222482917</td>\n",
       "    </tr>\n",
       "    <tr>\n",
       "      <th>4</th>\n",
       "      <td>0.099831</td>\n",
       "      <td>-0.887046</td>\n",
       "      <td>1498222484432</td>\n",
       "      <td>1</td>\n",
       "      <td>1498222484436</td>\n",
       "    </tr>\n",
       "  </tbody>\n",
       "</table>\n",
       "</div>"
      ],
      "text/plain": [
       "   pressureDerivative   pressureIQR     timestamp   prediction     timestamp \n",
       "0           -2.035256      1.695796  1498222478520           1  1498222478583\n",
       "1           -1.107091      1.264960  1498222479928           1  1498222479933\n",
       "2           -0.652795     -0.095003  1498222481447           1  1498222481452\n",
       "3           -0.263341     -0.778249  1498222482915           1  1498222482917\n",
       "4            0.099831     -0.887046  1498222484432           1  1498222484436"
      ]
     },
     "execution_count": 11,
     "metadata": {},
     "output_type": "execute_result"
    }
   ],
   "source": [
    "data.head()"
   ]
  },
  {
   "cell_type": "code",
   "execution_count": 12,
   "metadata": {},
   "outputs": [
    {
     "data": {
      "text/plain": [
       "Index(['pressureDerivative', ' pressureIQR', ' timestamp ', 'prediction',\n",
       "       ' timestamp '],\n",
       "      dtype='object')"
      ]
     },
     "execution_count": 12,
     "metadata": {},
     "output_type": "execute_result"
    }
   ],
   "source": [
    "data.columns"
   ]
  },
  {
   "cell_type": "code",
   "execution_count": 13,
   "metadata": {},
   "outputs": [
    {
     "data": {
      "text/html": [
       "<div>\n",
       "<style>\n",
       "    .dataframe thead tr:only-child th {\n",
       "        text-align: right;\n",
       "    }\n",
       "\n",
       "    .dataframe thead th {\n",
       "        text-align: left;\n",
       "    }\n",
       "\n",
       "    .dataframe tbody tr th {\n",
       "        vertical-align: top;\n",
       "    }\n",
       "</style>\n",
       "<table border=\"1\" class=\"dataframe\">\n",
       "  <thead>\n",
       "    <tr style=\"text-align: right;\">\n",
       "      <th></th>\n",
       "      <th>pressureDerivative</th>\n",
       "      <th>pressureIQR</th>\n",
       "      <th>prediction</th>\n",
       "    </tr>\n",
       "  </thead>\n",
       "  <tbody>\n",
       "    <tr>\n",
       "      <th>0</th>\n",
       "      <td>-2.035256</td>\n",
       "      <td>1.695796</td>\n",
       "      <td>1</td>\n",
       "    </tr>\n",
       "    <tr>\n",
       "      <th>1</th>\n",
       "      <td>-1.107091</td>\n",
       "      <td>1.264960</td>\n",
       "      <td>1</td>\n",
       "    </tr>\n",
       "    <tr>\n",
       "      <th>2</th>\n",
       "      <td>-0.652795</td>\n",
       "      <td>-0.095003</td>\n",
       "      <td>1</td>\n",
       "    </tr>\n",
       "    <tr>\n",
       "      <th>3</th>\n",
       "      <td>-0.263341</td>\n",
       "      <td>-0.778249</td>\n",
       "      <td>1</td>\n",
       "    </tr>\n",
       "    <tr>\n",
       "      <th>4</th>\n",
       "      <td>0.099831</td>\n",
       "      <td>-0.887046</td>\n",
       "      <td>1</td>\n",
       "    </tr>\n",
       "  </tbody>\n",
       "</table>\n",
       "</div>"
      ],
      "text/plain": [
       "   pressureDerivative   pressureIQR  prediction\n",
       "0           -2.035256      1.695796           1\n",
       "1           -1.107091      1.264960           1\n",
       "2           -0.652795     -0.095003           1\n",
       "3           -0.263341     -0.778249           1\n",
       "4            0.099831     -0.887046           1"
      ]
     },
     "execution_count": 13,
     "metadata": {},
     "output_type": "execute_result"
    }
   ],
   "source": [
    "data_clean = data[['pressureDerivative', ' pressureIQR','prediction']]\n",
    "data_clean.head()"
   ]
  },
  {
   "cell_type": "code",
   "execution_count": 14,
   "metadata": {},
   "outputs": [
    {
     "data": {
      "text/plain": [
       "1    216\n",
       "2    174\n",
       "0     53\n",
       "Name: prediction, dtype: int64"
      ]
     },
     "execution_count": 14,
     "metadata": {},
     "output_type": "execute_result"
    }
   ],
   "source": [
    "pd.value_counts(data_clean['prediction'])"
   ]
  },
  {
   "cell_type": "markdown",
   "metadata": {},
   "source": [
    "## Class equalization"
   ]
  },
  {
   "cell_type": "code",
   "execution_count": 18,
   "metadata": {
    "collapsed": true
   },
   "outputs": [],
   "source": [
    "data_walking = data_clean[data_clean['prediction']==1]"
   ]
  },
  {
   "cell_type": "code",
   "execution_count": 19,
   "metadata": {
    "collapsed": true
   },
   "outputs": [],
   "source": [
    "data_walking_downstairs = data_clean[data_clean['prediction']==1].sample(38)"
   ]
  },
  {
   "cell_type": "code",
   "execution_count": 20,
   "metadata": {},
   "outputs": [
    {
     "data": {
      "text/plain": [
       "(38, 38)"
      ]
     },
     "execution_count": 20,
     "metadata": {},
     "output_type": "execute_result"
    }
   ],
   "source": [
    "len(data_walking),len(data_walking_downstairs)"
   ]
  },
  {
   "cell_type": "code",
   "execution_count": 21,
   "metadata": {},
   "outputs": [
    {
     "data": {
      "text/html": [
       "<div>\n",
       "<style>\n",
       "    .dataframe thead tr:only-child th {\n",
       "        text-align: right;\n",
       "    }\n",
       "\n",
       "    .dataframe thead th {\n",
       "        text-align: left;\n",
       "    }\n",
       "\n",
       "    .dataframe tbody tr th {\n",
       "        vertical-align: top;\n",
       "    }\n",
       "</style>\n",
       "<table border=\"1\" class=\"dataframe\">\n",
       "  <thead>\n",
       "    <tr style=\"text-align: right;\">\n",
       "      <th></th>\n",
       "      <th>pressureDerivative</th>\n",
       "      <th>pressureIQR</th>\n",
       "      <th>prediction</th>\n",
       "    </tr>\n",
       "  </thead>\n",
       "  <tbody>\n",
       "    <tr>\n",
       "      <th>0</th>\n",
       "      <td>-2.035256</td>\n",
       "      <td>1.695796</td>\n",
       "      <td>0</td>\n",
       "    </tr>\n",
       "    <tr>\n",
       "      <th>1</th>\n",
       "      <td>-1.107091</td>\n",
       "      <td>1.264960</td>\n",
       "      <td>0</td>\n",
       "    </tr>\n",
       "    <tr>\n",
       "      <th>2</th>\n",
       "      <td>-0.652795</td>\n",
       "      <td>-0.095003</td>\n",
       "      <td>0</td>\n",
       "    </tr>\n",
       "    <tr>\n",
       "      <th>3</th>\n",
       "      <td>-0.263341</td>\n",
       "      <td>-0.778249</td>\n",
       "      <td>0</td>\n",
       "    </tr>\n",
       "    <tr>\n",
       "      <th>4</th>\n",
       "      <td>0.099831</td>\n",
       "      <td>-0.887046</td>\n",
       "      <td>0</td>\n",
       "    </tr>\n",
       "  </tbody>\n",
       "</table>\n",
       "</div>"
      ],
      "text/plain": [
       "   pressureDerivative   pressureIQR  prediction\n",
       "0           -2.035256      1.695796           0\n",
       "1           -1.107091      1.264960           0\n",
       "2           -0.652795     -0.095003           0\n",
       "3           -0.263341     -0.778249           0\n",
       "4            0.099831     -0.887046           0"
      ]
     },
     "execution_count": 21,
     "metadata": {},
     "output_type": "execute_result"
    }
   ],
   "source": [
    "data_clean = pd.concat([data_walking,data_walking_downstairs])\n",
    "data_clean.head()"
   ]
  },
  {
   "cell_type": "code",
   "execution_count": 15,
   "metadata": {},
   "outputs": [
    {
     "data": {
      "text/plain": [
       "1    216\n",
       "2    174\n",
       "Name: prediction, dtype: int64"
      ]
     },
     "execution_count": 15,
     "metadata": {},
     "output_type": "execute_result"
    }
   ],
   "source": [
    "data_clean = data_clean[data_clean['prediction']!=0]\n",
    "pd.value_counts(data_clean['prediction'])"
   ]
  },
  {
   "cell_type": "code",
   "execution_count": 16,
   "metadata": {},
   "outputs": [
    {
     "name": "stdout",
     "output_type": "stream",
     "text": [
      "    pressureDerivative   pressureIQR  prediction\n",
      "27            0.204739     -0.334357           1\n",
      "28            0.032114     -0.695563           1\n",
      "29           -0.000672     -0.599822           1\n",
      "30           -0.032904     -0.656396           1\n",
      "31           -0.059886     -0.634637           1 390\n"
     ]
    }
   ],
   "source": [
    "print(data_clean.tail(), len(data_clean))"
   ]
  },
  {
   "cell_type": "code",
   "execution_count": 18,
   "metadata": {},
   "outputs": [
    {
     "data": {
      "text/plain": [
       "[<matplotlib.lines.Line2D at 0x7f28228f3e48>]"
      ]
     },
     "execution_count": 18,
     "metadata": {},
     "output_type": "execute_result"
    },
    {
     "data": {
      "image/png": "[encoded data removed]",
      "text/plain": [
       "<matplotlib.figure.Figure at 0x7f2826580668>"
      ]
     },
     "metadata": {},
     "output_type": "display_data"
    }
   ],
   "source": [
    "import matplotlib.pyplot as plt\n",
    "%matplotlib inline\n",
    "plt.plot(data_clean['pressureDerivative'])"
   ]
  },
  {
   "cell_type": "code",
   "execution_count": 68,
   "metadata": {},
   "outputs": [
    {
     "data": {
      "text/plain": [
       "(390, 2)"
      ]
     },
     "execution_count": 68,
     "metadata": {},
     "output_type": "execute_result"
    }
   ],
   "source": [
    "X = data_clean[['pressureDerivative', ' pressureIQR']].values\n",
    "X.shape"
   ]
  },
  {
   "cell_type": "code",
   "execution_count": 69,
   "metadata": {},
   "outputs": [
    {
     "data": {
      "text/plain": [
       "(390, 1)"
      ]
     },
     "execution_count": 69,
     "metadata": {},
     "output_type": "execute_result"
    }
   ],
   "source": [
    "Y = data_clean['prediction'].values\n",
    "Y = Y.reshape(-1,1)\n",
    "Y.shape"
   ]
  },
  {
   "cell_type": "code",
   "execution_count": 52,
   "metadata": {
    "scrolled": false
   },
   "outputs": [
    {
     "name": "stdout",
     "output_type": "stream",
     "text": [
      "[[-2.03525571  1.69579643]\n",
      " [-1.10709071  1.26496003]\n",
      " [-0.65279495 -0.09500334]\n",
      " [-0.26334071 -0.77824894]\n",
      " [ 0.09983143 -0.88704601]]\n",
      "[[1]\n",
      " [1]\n",
      " [1]\n",
      " [1]\n",
      " [1]]\n"
     ]
    }
   ],
   "source": [
    "print(X[:5])\n",
    "print(Y[:5])"
   ]
  },
  {
   "cell_type": "markdown",
   "metadata": {},
   "source": [
    "## Simple Classification"
   ]
  },
  {
   "cell_type": "code",
   "execution_count": 70,
   "metadata": {
    "collapsed": true
   },
   "outputs": [],
   "source": [
    "# fix random seed for reproducibility\n",
    "seed = 7\n",
    "np.random.seed(seed)"
   ]
  },
  {
   "cell_type": "code",
   "execution_count": 71,
   "metadata": {},
   "outputs": [
    {
     "name": "stdout",
     "output_type": "stream",
     "text": [
      "31 78\n",
      "39.743589743589745\n",
      "48 78\n",
      "61.53846153846154\n",
      "49 78\n",
      "62.82051282051282\n",
      "33 78\n",
      "42.30769230769231\n",
      "52 78\n",
      "66.66666666666667\n"
     ]
    }
   ],
   "source": [
    "kf = KFold(n_splits=5)\n",
    "# print(list(kf.split(X)))\n",
    "# print(list(kf.split(Y)))\n",
    "for train, test in kf.split(X):\n",
    "    XTrain, XTest, YTrain, YTest = X[train], X[test], Y[train], Y[test]\n",
    "    clf = RandomForestClassifier(n_estimators=500, random_state=seed )\n",
    "    clf = clf.fit(XTrain, YTrain.ravel())\n",
    "    YPred = clf.predict(XTest)\n",
    "#     print(YPred.shape)\n",
    "    diff = YPred - YTest.ravel()\n",
    "#     print(diff.shape)\n",
    "#     print(diff)\n",
    "    score = diff[diff == 0].size\n",
    "    print(score, YPred.size)\n",
    "    print((100.0 * score)/(YPred.size))"
   ]
  },
  {
   "cell_type": "code",
   "execution_count": 72,
   "metadata": {},
   "outputs": [
    {
     "name": "stdout",
     "output_type": "stream",
     "text": [
      "17 78\n",
      "21.794871794871796\n",
      "17 78\n",
      "21.794871794871796\n",
      "26 78\n",
      "33.333333333333336\n",
      "4 78\n",
      "5.128205128205129\n",
      "9 78\n",
      "11.538461538461538\n"
     ]
    }
   ],
   "source": [
    "kf = KFold(n_splits=5)\n",
    "# print(list(kf.split(X)))\n",
    "# print(list(kf.split(Y)))\n",
    "for train, test in kf.split(X):\n",
    "    XTrain, XTest, YTrain, YTest = X[train], X[test], Y[train], Y[test]\n",
    "    clf = svm.SVC(kernel='linear')\n",
    "    clf = clf.fit(XTrain, YTrain.ravel())\n",
    "    YPred = clf.predict(XTest)\n",
    "#     print(YPred.shape)\n",
    "    diff = YPred - YTest.ravel()\n",
    "#     print(diff.shape)\n",
    "#     print(diff)\n",
    "    score = diff[diff == 0].size\n",
    "    print(score, YPred.size)\n",
    "    print((100.0 * score)/(YPred.size))"
   ]
  },
  {
   "cell_type": "code",
   "execution_count": 73,
   "metadata": {},
   "outputs": [
    {
     "name": "stdout",
     "output_type": "stream",
     "text": [
      "32 78\n",
      "41.02564102564103\n",
      "40 78\n",
      "51.282051282051285\n",
      "54 78\n",
      "69.23076923076923\n",
      "31 78\n",
      "39.743589743589745\n",
      "50 78\n",
      "64.1025641025641\n"
     ]
    }
   ],
   "source": [
    "kf = KFold(n_splits=5)\n",
    "# print(list(kf.split(X)))\n",
    "# print(list(kf.split(Y)))\n",
    "for train, test in kf.split(X):\n",
    "    XTrain, XTest, YTrain, YTest = X[train], X[test], Y[train], Y[test]\n",
    "    clf = KNeighborsClassifier(n_neighbors=3)\n",
    "    clf = clf.fit(XTrain, YTrain.ravel())\n",
    "    YPred = clf.predict(XTest)\n",
    "#     print(YPred.shape)\n",
    "    diff = YPred - YTest.ravel()\n",
    "#     print(diff.shape)\n",
    "#     print(diff)\n",
    "    score = diff[diff == 0].size\n",
    "    print(score, YPred.size)\n",
    "    print((100.0 * score)/(YPred.size))"
   ]
  },
  {
   "cell_type": "markdown",
   "metadata": {},
   "source": [
    "## Stratified Cross Validation"
   ]
  },
  {
   "cell_type": "code",
   "execution_count": 74,
   "metadata": {},
   "outputs": [
    {
     "name": "stdout",
     "output_type": "stream",
     "text": [
      "54 79\n",
      "68.35443037974683\n",
      "42 78\n",
      "53.84615384615385\n",
      "43 78\n",
      "55.12820512820513\n",
      "53 78\n",
      "67.94871794871794\n",
      "50 77\n",
      "64.93506493506493\n"
     ]
    }
   ],
   "source": [
    "skf = StratifiedKFold(n_splits=5)\n",
    "# print(list(kf.split(X)))\n",
    "# print(list(kf.split(Y)))\n",
    "for train, test in skf.split(X, Y.ravel()):\n",
    "    XTrain, XTest, YTrain, YTest = X[train], X[test], Y[train], Y[test]\n",
    "    clf = RandomForestClassifier(n_estimators=500, random_state=seed )\n",
    "    clf = clf.fit(XTrain, YTrain.ravel())\n",
    "    YPred = clf.predict(XTest)\n",
    "    diff = YPred - YTest.ravel()\n",
    "    score = diff[diff == 0].size\n",
    "    print(score, YPred.size)\n",
    "    print((100.0 * score)/(YPred.size))"
   ]
  },
  {
   "cell_type": "code",
   "execution_count": 75,
   "metadata": {},
   "outputs": [
    {
     "name": "stdout",
     "output_type": "stream",
     "text": [
      "56 79\n",
      "70.88607594936708\n",
      "47 78\n",
      "60.256410256410255\n",
      "49 78\n",
      "62.82051282051282\n",
      "47 78\n",
      "60.256410256410255\n",
      "45 77\n",
      "58.44155844155844\n"
     ]
    }
   ],
   "source": [
    "skf = StratifiedKFold(n_splits=5)\n",
    "# print(list(kf.split(X)))\n",
    "# print(list(kf.split(Y)))\n",
    "for train, test in skf.split(X, Y.ravel()):\n",
    "    XTrain, XTest, YTrain, YTest = X[train], X[test], Y[train], Y[test]\n",
    "    clf = svm.SVC(kernel='linear')\n",
    "    clf = clf.fit(XTrain, YTrain.ravel())\n",
    "    YPred = clf.predict(XTest)\n",
    "    diff = YPred - YTest.ravel()\n",
    "    score = diff[diff == 0].size\n",
    "    print(score, YPred.size)\n",
    "    print((100.0 * score)/(YPred.size))"
   ]
  },
  {
   "cell_type": "code",
   "execution_count": 76,
   "metadata": {},
   "outputs": [
    {
     "name": "stdout",
     "output_type": "stream",
     "text": [
      "52 79\n",
      "65.82278481012658\n",
      "39 78\n",
      "50.0\n",
      "41 78\n",
      "52.56410256410256\n",
      "47 78\n",
      "60.256410256410255\n",
      "52 77\n",
      "67.53246753246754\n"
     ]
    }
   ],
   "source": [
    "skf = StratifiedKFold(n_splits=5)\n",
    "# print(list(kf.split(X)))\n",
    "# print(list(kf.split(Y)))\n",
    "for train, test in skf.split(X, Y.ravel()):\n",
    "    XTrain, XTest, YTrain, YTest = X[train], X[test], Y[train], Y[test]\n",
    "    clf = KNeighborsClassifier(n_neighbors=3)\n",
    "    clf = clf.fit(XTrain, YTrain.ravel())\n",
    "    YPred = clf.predict(XTest)\n",
    "    diff = YPred - YTest.ravel()\n",
    "    score = diff[diff == 0].size\n",
    "    print(score, YPred.size)\n",
    "    print((100.0 * score)/(YPred.size))"
   ]
  },
  {
   "cell_type": "markdown",
   "metadata": {},
   "source": [
    "## One Hot Encoded Outputs"
   ]
  },
  {
   "cell_type": "code",
   "execution_count": 77,
   "metadata": {},
   "outputs": [
    {
     "name": "stdout",
     "output_type": "stream",
     "text": [
      "(390, 2)\n"
     ]
    }
   ],
   "source": [
    "ohe = OneHotEncoder()\n",
    "YO = ohe.fit_transform(Y)\n",
    "print(YO.shape)"
   ]
  },
  {
   "cell_type": "code",
   "execution_count": 78,
   "metadata": {},
   "outputs": [
    {
     "data": {
      "text/plain": [
       "(390, 2)"
      ]
     },
     "execution_count": 78,
     "metadata": {},
     "output_type": "execute_result"
    }
   ],
   "source": [
    "YO = YO.todense()\n",
    "YO.shape"
   ]
  },
  {
   "cell_type": "code",
   "execution_count": 79,
   "metadata": {},
   "outputs": [
    {
     "name": "stdout",
     "output_type": "stream",
     "text": [
      "312 78 312 78\n",
      "63 156\n",
      "40.38461538461539\n",
      "312 78 312 78\n",
      "97 156\n",
      "62.17948717948718\n",
      "312 78 312 78\n",
      "100 156\n",
      "64.1025641025641\n",
      "312 78 312 78\n",
      "66 156\n",
      "42.30769230769231\n",
      "312 78 312 78\n",
      "103 156\n",
      "66.02564102564102\n"
     ]
    }
   ],
   "source": [
    "kf = KFold(n_splits=5)\n",
    "# print(list(kf.split(X)))\n",
    "# print(list(kf.split(Y)))\n",
    "for train, test in kf.split(X):\n",
    "    XTrain, XTest, YTrain, YTest = X[train], X[test], YO[train], YO[test]\n",
    "    print(len(XTrain), len(XTest), len(YTrain), len(YTest))\n",
    "    clf = RandomForestClassifier(n_estimators=500, random_state=seed )\n",
    "    clf = clf.fit(XTrain, YTrain)\n",
    "    YPred = clf.predict(XTest)\n",
    "#     print(YPred.shape)\n",
    "    diff = YPred - YTest\n",
    "#     print(diff.shape)\n",
    "#     print(diff)\n",
    "    score = diff[diff == 0].size\n",
    "    print(score, YPred.size)\n",
    "    print((100.0 * score)/(YPred.size))"
   ]
  },
  {
   "cell_type": "code",
   "execution_count": 80,
   "metadata": {},
   "outputs": [
    {
     "name": "stdout",
     "output_type": "stream",
     "text": [
      "64 156\n",
      "41.02564102564103\n",
      "80 156\n",
      "51.282051282051285\n",
      "108 156\n",
      "69.23076923076923\n",
      "62 156\n",
      "39.743589743589745\n",
      "100 156\n",
      "64.1025641025641\n"
     ]
    }
   ],
   "source": [
    "kf = KFold(n_splits=5)\n",
    "# print(list(kf.split(X)))\n",
    "# print(list(kf.split(Y)))\n",
    "for train, test in kf.split(X):\n",
    "    XTrain, XTest, YTrain, YTest = X[train], X[test], YO[train], YO[test]\n",
    "    clf = KNeighborsClassifier(n_neighbors=3)\n",
    "    clf = clf.fit(XTrain, YTrain)\n",
    "    YPred = clf.predict(XTest)\n",
    "#     print(YPred.shape)\n",
    "    diff = YPred - YTest\n",
    "#     print(diff.shape)\n",
    "#     print(diff)\n",
    "    score = diff[diff == 0].size\n",
    "    print(score, YPred.size)\n",
    "    print((100.0 * score)/(YPred.size))"
   ]
  },
  {
   "cell_type": "code",
   "execution_count": 82,
   "metadata": {},
   "outputs": [
    {
     "ename": "ValueError",
     "evalue": "bad input shape (169, 2)",
     "output_type": "error",
     "traceback": [
      "\u001b[0;31m---------------------------------------------------------------------------\u001b[0m",
      "\u001b[0;31mValueError\u001b[0m                                Traceback (most recent call last)",
      "\u001b[0;32m<ipython-input-82-0c364de15de2>\u001b[0m in \u001b[0;36m<module>\u001b[0;34m()\u001b[0m\n\u001b[1;32m      6\u001b[0m     \u001b[0mXTrain\u001b[0m\u001b[0;34m,\u001b[0m \u001b[0mXTest\u001b[0m\u001b[0;34m,\u001b[0m \u001b[0mYTrain\u001b[0m\u001b[0;34m,\u001b[0m \u001b[0mYTest\u001b[0m \u001b[0;34m=\u001b[0m \u001b[0mX\u001b[0m\u001b[0;34m[\u001b[0m\u001b[0mtrain\u001b[0m\u001b[0;34m]\u001b[0m\u001b[0;34m,\u001b[0m \u001b[0mX\u001b[0m\u001b[0;34m[\u001b[0m\u001b[0mtest\u001b[0m\u001b[0;34m]\u001b[0m\u001b[0;34m,\u001b[0m \u001b[0mYO\u001b[0m\u001b[0;34m[\u001b[0m\u001b[0mtrain\u001b[0m\u001b[0;34m]\u001b[0m\u001b[0;34m,\u001b[0m \u001b[0mYO\u001b[0m\u001b[0;34m[\u001b[0m\u001b[0mtest\u001b[0m\u001b[0;34m]\u001b[0m\u001b[0;34m\u001b[0m\u001b[0m\n\u001b[1;32m      7\u001b[0m     \u001b[0mclf\u001b[0m \u001b[0;34m=\u001b[0m \u001b[0mLinearSVC\u001b[0m\u001b[0;34m(\u001b[0m\u001b[0mmulti_class\u001b[0m\u001b[0;34m=\u001b[0m\u001b[0;34m'crammer_singer'\u001b[0m\u001b[0;34m)\u001b[0m\u001b[0;34m\u001b[0m\u001b[0m\n\u001b[0;32m----> 8\u001b[0;31m     \u001b[0mclf\u001b[0m \u001b[0;34m=\u001b[0m \u001b[0mclf\u001b[0m\u001b[0;34m.\u001b[0m\u001b[0mfit\u001b[0m\u001b[0;34m(\u001b[0m\u001b[0mXTrain\u001b[0m\u001b[0;34m,\u001b[0m \u001b[0mYTrain\u001b[0m\u001b[0;34m)\u001b[0m\u001b[0;34m\u001b[0m\u001b[0m\n\u001b[0m\u001b[1;32m      9\u001b[0m     \u001b[0mYPred\u001b[0m \u001b[0;34m=\u001b[0m \u001b[0mclf\u001b[0m\u001b[0;34m.\u001b[0m\u001b[0mpredict\u001b[0m\u001b[0;34m(\u001b[0m\u001b[0mXTest\u001b[0m\u001b[0;34m)\u001b[0m\u001b[0;34m\u001b[0m\u001b[0m\n\u001b[1;32m     10\u001b[0m \u001b[0;31m#     print(YPred.shape)\u001b[0m\u001b[0;34m\u001b[0m\u001b[0;34m\u001b[0m\u001b[0m\n",
      "\u001b[0;32m~/virtual_envs/activity_detection/lib/python3.5/site-packages/sklearn/svm/classes.py\u001b[0m in \u001b[0;36mfit\u001b[0;34m(self, X, y, sample_weight)\u001b[0m\n\u001b[1;32m    205\u001b[0m \u001b[0;34m\u001b[0m\u001b[0m\n\u001b[1;32m    206\u001b[0m         X, y = check_X_y(X, y, accept_sparse='csr',\n\u001b[0;32m--> 207\u001b[0;31m                          dtype=np.float64, order=\"C\")\n\u001b[0m\u001b[1;32m    208\u001b[0m         \u001b[0mcheck_classification_targets\u001b[0m\u001b[0;34m(\u001b[0m\u001b[0my\u001b[0m\u001b[0;34m)\u001b[0m\u001b[0;34m\u001b[0m\u001b[0m\n\u001b[1;32m    209\u001b[0m         \u001b[0mself\u001b[0m\u001b[0;34m.\u001b[0m\u001b[0mclasses_\u001b[0m \u001b[0;34m=\u001b[0m \u001b[0mnp\u001b[0m\u001b[0;34m.\u001b[0m\u001b[0munique\u001b[0m\u001b[0;34m(\u001b[0m\u001b[0my\u001b[0m\u001b[0;34m)\u001b[0m\u001b[0;34m\u001b[0m\u001b[0m\n",
      "\u001b[0;32m~/virtual_envs/activity_detection/lib/python3.5/site-packages/sklearn/utils/validation.py\u001b[0m in \u001b[0;36mcheck_X_y\u001b[0;34m(X, y, accept_sparse, dtype, order, copy, force_all_finite, ensure_2d, allow_nd, multi_output, ensure_min_samples, ensure_min_features, y_numeric, warn_on_dtype, estimator)\u001b[0m\n\u001b[1;32m    524\u001b[0m                         dtype=None)\n\u001b[1;32m    525\u001b[0m     \u001b[0;32melse\u001b[0m\u001b[0;34m:\u001b[0m\u001b[0;34m\u001b[0m\u001b[0m\n\u001b[0;32m--> 526\u001b[0;31m         \u001b[0my\u001b[0m \u001b[0;34m=\u001b[0m \u001b[0mcolumn_or_1d\u001b[0m\u001b[0;34m(\u001b[0m\u001b[0my\u001b[0m\u001b[0;34m,\u001b[0m \u001b[0mwarn\u001b[0m\u001b[0;34m=\u001b[0m\u001b[0;32mTrue\u001b[0m\u001b[0;34m)\u001b[0m\u001b[0;34m\u001b[0m\u001b[0m\n\u001b[0m\u001b[1;32m    527\u001b[0m         \u001b[0m_assert_all_finite\u001b[0m\u001b[0;34m(\u001b[0m\u001b[0my\u001b[0m\u001b[0;34m)\u001b[0m\u001b[0;34m\u001b[0m\u001b[0m\n\u001b[1;32m    528\u001b[0m     \u001b[0;32mif\u001b[0m \u001b[0my_numeric\u001b[0m \u001b[0;32mand\u001b[0m \u001b[0my\u001b[0m\u001b[0;34m.\u001b[0m\u001b[0mdtype\u001b[0m\u001b[0;34m.\u001b[0m\u001b[0mkind\u001b[0m \u001b[0;34m==\u001b[0m \u001b[0;34m'O'\u001b[0m\u001b[0;34m:\u001b[0m\u001b[0;34m\u001b[0m\u001b[0m\n",
      "\u001b[0;32m~/virtual_envs/activity_detection/lib/python3.5/site-packages/sklearn/utils/validation.py\u001b[0m in \u001b[0;36mcolumn_or_1d\u001b[0;34m(y, warn)\u001b[0m\n\u001b[1;32m    560\u001b[0m         \u001b[0;32mreturn\u001b[0m \u001b[0mnp\u001b[0m\u001b[0;34m.\u001b[0m\u001b[0mravel\u001b[0m\u001b[0;34m(\u001b[0m\u001b[0my\u001b[0m\u001b[0;34m)\u001b[0m\u001b[0;34m\u001b[0m\u001b[0m\n\u001b[1;32m    561\u001b[0m \u001b[0;34m\u001b[0m\u001b[0m\n\u001b[0;32m--> 562\u001b[0;31m     \u001b[0;32mraise\u001b[0m \u001b[0mValueError\u001b[0m\u001b[0;34m(\u001b[0m\u001b[0;34m\"bad input shape {0}\"\u001b[0m\u001b[0;34m.\u001b[0m\u001b[0mformat\u001b[0m\u001b[0;34m(\u001b[0m\u001b[0mshape\u001b[0m\u001b[0;34m)\u001b[0m\u001b[0;34m)\u001b[0m\u001b[0;34m\u001b[0m\u001b[0m\n\u001b[0m\u001b[1;32m    563\u001b[0m \u001b[0;34m\u001b[0m\u001b[0m\n\u001b[1;32m    564\u001b[0m \u001b[0;34m\u001b[0m\u001b[0m\n",
      "\u001b[0;31mValueError\u001b[0m: bad input shape (169, 2)"
     ]
    }
   ],
   "source": [
    "from sklearn.svm import LinearSVC\n",
    "kf = KFold(n_splits=5)\n",
    "# print(list(kf.split(X)))\n",
    "# print(list(kf.split(Y)))\n",
    "for train, test in kf.split(X):\n",
    "    XTrain, XTest, YTrain, YTest = X[train], X[test], YO[train], YO[test]\n",
    "    clf = LinearSVC(multi_class='crammer_singer')\n",
    "    clf = clf.fit(XTrain, YTrain)\n",
    "    YPred = clf.predict(XTest)\n",
    "#     print(YPred.shape)\n",
    "    diff = YPred - YTest\n",
    "#     print(diff.shape)\n",
    "#     print(diff)\n",
    "    score = diff[diff == 0].size\n",
    "    print(score, YPred.size)\n",
    "    print((100.0 * score)/(YPred.size))"
   ]
  }
 ],
 "metadata": {
  "kernelspec": {
   "display_name": "Python 3",
   "language": "python",
   "name": "python3"
  },
  "language_info": {
   "codemirror_mode": {
    "name": "ipython",
    "version": 3
   },
   "file_extension": ".py",
   "mimetype": "text/x-python",
   "name": "python",
   "nbconvert_exporter": "python",
   "pygments_lexer": "ipython3",
   "version": "3.5.3"
  }
 },
 "nbformat": 4,
 "nbformat_minor": 2
}
