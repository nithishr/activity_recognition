{
 "cells": [
  {
   "cell_type": "code",
   "execution_count": 1,
   "metadata": {
    "collapsed": true
   },
   "outputs": [],
   "source": [
    "from utils_processing.utils import *\n",
    "import matplotlib.pyplot as plt\n",
    "%matplotlib inline\n",
    "from itertools import combinations"
   ]
  },
  {
   "cell_type": "code",
   "execution_count": 2,
   "metadata": {
    "collapsed": true
   },
   "outputs": [],
   "source": [
    "walking_files = ['Activity-Data/Samsung/Walk/Walk_N2/Walk_N2Pressure.csv', 'Activity-Data/Samsung/Walk/Walk_N_3/Walk_N_3Pressure.csv', \n",
    "                 'Activity-Data/Samsung/Walk/Walk_N/Walk_NPressure.csv', 'Activity-Data/Samsung/Walk/Walk_P1/Walk_P1Pressure.csv',\n",
    "                 'Activity-Data/Samsung/Walk/Walk_P2/Walk_P2Pressure.csv']"
   ]
  },
  {
   "cell_type": "code",
   "execution_count": 3,
   "metadata": {
    "collapsed": true
   },
   "outputs": [],
   "source": [
    "climbing_files = ['Activity-Data/Samsung/Climbing_Up/Climb_Up_1/Climb_Up_1Pressure.csv', 'Activity-Data/Samsung/Climbing_Up/Climb_Up_2/Climb_Up_2Pressure.csv',    \n",
    "                 'Activity-Data/Samsung/Climbing_Up/Climb_Up_3/Climb_Up_3Pressure.csv', 'Activity-Data/Samsung/Climbing_Up/Climb_Up_4/Climb_Up_4Pressure.csv',    \n",
    "                 'Activity-Data/Samsung/Climbing_Up/Climb_Up_4/Climb_Up_4Pressure.csv', 'Activity-Data/Samsung/Climbing_Up/Climb_Up_6/Climb_Up_6Pressure.csv',\n",
    "                 'Activity-Data/Samsung/Climbing_Up/Climb_Up_7/Climb_Up_7Pressure.csv', 'Activity-Data/Samsung/Climbing_Up/Climb_Up_8/Climb_Up_8Pressure.csv']"
   ]
  },
  {
   "cell_type": "code",
   "execution_count": 4,
   "metadata": {
    "collapsed": true
   },
   "outputs": [],
   "source": [
    "downstairs_files = ['Activity-Data/Samsung/Climbing_Down/Climb_Down_1/Climb_Down_1Pressure.csv', 'Activity-Data/Samsung/Climbing_Down/Climb_Down_2/Climb_Down_2Pressure.csv',    \n",
    "                    'Activity-Data/Samsung/Climbing_Down/Climb_Down_3/Climb_Down_3Pressure.csv', 'Activity-Data/Samsung/Climbing_Down/Climb_Down_6/Climb_Down_6Pressure.csv',\n",
    "                    'Activity-Data/Samsung/Climbing_Down/Climb_Down_8/Climb_Down_8Pressure.csv', 'Activity-Data/Samsung/Climbing_Down/Climb_Down_9/Climb_Down_9Pressure.csv']"
   ]
  },
  {
   "cell_type": "code",
   "execution_count": 5,
   "metadata": {},
   "outputs": [
    {
     "data": {
      "text/html": [
       "<div>\n",
       "<style>\n",
       "    .dataframe thead tr:only-child th {\n",
       "        text-align: right;\n",
       "    }\n",
       "\n",
       "    .dataframe thead th {\n",
       "        text-align: left;\n",
       "    }\n",
       "\n",
       "    .dataframe tbody tr th {\n",
       "        vertical-align: top;\n",
       "    }\n",
       "</style>\n",
       "<table border=\"1\" class=\"dataframe\">\n",
       "  <thead>\n",
       "    <tr style=\"text-align: right;\">\n",
       "      <th></th>\n",
       "      <th>timestamp</th>\n",
       "      <th>pressure</th>\n",
       "      <th>UUID</th>\n",
       "    </tr>\n",
       "  </thead>\n",
       "  <tbody>\n",
       "    <tr>\n",
       "      <th>0</th>\n",
       "      <td>1511792456293</td>\n",
       "      <td>963.100830</td>\n",
       "      <td>80ec3f676e17debf</td>\n",
       "    </tr>\n",
       "    <tr>\n",
       "      <th>1</th>\n",
       "      <td>1511792570567</td>\n",
       "      <td>963.165527</td>\n",
       "      <td>80ec3f676e17debf</td>\n",
       "    </tr>\n",
       "    <tr>\n",
       "      <th>2</th>\n",
       "      <td>1511792570742</td>\n",
       "      <td>963.188232</td>\n",
       "      <td>80ec3f676e17debf</td>\n",
       "    </tr>\n",
       "    <tr>\n",
       "      <th>3</th>\n",
       "      <td>1511792570938</td>\n",
       "      <td>963.224121</td>\n",
       "      <td>80ec3f676e17debf</td>\n",
       "    </tr>\n",
       "    <tr>\n",
       "      <th>4</th>\n",
       "      <td>1511792571101</td>\n",
       "      <td>963.251953</td>\n",
       "      <td>80ec3f676e17debf</td>\n",
       "    </tr>\n",
       "  </tbody>\n",
       "</table>\n",
       "</div>"
      ],
      "text/plain": [
       "       timestamp    pressure             UUID \n",
       "0  1511792456293  963.100830  80ec3f676e17debf\n",
       "1  1511792570567  963.165527  80ec3f676e17debf\n",
       "2  1511792570742  963.188232  80ec3f676e17debf\n",
       "3  1511792570938  963.224121  80ec3f676e17debf\n",
       "4  1511792571101  963.251953  80ec3f676e17debf"
      ]
     },
     "execution_count": 5,
     "metadata": {},
     "output_type": "execute_result"
    }
   ],
   "source": [
    "walking_frame = read_concatenate_files(walking_files, usecols=[0,1,2])\n",
    "walking_frame.head()"
   ]
  },
  {
   "cell_type": "code",
   "execution_count": 6,
   "metadata": {},
   "outputs": [
    {
     "data": {
      "text/html": [
       "<div>\n",
       "<style>\n",
       "    .dataframe thead tr:only-child th {\n",
       "        text-align: right;\n",
       "    }\n",
       "\n",
       "    .dataframe thead th {\n",
       "        text-align: left;\n",
       "    }\n",
       "\n",
       "    .dataframe tbody tr th {\n",
       "        vertical-align: top;\n",
       "    }\n",
       "</style>\n",
       "<table border=\"1\" class=\"dataframe\">\n",
       "  <thead>\n",
       "    <tr style=\"text-align: right;\">\n",
       "      <th></th>\n",
       "      <th>timestamp</th>\n",
       "      <th>pressure</th>\n",
       "      <th>UUID</th>\n",
       "    </tr>\n",
       "  </thead>\n",
       "  <tbody>\n",
       "    <tr>\n",
       "      <th>0</th>\n",
       "      <td>1511793556917</td>\n",
       "      <td>963.046631</td>\n",
       "      <td>80ec3f676e17debf</td>\n",
       "    </tr>\n",
       "    <tr>\n",
       "      <th>1</th>\n",
       "      <td>1511794106361</td>\n",
       "      <td>963.146729</td>\n",
       "      <td>80ec3f676e17debf</td>\n",
       "    </tr>\n",
       "    <tr>\n",
       "      <th>2</th>\n",
       "      <td>1511794106722</td>\n",
       "      <td>963.150879</td>\n",
       "      <td>80ec3f676e17debf</td>\n",
       "    </tr>\n",
       "    <tr>\n",
       "      <th>3</th>\n",
       "      <td>1511794106903</td>\n",
       "      <td>963.150391</td>\n",
       "      <td>80ec3f676e17debf</td>\n",
       "    </tr>\n",
       "    <tr>\n",
       "      <th>4</th>\n",
       "      <td>1511794107086</td>\n",
       "      <td>963.163818</td>\n",
       "      <td>80ec3f676e17debf</td>\n",
       "    </tr>\n",
       "  </tbody>\n",
       "</table>\n",
       "</div>"
      ],
      "text/plain": [
       "       timestamp    pressure             UUID \n",
       "0  1511793556917  963.046631  80ec3f676e17debf\n",
       "1  1511794106361  963.146729  80ec3f676e17debf\n",
       "2  1511794106722  963.150879  80ec3f676e17debf\n",
       "3  1511794106903  963.150391  80ec3f676e17debf\n",
       "4  1511794107086  963.163818  80ec3f676e17debf"
      ]
     },
     "execution_count": 6,
     "metadata": {},
     "output_type": "execute_result"
    }
   ],
   "source": [
    "climbing_frame = read_concatenate_files(climbing_files + downstairs_files, usecols=[0,1,2])\n",
    "climbing_frame.head()"
   ]
  },
  {
   "cell_type": "code",
   "execution_count": 49,
   "metadata": {},
   "outputs": [
    {
     "name": "stdout",
     "output_type": "stream",
     "text": [
      "23 23\n",
      "22 22\n"
     ]
    }
   ],
   "source": [
    "w_windows, w_ts_windows = create_sliding_windows_by_time(walking_frame, 1, 7500)\n",
    "c_windows, c_ts_windows = create_sliding_windows_by_time(climbing_frame, 1, 7500)\n",
    "print(len(w_windows), len(w_ts_windows))\n",
    "print(len(c_windows), len(c_ts_windows))"
   ]
  },
  {
   "cell_type": "code",
   "execution_count": 31,
   "metadata": {},
   "outputs": [
    {
     "name": "stdout",
     "output_type": "stream",
     "text": [
      "783 1505\n"
     ]
    }
   ],
   "source": [
    "print(len(climbing_frame), len(walking_frame))"
   ]
  },
  {
   "cell_type": "code",
   "execution_count": 32,
   "metadata": {},
   "outputs": [
    {
     "name": "stdout",
     "output_type": "stream",
     "text": [
      "[[1511793556917], [1511794106361, 1511794106722, 1511794106903, 1511794107086, 1511794107260, 1511794107441, 1511794107628, 1511794107811, 1511794107985, 1511794108160, 1511794108342, 1511794108527, 1511794108700, 1511794108887, 1511794109060, 1511794109241, 1511794109427, 1511794109600, 1511794109783, 1511794109966, 1511794110140, 1511794110320, 1511794110499, 1511794110499], [1511794129396, 1511794129581, 1511794129770, 1511794129936, 1511794130116, 1511794130296, 1511794130481, 1511794130657, 1511794130838, 1511794131018, 1511794131199, 1511794131378, 1511794131556, 1511794131736, 1511794131918, 1511794132098, 1511794132276, 1511794132459, 1511794132638, 1511794132816, 1511794132997, 1511794133178, 1511794133358, 1511794133535, 1511794133719, 1511794133896, 1511794134081, 1511794134256, 1511794134436, 1511794134656, 1511794134799, 1511794134981, 1511794135162, 1511794135338, 1511794135521, 1511794135696, 1511794135876, 1511794136057, 1511794136236, 1511794136421, 1511794136597, 1511794136777, 1511794136959, 1511794137143, 1511794137335, 1511794137497, 1511794137676, 1511794137856, 1511794138038, 1511794138217, 1511794138401, 1511794138577, 1511794138758, 1511794138936, 1511794139117, 1511794139296], [1511794139479, 1511794139657, 1511794139837, 1511794140021, 1511794140197, 1511794140197], [1511794168216, 1511794168401, 1511794168584, 1511794168761, 1511794168941, 1511794169121, 1511794169300, 1511794169475, 1511794169661, 1511794169839, 1511794170022, 1511794170196, 1511794170378, 1511794170557, 1511794170739, 1511794170916, 1511794171096, 1511794171276, 1511794171456, 1511794171636, 1511794171816, 1511794171997, 1511794172184, 1511794172358, 1511794172535, 1511794172717, 1511794172897, 1511794173076, 1511794173257, 1511794173437, 1511794173619, 1511794173796, 1511794173984, 1511794174156, 1511794174336, 1511794174517, 1511794174696, 1511794174878, 1511794175060, 1511794175237, 1511794175417, 1511794175596], [1511794202083, 1511794202257, 1511794202437, 1511794202620, 1511794202797, 1511794202984, 1511794203161, 1511794203373, 1511794203517, 1511794203698, 1511794203879, 1511794204058, 1511794204242, 1511794204417, 1511794204598, 1511794204781, 1511794204958, 1511794205138, 1511794205319, 1511794205497, 1511794205677, 1511794205858, 1511794206043, 1511794206219, 1511794206398, 1511794206579, 1511794206759, 1511794206937, 1511794207118, 1511794207297, 1511794207479, 1511794207659, 1511794207838, 1511794208017, 1511794208197, 1511794208378, 1511794208558, 1511794208737, 1511794208924, 1511794209098, 1511794209278, 1511794209457, 1511794209638, 1511794209818, 1511794210001, 1511794175596, 1511794202083, 1511794202257, 1511794202437, 1511794202620, 1511794202797, 1511794202984, 1511794203161, 1511794203373, 1511794203517, 1511794203698, 1511794203879, 1511794204058, 1511794204242, 1511794204417, 1511794204598, 1511794204781, 1511794204958, 1511794205138, 1511794205319, 1511794205497, 1511794205677, 1511794205858, 1511794206043, 1511794206219, 1511794206398, 1511794206579, 1511794206759, 1511794206937, 1511794207118, 1511794207297, 1511794207479, 1511794207659, 1511794207838, 1511794208017, 1511794208197, 1511794208378, 1511794208558, 1511794208737, 1511794208924, 1511794209098, 1511794209278, 1511794209457, 1511794209638, 1511794209818, 1511794210001], [1511794357833], [1511795071503, 1511795071689, 1511795071882, 1511795072038, 1511795072218, 1511795072404, 1511795072578, 1511795072794, 1511795072938, 1511795073119, 1511795073298, 1511795073479, 1511795073660, 1511795073842, 1511795074018, 1511795074198, 1511795074378, 1511795074558, 1511795074737, 1511795074918, 1511795075098, 1511795075279, 1511795075458, 1511795075638, 1511795075817, 1511795075998, 1511795076178, 1511795076361, 1511795076538, 1511795076721, 1511795076898, 1511795077078, 1511795077259, 1511795077437, 1511795077623, 1511795077799, 1511795077978, 1511795078160, 1511795078338, 1511795078518, 1511795078698, 1511795078878, 1511795079058, 1511795079240, 1511795079418, 1511795079599, 1511795079779, 1511795079957, 1511795080139, 1511795080318, 1511795080499, 1511795080678, 1511795080859, 1511795081038, 1511795081222, 1511795081406], [1511795081578, 1511795081758, 1511795081940, 1511795082118, 1511795082298, 1511795082479, 1511795082666, 1511795082838, 1511795083018, 1511795083198, 1511795083379, 1511795083569, 1511795083737, 1511795083920, 1511795084100, 1511795084278, 1511795084458, 1511795084638, 1511795084818, 1511795084998, 1511795085178, 1511795085361, 1511795085546, 1511795085718, 1511795085900, 1511795086078, 1511795086258, 1511795086439, 1511795086623, 1511795086799, 1511795086979, 1511795087159, 1511795087341, 1511795087519, 1511795087703, 1511795087879, 1511795088059, 1511795088239, 1511795088420, 1511795088598, 1511795088777], [1511795115509, 1511795115658, 1511795115869, 1511795116017, 1511795116198, 1511795116378, 1511795116632, 1511795116740, 1511795116919, 1511795117102, 1511795117279, 1511795117457, 1511795117637, 1511795117817, 1511795117998, 1511795118180, 1511795118363, 1511795118537, 1511795118717, 1511795118898, 1511795119077, 1511795119259, 1511795119443, 1511795119621, 1511795119800, 1511795119978, 1511795120158, 1511795120338, 1511795120517, 1511795120701, 1511795120878, 1511795121058, 1511795121239, 1511795121418, 1511795121599, 1511795121781, 1511795121959, 1511795122137, 1511795122318, 1511795122499, 1511795122678, 1511795122859, 1511795123038, 1511795123217, 1511795123397, 1511795123578, 1511795123758], [1511795146196, 1511795146398, 1511795146554, 1511795146735, 1511795146921, 1511795147094, 1511795147275, 1511795147461, 1511795147636, 1511795147815, 1511795147996, 1511795148175, 1511795148357, 1511795148535, 1511795148717, 1511795148895, 1511795149076, 1511795149257, 1511795149435, 1511795149615, 1511795149795, 1511795149975, 1511795150155, 1511795150335, 1511795150517, 1511795150696, 1511795150878, 1511795151055, 1511795151235, 1511795151415, 1511795151600, 1511795151775, 1511795151956, 1511795152137, 1511795152328, 1511795152496, 1511795152675, 1511795152855, 1511795153035, 1511795153218, 1511795153396, 1511795153576, 1511795153756, 1511795153938, 1511795154115, 1511795154301, 1511795154475, 1511795154655, 1511795154835, 1511795155019, 1511795155196, 1511795155383, 1511795155556, 1511795155736, 1511795155916, 1511795156096], [1511795156275, 1511795156457, 1511795156637, 1511795156816, 1511795156996, 1511795157175, 1511795157356, 1511795157535, 1511795157718, 1511795157899, 1511795158079, 1511795158255, 1511795158440, 1511794210001, 1511794291387, 1511794291567, 1511794291750, 1511794291938, 1511794292110, 1511794292291, 1511794292468, 1511794292668, 1511794292827, 1511794293006, 1511794293187, 1511794293367, 1511794293555, 1511794293727, 1511794293908, 1511794294087, 1511794294267, 1511794294448, 1511794294628, 1511794294807, 1511794294987, 1511794295169, 1511794295351, 1511794295527, 1511794295707, 1511794295890, 1511794296066, 1511794296247, 1511794296428, 1511794296608, 1511794296792, 1511794296967, 1511794297148, 1511794297327, 1511794297508, 1511794297688, 1511794297868, 1511794298053, 1511794298231, 1511794298414, 1511794298587, 1511794298767, 1511794298947, 1511794299129, 1511794299307, 1511794299488, 1511794299674, 1511794299849, 1511794300027, 1511794300208, 1511794300387, 1511794300568, 1511794300748, 1511794300931, 1511794301106, 1511794319350, 1511794319532, 1511794319710, 1511794319895, 1511794320074, 1511794320250, 1511794320434, 1511794320608, 1511794320788, 1511794320970, 1511794321172, 1511794321330, 1511794321514, 1511794321696, 1511794321868, 1511794322049, 1511794322232, 1511794322409, 1511794322588, 1511794322768, 1511794322948, 1511794323129, 1511794323308, 1511794323488, 1511794323669, 1511794323848, 1511794324029, 1511794324212, 1511794324390, 1511794324578, 1511794324750, 1511794324928, 1511794325116, 1511794325288, 1511794325469, 1511794325648, 1511794325830, 1511794326010, 1511794326189, 1511794326369, 1511794326554, 1511794326729, 1511794326909, 1511794327095, 1511794327269, 1511794327449, 1511794327629, 1511794327813, 1511794327989, 1511794328168, 1511794328350, 1511794328529, 1511794328708, 1511794329068, 1511794329250, 1511794329431, 1511794329608, 1511794329788, 1511794329968, 1511794330149, 1511794330328, 1511794330508, 1511794344515, 1511794344694, 1511794344874, 1511794345075, 1511794345262, 1511794345415, 1511794345596, 1511794345773, 1511794345953, 1511794346133, 1511794346312, 1511794346493, 1511794346673, 1511794346852, 1511794347036, 1511794347217, 1511794347393, 1511794347573, 1511794347753, 1511794347934, 1511794348113, 1511794348295, 1511794348473, 1511794348655, 1511794348833, 1511794349013, 1511794349208, 1511794349373, 1511794349553, 1511794349733, 1511794349916, 1511794350093, 1511794350277, 1511794350454, 1511794350636, 1511794350815, 1511794350993, 1511794351173, 1511794351355, 1511794351535, 1511794351718, 1511794351893, 1511794352073, 1511794352253, 1511794352434, 1511794352614, 1511794352798, 1511794352975, 1511794353154, 1511794353334, 1511794353513, 1511794353694, 1511794353873, 1511794354054, 1511794354232, 1511794354416, 1511794354594, 1511794354775, 1511794354953, 1511794355133, 1511794355316, 1511794355493, 1511794355673, 1511794355854, 1511794356034, 1511794356214, 1511794356393, 1511794356573, 1511794356755, 1511794356934, 1511794357117, 1511794357299, 1511794357474, 1511794357654], [1511795242695], [1511795269367, 1511795269546, 1511795269733, 1511795269910, 1511795270087, 1511795270268, 1511795270448, 1511795270650, 1511795270807, 1511795270987, 1511795271167, 1511795271347, 1511795271526, 1511795271708, 1511795271893, 1511795272068, 1511795272247, 1511795272428, 1511795272608, 1511795272787, 1511795272967, 1511795273147, 1511795273327, 1511795273507, 1511795273686, 1511795273866, 1511795274047, 1511795274229, 1511795274407, 1511795274592, 1511795274769, 1511795274947, 1511795275129, 1511795275309, 1511795275487, 1511795275667, 1511795275847, 1511795276027, 1511795276207, 1511795276388, 1511795276569, 1511795276747, 1511795276927, 1511795277107, 1511795277287, 1511795277467, 1511795277647, 1511795277829, 1511795278008, 1511795278189, 1511795278367, 1511795278547, 1511795278547], [1511795302602, 1511795302796, 1511795302962, 1511795303143, 1511795303325, 1511795303516, 1511795303684, 1511795303860, 1511795304040, 1511795304225, 1511795304401, 1511795304581, 1511795304760, 1511795304943, 1511795305133, 1511795305301, 1511795305481, 1511795305667, 1511795305850, 1511795306021, 1511795306205, 1511795306380, 1511795306565, 1511795306744, 1511795306921, 1511795307100, 1511795307281, 1511795307460, 1511795307640, 1511795307825, 1511795308000, 1511795308181, 1511795308362, 1511795308542, 1511795308721, 1511795308900, 1511795309080, 1511795309260, 1511795309442, 1511795309623, 1511795309801, 1511795309983, 1511795310160, 1511795310343, 1511795310521, 1511795310702, 1511795310881, 1511795311061, 1511795311244, 1511795311426, 1511795311603, 1511795311781, 1511795311960, 1511795312140, 1511795312322, 1511795312500], [1511795312680, 1511795312863, 1511795313041, 1511795313220, 1511795313220], [1511795329498, 1511795329677, 1511795330036, 1511795330222, 1511795330399, 1511795330577, 1511795330756, 1511795330947, 1511795331116, 1511795331298, 1511795331483, 1511795331655, 1511795331839, 1511795332016, 1511795332199, 1511795332380, 1511795332557, 1511795332737, 1511795332920, 1511795333096, 1511795333276, 1511795333456, 1511795333641, 1511795333816, 1511795334008, 1511795334177, 1511795334357, 1511795334538, 1511795334716, 1511795334898, 1511795335084, 1511795335262, 1511795335435, 1511795335615, 1511795335796, 1511795335977, 1511795336156, 1511795336344, 1511795336519, 1511795336699, 1511795336881, 1511795337057]]\n"
     ]
    }
   ],
   "source": [
    "print([i for i in c_ts_windows])"
   ]
  },
  {
   "cell_type": "code",
   "execution_count": 50,
   "metadata": {},
   "outputs": [
    {
     "name": "stdout",
     "output_type": "stream",
     "text": [
      "        timestamp    pressure             UUID   label\n",
      "38  1511795336344  962.557129  80ec3f676e17debf      1\n",
      "39  1511795336519  962.565918  80ec3f676e17debf      1\n",
      "40  1511795336699  962.569092  80ec3f676e17debf      1\n",
      "41  1511795336881  962.568848  80ec3f676e17debf      1\n",
      "42  1511795337057  962.571777  80ec3f676e17debf      1\n",
      "         timestamp    pressure             UUID   label\n",
      "409  1511795440689  962.785889  80ec3f676e17debf      0\n",
      "410  1511795440866  962.779297  80ec3f676e17debf      0\n",
      "411  1511795441049  962.778809  80ec3f676e17debf      0\n",
      "412  1511795441228  962.773193  80ec3f676e17debf      0\n",
      "413  1511795441405  962.750244  80ec3f676e17debf      0\n"
     ]
    }
   ],
   "source": [
    "walking_frame['label'] = 0\n",
    "climbing_frame['label'] = 1\n",
    "print(climbing_frame.tail())\n",
    "print(walking_frame.tail())"
   ]
  },
  {
   "cell_type": "code",
   "execution_count": 51,
   "metadata": {
    "collapsed": true
   },
   "outputs": [],
   "source": [
    "w_iqr = compute_inter_quartile_distance_window(w_windows)\n",
    "c_iqr = compute_inter_quartile_distance_window(c_windows)"
   ]
  },
  {
   "cell_type": "code",
   "execution_count": 52,
   "metadata": {
    "collapsed": true
   },
   "outputs": [],
   "source": [
    "w_std = compute_std_deviation_window(w_windows)\n",
    "c_std = compute_std_deviation_window(c_windows)"
   ]
  },
  {
   "cell_type": "code",
   "execution_count": 53,
   "metadata": {},
   "outputs": [
    {
     "name": "stderr",
     "output_type": "stream",
     "text": [
      "/home/nithishr/virtual-envs/activity_recognition/lib/python3.5/site-packages/numpy/lib/function_base.py:1768: RuntimeWarning: divide by zero encountered in true_divide\n",
      "  b = (dx2 - dx1) / (dx1 * dx2)\n",
      "/home/nithishr/virtual-envs/activity_recognition/lib/python3.5/site-packages/numpy/lib/function_base.py:1769: RuntimeWarning: divide by zero encountered in true_divide\n",
      "  c = dx1 / (dx2 * (dx1 + dx2))\n",
      "/home/nithishr/virtual-envs/activity_recognition/lib/python3.5/site-packages/numpy/lib/function_base.py:1775: RuntimeWarning: invalid value encountered in add\n",
      "  out[slice1] = a * f[slice2] + b * f[slice3] + c * f[slice4]\n",
      "/home/nithishr/virtual-envs/activity_recognition/lib/python3.5/site-packages/numpy/lib/function_base.py:1791: RuntimeWarning: invalid value encountered in true_divide\n",
      "  out[slice1] = (y[slice2] - y[slice3]) / dx_n\n"
     ]
    }
   ],
   "source": [
    "w_derivative = compute_sum_derivative_window(w_windows, w_ts_windows)\n",
    "c_derivative = compute_sum_derivative_window(c_windows, c_ts_windows)"
   ]
  },
  {
   "cell_type": "code",
   "execution_count": 54,
   "metadata": {
    "collapsed": true
   },
   "outputs": [],
   "source": [
    "c_derivative = np.nan_to_num(c_derivative)"
   ]
  },
  {
   "cell_type": "code",
   "execution_count": 55,
   "metadata": {},
   "outputs": [
    {
     "name": "stdout",
     "output_type": "stream",
     "text": [
      "[0.00029711003710627937, -0.00043243517140613506, 0.0001317626854591786, 0.00037977703111676122, -0.00015729517550134518, -0.00063078160610320708, -5.3645830156346638e-05, 0.0002378279090722241, -0.00030440212096586217, -0.0022940352155549327, -0.00022792349379659334, -0.00012888652492690968, -0.00017003811059560474, 0.00016037608382251341, 0.00054769452021062148, -0.0001445181619253925, 0.00019338515167856453, -0.00062184327168312388, 0.0002871905549961436, 3.0737300928604546e-05] [  0.00000000e+00  -1.69233372e-03   0.00000000e+00  -2.46923273e-03\n",
      "  -2.09065898e-03  -2.08039317e-03  -2.08390948e-03  -1.35131656e-03\n",
      "  -4.62732241e-04  -2.60368352e-03   6.14112496e-05  -1.22965956e-03\n",
      "   4.64234418e-03   1.22123950e-03   0.00000000e+00   6.54162375e-04\n",
      "   0.00000000e+00   1.97491039e-03]\n"
     ]
    }
   ],
   "source": [
    "print(w_derivative, c_derivative)"
   ]
  },
  {
   "cell_type": "code",
   "execution_count": 56,
   "metadata": {},
   "outputs": [
    {
     "name": "stdout",
     "output_type": "stream",
     "text": [
      "20 18 20 18 20 18\n"
     ]
    }
   ],
   "source": [
    "print(len(w_iqr),len(c_iqr), len(w_std), len(c_std), len(w_derivative), len(c_derivative))"
   ]
  },
  {
   "cell_type": "code",
   "execution_count": 17,
   "metadata": {},
   "outputs": [
    {
     "name": "stdout",
     "output_type": "stream",
     "text": [
      "<class 'numpy.float64'> <class 'numpy.float64'> <class 'numpy.float64'>\n"
     ]
    }
   ],
   "source": [
    "print(type(w_derivative[0]), type(w_std[1]), type(w_iqr[2]))"
   ]
  },
  {
   "cell_type": "code",
   "execution_count": 18,
   "metadata": {
    "collapsed": true
   },
   "outputs": [],
   "source": [
    "import numpy as np\n",
    "from sklearn.model_selection import StratifiedKFold\n",
    "from sklearn.ensemble import RandomForestClassifier\n",
    "from sklearn.model_selection import train_test_split\n",
    "from sklearn.model_selection import KFold\n",
    "from sklearn.preprocessing import OneHotEncoder"
   ]
  },
  {
   "cell_type": "code",
   "execution_count": 57,
   "metadata": {},
   "outputs": [
    {
     "name": "stdout",
     "output_type": "stream",
     "text": [
      "<class 'numpy.ndarray'> 20 (20, 3)\n"
     ]
    }
   ],
   "source": [
    "w_feature_vector = np.column_stack((np.array(w_std).reshape(-1, 1), np.array(w_derivative).reshape(-1, 1), \n",
    "                                   np.array(w_iqr).reshape(-1, 1)))\n",
    "print(type(w_feature_vector), len(w_feature_vector), w_feature_vector.shape)"
   ]
  },
  {
   "cell_type": "code",
   "execution_count": 58,
   "metadata": {},
   "outputs": [
    {
     "name": "stdout",
     "output_type": "stream",
     "text": [
      "<class 'numpy.ndarray'> 18 (18, 3)\n"
     ]
    }
   ],
   "source": [
    "c_feature_vector = np.column_stack((np.array(c_std).reshape(-1, 1), np.array(c_derivative).reshape(-1, 1), \n",
    "                                   np.array(c_iqr).reshape(-1, 1)))\n",
    "print(type(c_feature_vector), len(c_feature_vector), c_feature_vector.shape)"
   ]
  },
  {
   "cell_type": "code",
   "execution_count": 26,
   "metadata": {},
   "outputs": [
    {
     "ename": "ValueError",
     "evalue": "all input arrays must have the same shape",
     "output_type": "error",
     "traceback": [
      "\u001b[0;31m---------------------------------------------------------------------------\u001b[0m",
      "\u001b[0;31mValueError\u001b[0m                                Traceback (most recent call last)",
      "\u001b[0;32m<ipython-input-26-ee59e9e12139>\u001b[0m in \u001b[0;36m<module>\u001b[0;34m()\u001b[0m\n\u001b[1;32m      1\u001b[0m labels_vector = np.stack((np.array([0 for i in range(len(w_feature_vector))]).reshape(-1,1), \n\u001b[0;32m----> 2\u001b[0;31m                           np.array([1 for i in range(len(c_feature_vector))]).reshape(-1,1)))\n\u001b[0m\u001b[1;32m      3\u001b[0m \u001b[0mprint\u001b[0m\u001b[0;34m(\u001b[0m\u001b[0mtype\u001b[0m\u001b[0;34m(\u001b[0m\u001b[0mlabels_vector\u001b[0m\u001b[0;34m)\u001b[0m\u001b[0;34m,\u001b[0m \u001b[0mlen\u001b[0m\u001b[0;34m(\u001b[0m\u001b[0mlabels_vector\u001b[0m\u001b[0;34m)\u001b[0m\u001b[0;34m,\u001b[0m \u001b[0mlabels_vector\u001b[0m\u001b[0;34m.\u001b[0m\u001b[0mshape\u001b[0m\u001b[0;34m)\u001b[0m\u001b[0;34m\u001b[0m\u001b[0m\n",
      "\u001b[0;32m~/virtual-envs/activity_recognition/lib/python3.5/site-packages/numpy/core/shape_base.py\u001b[0m in \u001b[0;36mstack\u001b[0;34m(arrays, axis)\u001b[0m\n\u001b[1;32m    352\u001b[0m     \u001b[0mshapes\u001b[0m \u001b[0;34m=\u001b[0m \u001b[0mset\u001b[0m\u001b[0;34m(\u001b[0m\u001b[0marr\u001b[0m\u001b[0;34m.\u001b[0m\u001b[0mshape\u001b[0m \u001b[0;32mfor\u001b[0m \u001b[0marr\u001b[0m \u001b[0;32min\u001b[0m \u001b[0marrays\u001b[0m\u001b[0;34m)\u001b[0m\u001b[0;34m\u001b[0m\u001b[0m\n\u001b[1;32m    353\u001b[0m     \u001b[0;32mif\u001b[0m \u001b[0mlen\u001b[0m\u001b[0;34m(\u001b[0m\u001b[0mshapes\u001b[0m\u001b[0;34m)\u001b[0m \u001b[0;34m!=\u001b[0m \u001b[0;36m1\u001b[0m\u001b[0;34m:\u001b[0m\u001b[0;34m\u001b[0m\u001b[0m\n\u001b[0;32m--> 354\u001b[0;31m         \u001b[0;32mraise\u001b[0m \u001b[0mValueError\u001b[0m\u001b[0;34m(\u001b[0m\u001b[0;34m'all input arrays must have the same shape'\u001b[0m\u001b[0;34m)\u001b[0m\u001b[0;34m\u001b[0m\u001b[0m\n\u001b[0m\u001b[1;32m    355\u001b[0m \u001b[0;34m\u001b[0m\u001b[0m\n\u001b[1;32m    356\u001b[0m     \u001b[0mresult_ndim\u001b[0m \u001b[0;34m=\u001b[0m \u001b[0marrays\u001b[0m\u001b[0;34m[\u001b[0m\u001b[0;36m0\u001b[0m\u001b[0;34m]\u001b[0m\u001b[0;34m.\u001b[0m\u001b[0mndim\u001b[0m \u001b[0;34m+\u001b[0m \u001b[0;36m1\u001b[0m\u001b[0;34m\u001b[0m\u001b[0m\n",
      "\u001b[0;31mValueError\u001b[0m: all input arrays must have the same shape"
     ]
    }
   ],
   "source": [
    "# labels_vector = np.stack((np.array([0 for i in range(len(w_feature_vector))]).reshape(-1,1), \n",
    "#                           np.array([1 for i in range(len(c_feature_vector))]).reshape(-1,1)))\n",
    "# print(type(labels_vector), len(labels_vector), labels_vector.shape)"
   ]
  },
  {
   "cell_type": "code",
   "execution_count": 27,
   "metadata": {},
   "outputs": [
    {
     "name": "stdout",
     "output_type": "stream",
     "text": [
      "(37, 1)\n",
      "(49, 1)\n"
     ]
    },
    {
     "ename": "ValueError",
     "evalue": "all input arrays must have the same shape",
     "output_type": "error",
     "traceback": [
      "\u001b[0;31m---------------------------------------------------------------------------\u001b[0m",
      "\u001b[0;31mValueError\u001b[0m                                Traceback (most recent call last)",
      "\u001b[0;32m<ipython-input-27-759f9adb7dcc>\u001b[0m in \u001b[0;36m<module>\u001b[0;34m()\u001b[0m\n\u001b[1;32m      3\u001b[0m \u001b[0mw_labels\u001b[0m \u001b[0;34m=\u001b[0m \u001b[0mnp\u001b[0m\u001b[0;34m.\u001b[0m\u001b[0marray\u001b[0m\u001b[0;34m(\u001b[0m\u001b[0;34m[\u001b[0m\u001b[0;36m0\u001b[0m \u001b[0;32mfor\u001b[0m \u001b[0mi\u001b[0m \u001b[0;32min\u001b[0m \u001b[0mrange\u001b[0m\u001b[0;34m(\u001b[0m\u001b[0mlen\u001b[0m\u001b[0;34m(\u001b[0m\u001b[0mw_feature_vector\u001b[0m\u001b[0;34m)\u001b[0m\u001b[0;34m)\u001b[0m\u001b[0;34m]\u001b[0m\u001b[0;34m)\u001b[0m\u001b[0;34m.\u001b[0m\u001b[0mreshape\u001b[0m\u001b[0;34m(\u001b[0m\u001b[0;34m-\u001b[0m\u001b[0;36m1\u001b[0m\u001b[0;34m,\u001b[0m\u001b[0;36m1\u001b[0m\u001b[0;34m)\u001b[0m\u001b[0;34m\u001b[0m\u001b[0m\n\u001b[1;32m      4\u001b[0m \u001b[0mprint\u001b[0m\u001b[0;34m(\u001b[0m\u001b[0mw_labels\u001b[0m\u001b[0;34m.\u001b[0m\u001b[0mshape\u001b[0m\u001b[0;34m)\u001b[0m\u001b[0;34m\u001b[0m\u001b[0m\n\u001b[0;32m----> 5\u001b[0;31m \u001b[0mlabels_vector\u001b[0m \u001b[0;34m=\u001b[0m \u001b[0mnp\u001b[0m\u001b[0;34m.\u001b[0m\u001b[0mstack\u001b[0m\u001b[0;34m(\u001b[0m\u001b[0;34m(\u001b[0m\u001b[0mw_labels\u001b[0m\u001b[0;34m,\u001b[0m\u001b[0mc_labels\u001b[0m\u001b[0;34m)\u001b[0m\u001b[0;34m)\u001b[0m\u001b[0;34m\u001b[0m\u001b[0m\n\u001b[0m\u001b[1;32m      6\u001b[0m \u001b[0mprint\u001b[0m\u001b[0;34m(\u001b[0m\u001b[0mtype\u001b[0m\u001b[0;34m(\u001b[0m\u001b[0mlabels_vector\u001b[0m\u001b[0;34m)\u001b[0m\u001b[0;34m,\u001b[0m \u001b[0mlen\u001b[0m\u001b[0;34m(\u001b[0m\u001b[0mlabels_vector\u001b[0m\u001b[0;34m)\u001b[0m\u001b[0;34m,\u001b[0m \u001b[0mlabels_vector\u001b[0m\u001b[0;34m.\u001b[0m\u001b[0mshape\u001b[0m\u001b[0;34m)\u001b[0m\u001b[0;34m\u001b[0m\u001b[0m\n",
      "\u001b[0;32m~/virtual-envs/activity_recognition/lib/python3.5/site-packages/numpy/core/shape_base.py\u001b[0m in \u001b[0;36mstack\u001b[0;34m(arrays, axis)\u001b[0m\n\u001b[1;32m    352\u001b[0m     \u001b[0mshapes\u001b[0m \u001b[0;34m=\u001b[0m \u001b[0mset\u001b[0m\u001b[0;34m(\u001b[0m\u001b[0marr\u001b[0m\u001b[0;34m.\u001b[0m\u001b[0mshape\u001b[0m \u001b[0;32mfor\u001b[0m \u001b[0marr\u001b[0m \u001b[0;32min\u001b[0m \u001b[0marrays\u001b[0m\u001b[0;34m)\u001b[0m\u001b[0;34m\u001b[0m\u001b[0m\n\u001b[1;32m    353\u001b[0m     \u001b[0;32mif\u001b[0m \u001b[0mlen\u001b[0m\u001b[0;34m(\u001b[0m\u001b[0mshapes\u001b[0m\u001b[0;34m)\u001b[0m \u001b[0;34m!=\u001b[0m \u001b[0;36m1\u001b[0m\u001b[0;34m:\u001b[0m\u001b[0;34m\u001b[0m\u001b[0m\n\u001b[0;32m--> 354\u001b[0;31m         \u001b[0;32mraise\u001b[0m \u001b[0mValueError\u001b[0m\u001b[0;34m(\u001b[0m\u001b[0;34m'all input arrays must have the same shape'\u001b[0m\u001b[0;34m)\u001b[0m\u001b[0;34m\u001b[0m\u001b[0m\n\u001b[0m\u001b[1;32m    355\u001b[0m \u001b[0;34m\u001b[0m\u001b[0m\n\u001b[1;32m    356\u001b[0m     \u001b[0mresult_ndim\u001b[0m \u001b[0;34m=\u001b[0m \u001b[0marrays\u001b[0m\u001b[0;34m[\u001b[0m\u001b[0;36m0\u001b[0m\u001b[0;34m]\u001b[0m\u001b[0;34m.\u001b[0m\u001b[0mndim\u001b[0m \u001b[0;34m+\u001b[0m \u001b[0;36m1\u001b[0m\u001b[0;34m\u001b[0m\u001b[0m\n",
      "\u001b[0;31mValueError\u001b[0m: all input arrays must have the same shape"
     ]
    }
   ],
   "source": [
    "# c_labels = np.array([1 for i in range(len(c_feature_vector))]).reshape(-1,1)\n",
    "# print(c_labels.shape)\n",
    "# w_labels = np.array([0 for i in range(len(w_feature_vector))]).reshape(-1,1)\n",
    "# print(w_labels.shape)\n",
    "# labels_vector = np.stack((w_labels,c_labels))\n",
    "# print(type(labels_vector), len(labels_vector), labels_vector.shape)"
   ]
  },
  {
   "cell_type": "code",
   "execution_count": 21,
   "metadata": {},
   "outputs": [
    {
     "ename": "NameError",
     "evalue": "name 'w_labels' is not defined",
     "output_type": "error",
     "traceback": [
      "\u001b[0;31m---------------------------------------------------------------------------\u001b[0m",
      "\u001b[0;31mNameError\u001b[0m                                 Traceback (most recent call last)",
      "\u001b[0;32m<ipython-input-21-36ccb1945241>\u001b[0m in \u001b[0;36m<module>\u001b[0;34m()\u001b[0m\n\u001b[0;32m----> 1\u001b[0;31m \u001b[0mprint\u001b[0m\u001b[0;34m(\u001b[0m\u001b[0mtype\u001b[0m\u001b[0;34m(\u001b[0m\u001b[0mw_labels\u001b[0m\u001b[0;34m[\u001b[0m\u001b[0;36m5\u001b[0m\u001b[0;34m]\u001b[0m\u001b[0;34m)\u001b[0m\u001b[0;34m)\u001b[0m\u001b[0;34m\u001b[0m\u001b[0m\n\u001b[0m",
      "\u001b[0;31mNameError\u001b[0m: name 'w_labels' is not defined"
     ]
    }
   ],
   "source": [
    "# print(type(w_labels[5]))"
   ]
  },
  {
   "cell_type": "code",
   "execution_count": 59,
   "metadata": {},
   "outputs": [
    {
     "name": "stdout",
     "output_type": "stream",
     "text": [
      "(18, 1) (20, 1)\n"
     ]
    }
   ],
   "source": [
    "c_labels = np.full((len(c_feature_vector),1), 1)\n",
    "w_labels = np.full((len(w_feature_vector),1), 0)\n",
    "print(c_labels.shape, w_labels.shape)"
   ]
  },
  {
   "cell_type": "code",
   "execution_count": 60,
   "metadata": {},
   "outputs": [
    {
     "name": "stdout",
     "output_type": "stream",
     "text": [
      "<class 'numpy.ndarray'> 38 (38, 1)\n"
     ]
    }
   ],
   "source": [
    "labels_vector = np.concatenate((w_labels, c_labels))\n",
    "print(type(labels_vector), len(labels_vector), labels_vector.shape)"
   ]
  },
  {
   "cell_type": "code",
   "execution_count": 61,
   "metadata": {},
   "outputs": [
    {
     "name": "stdout",
     "output_type": "stream",
     "text": [
      "<class 'numpy.ndarray'> 38 (38, 3)\n"
     ]
    }
   ],
   "source": [
    "feature_vectors = np.concatenate((w_feature_vector, c_feature_vector))\n",
    "print(type(feature_vectors), len(feature_vectors), feature_vectors.shape)"
   ]
  },
  {
   "cell_type": "code",
   "execution_count": 62,
   "metadata": {
    "collapsed": true
   },
   "outputs": [],
   "source": [
    "X = np.copy(feature_vectors)\n",
    "Y = np.copy(labels_vector)\n",
    "Y = Y.ravel()"
   ]
  },
  {
   "cell_type": "code",
   "execution_count": 63,
   "metadata": {
    "collapsed": true
   },
   "outputs": [],
   "source": [
    "# fix random seed for reproducibility\n",
    "seed = 7\n",
    "np.random.seed(seed)"
   ]
  },
  {
   "cell_type": "code",
   "execution_count": 64,
   "metadata": {},
   "outputs": [
    {
     "name": "stdout",
     "output_type": "stream",
     "text": [
      "(38,) [0 0 0 0 0 0 0 0 0 0 0 0 0 0 0 0 0 0 0 0 1 1 1 1 1 1 1 1 1 1 1 1 1 1 1 1 1\n",
      " 1]\n"
     ]
    }
   ],
   "source": [
    "print(Y.shape, Y)"
   ]
  },
  {
   "cell_type": "code",
   "execution_count": null,
   "metadata": {},
   "outputs": [],
   "source": [
    "# ohe = OneHotEncoder()\n",
    "# Yt = Y.reshape(-1,1)\n",
    "# print(Yt)\n",
    "# Ytt = ohe.fit_transform(Yt)\n",
    "# print(Ytt.shape)\n",
    "# print(Ytt)"
   ]
  },
  {
   "cell_type": "code",
   "execution_count": 36,
   "metadata": {},
   "outputs": [
    {
     "name": "stdout",
     "output_type": "stream",
     "text": [
      "[0 0 0 0 0 0 0 0 0 0 0 0 0 0 0 0 0 0 0 0 0 0 0 0 0 0 0 0 0 0 0 0 0 0 0 0 0\n",
      " 0 0 0 0 0 0 0 0 0 0 0 0 1 1 1 1 1 1 1 1 1 1 1 1 1 1 1 1 1 1 1 1 1 1 1 1 1\n",
      " 1 1 1 1 1 1 1 1 1 1 1 1] [[0]\n",
      " [0]\n",
      " [0]\n",
      " [0]\n",
      " [0]\n",
      " [0]\n",
      " [0]\n",
      " [0]\n",
      " [0]\n",
      " [0]\n",
      " [0]\n",
      " [0]\n",
      " [0]\n",
      " [0]\n",
      " [0]\n",
      " [0]\n",
      " [0]\n",
      " [0]\n",
      " [0]\n",
      " [0]\n",
      " [0]\n",
      " [0]\n",
      " [0]\n",
      " [0]\n",
      " [0]\n",
      " [0]\n",
      " [0]\n",
      " [0]\n",
      " [0]\n",
      " [0]\n",
      " [0]\n",
      " [0]\n",
      " [0]\n",
      " [0]\n",
      " [0]\n",
      " [0]\n",
      " [0]\n",
      " [0]\n",
      " [0]\n",
      " [0]\n",
      " [0]\n",
      " [0]\n",
      " [0]\n",
      " [0]\n",
      " [0]\n",
      " [0]\n",
      " [0]\n",
      " [0]\n",
      " [0]\n",
      " [1]\n",
      " [1]\n",
      " [1]\n",
      " [1]\n",
      " [1]\n",
      " [1]\n",
      " [1]\n",
      " [1]\n",
      " [1]\n",
      " [1]\n",
      " [1]\n",
      " [1]\n",
      " [1]\n",
      " [1]\n",
      " [1]\n",
      " [1]\n",
      " [1]\n",
      " [1]\n",
      " [1]\n",
      " [1]\n",
      " [1]\n",
      " [1]\n",
      " [1]\n",
      " [1]\n",
      " [1]\n",
      " [1]\n",
      " [1]\n",
      " [1]\n",
      " [1]\n",
      " [1]\n",
      " [1]\n",
      " [1]\n",
      " [1]\n",
      " [1]\n",
      " [1]\n",
      " [1]\n",
      " [1]]\n"
     ]
    }
   ],
   "source": [
    "# print(Y,Y.reshape(-1,1))"
   ]
  },
  {
   "cell_type": "markdown",
   "metadata": {},
   "source": [
    "## Window Length = 3s"
   ]
  },
  {
   "cell_type": "code",
   "execution_count": 58,
   "metadata": {},
   "outputs": [
    {
     "name": "stdout",
     "output_type": "stream",
     "text": [
      "[[15  3]\n",
      " [ 0  0]]\n",
      "83.33333333333333\n",
      "[[13  4]\n",
      " [ 0  0]]\n",
      "76.47058823529412\n",
      "[[10  4]\n",
      " [ 1  2]]\n",
      "70.58823529411765\n",
      "[[ 0  0]\n",
      " [10  7]]\n",
      "41.1764705882353\n",
      "[[ 0  0]\n",
      " [12  5]]\n",
      "29.41176470588235\n"
     ]
    }
   ],
   "source": [
    "from sklearn.metrics import confusion_matrix\n",
    "kf = KFold(n_splits=5)\n",
    "# print(list(kf.split(X)))\n",
    "# print(list(kf.split(Y)))\n",
    "for train, test in kf.split(X):\n",
    "    XTrain, XTest, YTrain, YTest = X[train], X[test], Y[train], Y[test]\n",
    "    clf = RandomForestClassifier(n_estimators=500, random_state=seed)\n",
    "    clf = clf.fit(XTrain, YTrain)\n",
    "    YPred = clf.predict(XTest)\n",
    "    diff = YPred - YTest\n",
    "    print(confusion_matrix(YTest, YPred))\n",
    "    score = diff[diff == 0].size\n",
    "    print((100.0 * score)/(YPred.size))"
   ]
  },
  {
   "cell_type": "code",
   "execution_count": 59,
   "metadata": {},
   "outputs": [
    {
     "name": "stdout",
     "output_type": "stream",
     "text": [
      "[[8 2]\n",
      " [1 7]]\n",
      "83.33333333333333\n",
      "[[9 1]\n",
      " [2 6]]\n",
      "83.33333333333333\n",
      "[[6 4]\n",
      " [1 6]]\n",
      "70.58823529411765\n",
      "[[10  0]\n",
      " [ 0  7]]\n",
      "100.0\n",
      "[[5 4]\n",
      " [4 3]]\n",
      "50.0\n"
     ]
    }
   ],
   "source": [
    "skf = StratifiedKFold(n_splits=5)\n",
    "# print(list(kf.split(X)))\n",
    "# print(list(kf.split(Y)))\n",
    "for train, test in skf.split(X,Y):\n",
    "    XTrain, XTest, YTrain, YTest = X[train], X[test], Y[train], Y[test]\n",
    "    clf = RandomForestClassifier(n_estimators=1500, random_state=seed)\n",
    "    clf = clf.fit(XTrain, YTrain)\n",
    "    YPred = clf.predict(XTest)\n",
    "    diff = YPred - YTest\n",
    "#     print(diff)\n",
    "    print(confusion_matrix(YTest, YPred))\n",
    "    score = diff[diff == 0].size\n",
    "    print((100.0 * score)/(YPred.size))"
   ]
  },
  {
   "cell_type": "markdown",
   "metadata": {},
   "source": [
    "## Window Length = 5s"
   ]
  },
  {
   "cell_type": "code",
   "execution_count": 28,
   "metadata": {},
   "outputs": [
    {
     "name": "stdout",
     "output_type": "stream",
     "text": [
      "[[9 2]\n",
      " [0 0]]\n",
      "81.81818181818181\n",
      "[[10  1]\n",
      " [ 0  0]]\n",
      "90.9090909090909\n",
      "[[4 4]\n",
      " [0 3]]\n",
      "63.63636363636363\n",
      "[[0 0]\n",
      " [7 4]]\n",
      "36.36363636363637\n",
      "[[0 0]\n",
      " [7 3]]\n",
      "30.0\n"
     ]
    }
   ],
   "source": [
    "from sklearn.metrics import confusion_matrix\n",
    "kf = KFold(n_splits=5)\n",
    "# print(list(kf.split(X)))\n",
    "# print(list(kf.split(Y)))\n",
    "for train, test in kf.split(X):\n",
    "    XTrain, XTest, YTrain, YTest = X[train], X[test], Y[train], Y[test]\n",
    "    clf = RandomForestClassifier(n_estimators=500, random_state=seed)\n",
    "    clf = clf.fit(XTrain, YTrain)\n",
    "    YPred = clf.predict(XTest)\n",
    "    diff = YPred - YTest\n",
    "    print(confusion_matrix(YTest, YPred))\n",
    "    score = diff[diff == 0].size\n",
    "    print((100.0 * score)/(YPred.size))"
   ]
  },
  {
   "cell_type": "code",
   "execution_count": 29,
   "metadata": {},
   "outputs": [
    {
     "name": "stdout",
     "output_type": "stream",
     "text": [
      "[[6 0]\n",
      " [1 4]]\n",
      "90.9090909090909\n",
      "[[5 1]\n",
      " [0 5]]\n",
      "90.9090909090909\n",
      "[[5 1]\n",
      " [1 4]]\n",
      "81.81818181818181\n",
      "[[6 0]\n",
      " [1 4]]\n",
      "90.9090909090909\n",
      "[[4 2]\n",
      " [2 2]]\n",
      "60.0\n"
     ]
    }
   ],
   "source": [
    "skf = StratifiedKFold(n_splits=5)\n",
    "# print(list(kf.split(X)))\n",
    "# print(list(kf.split(Y)))\n",
    "for train, test in skf.split(X,Y):\n",
    "    XTrain, XTest, YTrain, YTest = X[train], X[test], Y[train], Y[test]\n",
    "    clf = RandomForestClassifier(n_estimators=1500, random_state=seed)\n",
    "    clf = clf.fit(XTrain, YTrain)\n",
    "    YPred = clf.predict(XTest)\n",
    "    diff = YPred - YTest\n",
    "#     print(diff)\n",
    "    print(confusion_matrix(YTest, YPred))\n",
    "    score = diff[diff == 0].size\n",
    "    print((100.0 * score)/(YPred.size))"
   ]
  },
  {
   "cell_type": "markdown",
   "metadata": {},
   "source": [
    "## Window Length = 10s"
   ]
  },
  {
   "cell_type": "code",
   "execution_count": 47,
   "metadata": {},
   "outputs": [
    {
     "name": "stdout",
     "output_type": "stream",
     "text": [
      "[[6]]\n",
      "100.0\n",
      "[[5 1]\n",
      " [0 0]]\n",
      "83.33333333333333\n",
      "[[2 2]\n",
      " [0 2]]\n",
      "66.66666666666667\n",
      "[[0 0]\n",
      " [2 4]]\n",
      "66.66666666666667\n",
      "[[0 0]\n",
      " [3 3]]\n",
      "50.0\n"
     ]
    }
   ],
   "source": [
    "from sklearn.metrics import confusion_matrix\n",
    "kf = KFold(n_splits=5)\n",
    "# print(list(kf.split(X)))\n",
    "# print(list(kf.split(Y)))\n",
    "for train, test in kf.split(X):\n",
    "    XTrain, XTest, YTrain, YTest = X[train], X[test], Y[train], Y[test]\n",
    "    clf = RandomForestClassifier(n_estimators=500, random_state=seed)\n",
    "    clf = clf.fit(XTrain, YTrain)\n",
    "    YPred = clf.predict(XTest)\n",
    "    diff = YPred - YTest\n",
    "    print(confusion_matrix(YTest, YPred))\n",
    "    score = diff[diff == 0].size\n",
    "    print((100.0 * score)/(YPred.size))"
   ]
  },
  {
   "cell_type": "code",
   "execution_count": 48,
   "metadata": {},
   "outputs": [
    {
     "name": "stdout",
     "output_type": "stream",
     "text": [
      "[[4 0]\n",
      " [1 2]]\n",
      "85.71428571428571\n",
      "[[3 0]\n",
      " [0 3]]\n",
      "100.0\n",
      "[[2 1]\n",
      " [1 2]]\n",
      "66.66666666666667\n",
      "[[3 0]\n",
      " [1 2]]\n",
      "83.33333333333333\n",
      "[[1 2]\n",
      " [0 2]]\n",
      "60.0\n"
     ]
    }
   ],
   "source": [
    "skf = StratifiedKFold(n_splits=5)\n",
    "# print(list(kf.split(X)))\n",
    "# print(list(kf.split(Y)))\n",
    "for train, test in skf.split(X,Y):\n",
    "    XTrain, XTest, YTrain, YTest = X[train], X[test], Y[train], Y[test]\n",
    "    clf = RandomForestClassifier(n_estimators=1500, random_state=seed)\n",
    "    clf = clf.fit(XTrain, YTrain)\n",
    "    YPred = clf.predict(XTest)\n",
    "    diff = YPred - YTest\n",
    "#     print(diff)\n",
    "    print(confusion_matrix(YTest, YPred))\n",
    "    score = diff[diff == 0].size\n",
    "    print((100.0 * score)/(YPred.size))"
   ]
  },
  {
   "cell_type": "markdown",
   "metadata": {},
   "source": [
    "## Window length = 7.5"
   ]
  },
  {
   "cell_type": "code",
   "execution_count": 65,
   "metadata": {},
   "outputs": [
    {
     "name": "stdout",
     "output_type": "stream",
     "text": [
      "[[7 1]\n",
      " [0 0]]\n",
      "87.5\n",
      "[[6 2]\n",
      " [0 0]]\n",
      "75.0\n",
      "[[2 2]\n",
      " [1 3]]\n",
      "62.5\n",
      "[[0 0]\n",
      " [3 4]]\n",
      "57.142857142857146\n",
      "[[0 0]\n",
      " [5 2]]\n",
      "28.571428571428573\n"
     ]
    }
   ],
   "source": [
    "from sklearn.metrics import confusion_matrix\n",
    "kf = KFold(n_splits=5)\n",
    "# print(list(kf.split(X)))\n",
    "# print(list(kf.split(Y)))\n",
    "for train, test in kf.split(X):\n",
    "    XTrain, XTest, YTrain, YTest = X[train], X[test], Y[train], Y[test]\n",
    "    clf = RandomForestClassifier(n_estimators=500, random_state=seed)\n",
    "    clf = clf.fit(XTrain, YTrain)\n",
    "    YPred = clf.predict(XTest)\n",
    "    diff = YPred - YTest\n",
    "    print(confusion_matrix(YTest, YPred))\n",
    "    score = diff[diff == 0].size\n",
    "    print((100.0 * score)/(YPred.size))"
   ]
  },
  {
   "cell_type": "code",
   "execution_count": 66,
   "metadata": {},
   "outputs": [
    {
     "name": "stdout",
     "output_type": "stream",
     "text": [
      "[[4 0]\n",
      " [1 3]]\n",
      "87.5\n",
      "[[3 1]\n",
      " [1 3]]\n",
      "75.0\n",
      "[[3 1]\n",
      " [2 2]]\n",
      "62.5\n",
      "[[4 0]\n",
      " [0 3]]\n",
      "100.0\n",
      "[[3 1]\n",
      " [3 0]]\n",
      "42.857142857142854\n"
     ]
    }
   ],
   "source": [
    "skf = StratifiedKFold(n_splits=5)\n",
    "# print(list(kf.split(X)))\n",
    "# print(list(kf.split(Y)))\n",
    "for train, test in skf.split(X,Y):\n",
    "    XTrain, XTest, YTrain, YTest = X[train], X[test], Y[train], Y[test]\n",
    "    clf = RandomForestClassifier(n_estimators=1500, random_state=seed)\n",
    "    clf = clf.fit(XTrain, YTrain)\n",
    "    YPred = clf.predict(XTest)\n",
    "    diff = YPred - YTest\n",
    "#     print(diff)\n",
    "    print(confusion_matrix(YTest, YPred))\n",
    "    score = diff[diff == 0].size\n",
    "    print((100.0 * score)/(YPred.size))"
   ]
  }
 ],
 "metadata": {
  "kernelspec": {
   "display_name": "Python 3",
   "language": "python",
   "name": "python3"
  },
  "language_info": {
   "codemirror_mode": {
    "name": "ipython",
    "version": 3
   },
   "file_extension": ".py",
   "mimetype": "text/x-python",
   "name": "python",
   "nbconvert_exporter": "python",
   "pygments_lexer": "ipython3",
   "version": "3.5.3"
  }
 },
 "nbformat": 4,
 "nbformat_minor": 2
}
